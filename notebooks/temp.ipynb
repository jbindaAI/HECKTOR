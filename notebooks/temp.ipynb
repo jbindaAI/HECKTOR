{
 "cells": [
  {
   "cell_type": "code",
   "execution_count": 4,
   "id": "917e476d",
   "metadata": {},
   "outputs": [],
   "source": [
    "from hecktor_survival.lightning_modules.model_modulev2 import HECKTORModel"
   ]
  },
  {
   "cell_type": "code",
   "execution_count": null,
   "id": "965e6c74",
   "metadata": {},
   "outputs": [],
   "source": [
    "class HECKTORModel(LightningModule):\n",
    "    \"\"\"\n",
    "    Unified model for survival and cancer area regression training.\n",
    "    \"\"\"\n",
    "    def __init__(\n",
    "        self,\n",
    "        model_type: Literal[\"vanilla_vit\", \"deit_vit\", \"dino_vit\", \"dino_v2\", \"clip\"],\n",
    "        training_mode: Literal[\"vanilla\", \"simplified\", \"advanced\"],\n",
    "        load_pretrained: bool = False,\n",
    "        backbone_dropout: float = 0.0,\n",
    "        tie_method: Literal[\"breslow\", \"efron\"] = \"breslow\",\n",
    "        lr: float = 1e-3,\n",
    "        weight_decay: float = 0.01,\n",
    "        warmup_iters: int = 100,\n",
    "        total_iters: int = 1000,\n",
    "        aux_loss_weight: float = 0.3,\n",
    "    ):"
   ]
  },
  {
   "cell_type": "code",
   "execution_count": 6,
   "id": "bc4faba1",
   "metadata": {},
   "outputs": [
    {
     "name": "stderr",
     "output_type": "stream",
     "text": [
      "Some weights of ViTModel were not initialized from the model checkpoint at google/vit-base-patch16-224 and are newly initialized: ['pooler.dense.bias', 'pooler.dense.weight']\n",
      "You should probably TRAIN this model on a down-stream task to be able to use it for predictions and inference.\n"
     ]
    }
   ],
   "source": [
    "model = HECKTORModel(\n",
    "    model_type=\"vanilla_vit\",\n",
    "    training_mode=\"vanilla\",\n",
    "    load_pretrained=True,\n",
    "    backbone_dropout=0.12,\n",
    "    tie_method=\"breslow\",\n",
    ")"
   ]
  },
  {
   "cell_type": "code",
   "execution_count": 7,
   "id": "5b576f05",
   "metadata": {},
   "outputs": [
    {
     "data": {
      "text/plain": [
       "HECKTORModel(\n",
       "  (backbone): VisionTransformer(\n",
       "    (backbone): ViTModel(\n",
       "      (embeddings): ViTEmbeddings(\n",
       "        (patch_embeddings): ViTPatchEmbeddings(\n",
       "          (projection): Conv2d(3, 768, kernel_size=(16, 16), stride=(16, 16))\n",
       "        )\n",
       "        (dropout): Dropout(p=0.12, inplace=False)\n",
       "      )\n",
       "      (encoder): ViTEncoder(\n",
       "        (layer): ModuleList(\n",
       "          (0-11): 12 x ViTLayer(\n",
       "            (attention): ViTAttention(\n",
       "              (attention): ViTSelfAttention(\n",
       "                (query): Linear(in_features=768, out_features=768, bias=True)\n",
       "                (key): Linear(in_features=768, out_features=768, bias=True)\n",
       "                (value): Linear(in_features=768, out_features=768, bias=True)\n",
       "              )\n",
       "              (output): ViTSelfOutput(\n",
       "                (dense): Linear(in_features=768, out_features=768, bias=True)\n",
       "                (dropout): Dropout(p=0.12, inplace=False)\n",
       "              )\n",
       "            )\n",
       "            (intermediate): ViTIntermediate(\n",
       "              (dense): Linear(in_features=768, out_features=3072, bias=True)\n",
       "              (intermediate_act_fn): GELUActivation()\n",
       "            )\n",
       "            (output): ViTOutput(\n",
       "              (dense): Linear(in_features=3072, out_features=768, bias=True)\n",
       "              (dropout): Dropout(p=0.12, inplace=False)\n",
       "            )\n",
       "            (layernorm_before): LayerNorm((768,), eps=1e-12, elementwise_affine=True)\n",
       "            (layernorm_after): LayerNorm((768,), eps=1e-12, elementwise_affine=True)\n",
       "          )\n",
       "        )\n",
       "      )\n",
       "      (layernorm): LayerNorm((768,), eps=1e-12, elementwise_affine=True)\n",
       "      (pooler): ViTPooler(\n",
       "        (dense): Linear(in_features=768, out_features=768, bias=True)\n",
       "        (activation): Tanh()\n",
       "      )\n",
       "    )\n",
       "  )\n",
       "  (rfs_head): Sequential(\n",
       "    (0): Linear(in_features=768, out_features=256, bias=True)\n",
       "    (1): ReLU()\n",
       "    (2): Linear(in_features=256, out_features=64, bias=True)\n",
       "    (3): ReLU()\n",
       "    (4): Linear(in_features=64, out_features=1, bias=True)\n",
       "    (5): ReLU()\n",
       "  )\n",
       "  (area_head): Sequential(\n",
       "    (0): Linear(in_features=768, out_features=256, bias=True)\n",
       "    (1): ReLU()\n",
       "    (2): Linear(in_features=256, out_features=64, bias=True)\n",
       "    (3): ReLU()\n",
       "    (4): Linear(in_features=64, out_features=1, bias=True)\n",
       "    (5): Sigmoid()\n",
       "  )\n",
       "  (surv_loss): CoxPHLoss()\n",
       ")"
      ]
     },
     "execution_count": 7,
     "metadata": {},
     "output_type": "execute_result"
    }
   ],
   "source": [
    "model"
   ]
  },
  {
   "cell_type": "code",
   "execution_count": null,
   "id": "cf3f6143",
   "metadata": {},
   "outputs": [],
   "source": []
  }
 ],
 "metadata": {
  "kernelspec": {
   "display_name": ".venv",
   "language": "python",
   "name": "python3"
  },
  "language_info": {
   "codemirror_mode": {
    "name": "ipython",
    "version": 3
   },
   "file_extension": ".py",
   "mimetype": "text/x-python",
   "name": "python",
   "nbconvert_exporter": "python",
   "pygments_lexer": "ipython3",
   "version": "3.12.3"
  }
 },
 "nbformat": 4,
 "nbformat_minor": 5
}
