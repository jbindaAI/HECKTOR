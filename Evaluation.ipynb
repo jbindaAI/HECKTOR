{
 "cells": [
  {
   "cell_type": "markdown",
   "id": "1f1e08bf-c7f4-4e3b-8e08-75a3bcaa1735",
   "metadata": {},
   "source": [
    "# Evaluation of trained models"
   ]
  },
  {
   "cell_type": "code",
   "execution_count": 1,
   "id": "04775ed6-b8d6-495a-a44e-5b5c3405ebb2",
   "metadata": {},
   "outputs": [],
   "source": [
    "from prettytable import PrettyTable\n",
    "from typing import Optional, Dict, Union, Literal\n",
    "import torch\n",
    "import pytorch_lightning as pl\n",
    "import pandas as pd"
   ]
  },
  {
   "cell_type": "code",
   "execution_count": 2,
   "id": "7f51be94-6a90-4a2b-af9d-7204a705d75c",
   "metadata": {},
   "outputs": [],
   "source": [
    "%load_ext autoreload\n",
    "%autoreload 2\n",
    "\n",
    "from HECKTOR_Dataset import Mode, Modality\n",
    "from HECKTOR_DataModule import HECKTOR_DataModule\n",
    "from HECKTOR_Model import HECKTOR_Model, PCA_HECKTOR_Model"
   ]
  },
  {
   "cell_type": "code",
   "execution_count": 3,
   "id": "78b39e3e-7a99-43ff-89fe-6317f6e119cf",
   "metadata": {},
   "outputs": [],
   "source": [
    "# Testing hyperparameters:\n",
    "DATA_PATH = \"/home/dzban112/HECKTOR/Data/\"\n",
    "CHECKPOINTS_PATH=\"/home/dzban112/HECKTOR/ckpt/\"\n",
    "BATCH_SIZE = 16\n",
    "NUM_WORKERS = 4\n",
    "SELECTED_TRAIN_TRANSFORMS = [\"elastic\", \"histogram\"] # Test images will be also cropped to specified ROI. "
   ]
  },
  {
   "cell_type": "markdown",
   "id": "d39be027-ecbf-4507-8823-3a2d4ce04748",
   "metadata": {
    "jp-MarkdownHeadingCollapsed": true
   },
   "source": [
    "## Evaluation"
   ]
  },
  {
   "cell_type": "code",
   "execution_count": 5,
   "id": "72ab09ce-338a-4dc2-9d6c-2d9e142f8035",
   "metadata": {},
   "outputs": [],
   "source": [
    "def model_evaluation(model_name:str, version:Optional[str]=None):\n",
    "    \"\"\"\n",
    "    Evaluates Hecktor model on the test set.\n",
    "    \"\"\"\n",
    "    res={}\n",
    "    def _setup(fold:Union[int, Literal[\"all\"]]=1):\n",
    "        # DataModule setup:\n",
    "        dm = HECKTOR_DataModule(\n",
    "            fold=fold,\n",
    "            data_path=DATA_PATH,\n",
    "            batch_size=BATCH_SIZE,\n",
    "            num_workers=NUM_WORKERS,\n",
    "            selected_train_transforms=SELECTED_TRAIN_TRANSFORMS,\n",
    "            modality=MODALITY\n",
    "        )\n",
    "        \n",
    "        if version is None:\n",
    "            ckpt_path = CHECKPOINTS_PATH+model_name+f\"_{fold}\"+\".ckpt\"\n",
    "        else:\n",
    "            ckpt_path = CHECKPOINTS_PATH+model_name+f\"_{fold}\"+f\"-{version}\"+\".ckpt\"\n",
    "        # Model setup:\n",
    "        model = HECKTOR_Model.load_from_checkpoint(ckpt_path)\n",
    "        # Trainer setup:\n",
    "        torch.set_float32_matmul_precision('medium')\n",
    "        trainer = pl.Trainer(accelerator=\"gpu\", devices=1, precision=32, logger=False)\n",
    "        \n",
    "        return dm, model, trainer\n",
    "\n",
    "    # Evaluating models trained on 5CV training sets:\n",
    "    for fold in range(1, 6):\n",
    "        dm, model, trainer = _setup(fold=fold)\n",
    "        model.eval()\n",
    "        res[f\"val_fold_{fold}\"] = trainer.validate(model, dm)\n",
    "        res[f\"test_fold_{fold}\"] = trainer.test(model, dm)\n",
    "\n",
    "    if version == None:\n",
    "        # Evaluating model trained on the whole training set:\n",
    "        fold=\"all\"\n",
    "        dm, model, trainer = _setup(fold=fold)\n",
    "        model.eval()\n",
    "        res[\"test_all\"] = trainer.test(model, dm)\n",
    "        \n",
    "    return res\n",
    "\n",
    "\n",
    "def compute_results(raw_results:Dict[str, list]):\n",
    "    val_c_index = []\n",
    "    test_c_index = []\n",
    "    test_loss = []\n",
    "    folds = []\n",
    "\n",
    "    for fold in range(1,6):\n",
    "        curr_val_c_index = round(raw_results[f\"val_fold_{fold}\"][0][\"val_C-index\"],3)\n",
    "        curr_test_c_index = round(raw_results[f\"test_fold_{fold}\"][0][\"test_C-index\"],3)\n",
    "        curr_test_loss = round(raw_results[f\"test_fold_{fold}\"][0][\"test_loss\"],3)\n",
    "        val_c_index.append(curr_val_c_index)\n",
    "        test_c_index.append(curr_test_c_index)\n",
    "        test_loss.append(curr_test_loss)\n",
    "        folds.append(f\"Fold {fold}\")\n",
    "\n",
    "    # Results of model trained on the whole train set:\n",
    "    if \"test_all\" in raw_results.keys():\n",
    "        val_c_index.append(\"NA\")\n",
    "        test_c_index.append(round(raw_results[\"test_all\"][0][\"test_C-index\"],3))\n",
    "        test_loss.append(round(raw_results[\"test_all\"][0][\"test_loss\"],3))\n",
    "        folds.append(\"All train set\")\n",
    "\n",
    "    df = pd.DataFrame({\"Fold\": folds, \"Test C-index\": test_c_index, \"Val C-index\": val_c_index, \"Test loss\": test_loss})\n",
    "    \n",
    "    table = PrettyTable()\n",
    "    table.field_names = df.columns.tolist()\n",
    "\n",
    "    for row in df.itertuples(index=False):\n",
    "        table.add_row(row)\n",
    "\n",
    "    for field in df.columns:\n",
    "        table.align[field] = 'l'\n",
    "    \n",
    "    return table"
   ]
  },
  {
   "cell_type": "markdown",
   "id": "edafcbb7-6f6e-4df5-a53b-ffa1288b4277",
   "metadata": {
    "jp-MarkdownHeadingCollapsed": true
   },
   "source": [
    "### DINO_ViTs8 - only CT"
   ]
  },
  {
   "cell_type": "markdown",
   "id": "ed761d9b-19d9-40e5-b317-62d68dc8866d",
   "metadata": {},
   "source": [
    "##### Version 0"
   ]
  },
  {
   "cell_type": "code",
   "execution_count": null,
   "id": "3dde5c07-a86d-4c88-95d1-16c406480fb0",
   "metadata": {
    "scrolled": true
   },
   "outputs": [],
   "source": [
    "# version 0\n",
    "MODALITY = Modality.CT\n",
    "res = model_evaluation(\"dino_vits8_1\")"
   ]
  },
  {
   "cell_type": "code",
   "execution_count": 7,
   "id": "1409ee11-a96c-4a6b-9c2a-647af16173d8",
   "metadata": {},
   "outputs": [
    {
     "data": {
      "text/html": [
       "<table>\n",
       "    <thead>\n",
       "        <tr>\n",
       "            <th>Fold</th>\n",
       "            <th>Test C-index</th>\n",
       "            <th>Val C-index</th>\n",
       "            <th>Test loss</th>\n",
       "        </tr>\n",
       "    </thead>\n",
       "    <tbody>\n",
       "        <tr>\n",
       "            <td>Fold 1</td>\n",
       "            <td>0.531</td>\n",
       "            <td>0.544</td>\n",
       "            <td>2.531</td>\n",
       "        </tr>\n",
       "        <tr>\n",
       "            <td>Fold 2</td>\n",
       "            <td>0.569</td>\n",
       "            <td>0.667</td>\n",
       "            <td>2.529</td>\n",
       "        </tr>\n",
       "        <tr>\n",
       "            <td>Fold 3</td>\n",
       "            <td>0.505</td>\n",
       "            <td>0.597</td>\n",
       "            <td>2.559</td>\n",
       "        </tr>\n",
       "        <tr>\n",
       "            <td>Fold 4</td>\n",
       "            <td>0.547</td>\n",
       "            <td>0.58</td>\n",
       "            <td>2.526</td>\n",
       "        </tr>\n",
       "        <tr>\n",
       "            <td>Fold 5</td>\n",
       "            <td>0.533</td>\n",
       "            <td>0.552</td>\n",
       "            <td>2.536</td>\n",
       "        </tr>\n",
       "        <tr>\n",
       "            <td>All train set</td>\n",
       "            <td>0.554</td>\n",
       "            <td>NA</td>\n",
       "            <td>2.535</td>\n",
       "        </tr>\n",
       "    </tbody>\n",
       "</table>"
      ],
      "text/plain": [
       "+---------------+--------------+-------------+-----------+\n",
       "| Fold          | Test C-index | Val C-index | Test loss |\n",
       "+---------------+--------------+-------------+-----------+\n",
       "| Fold 1        | 0.531        | 0.544       | 2.531     |\n",
       "| Fold 2        | 0.569        | 0.667       | 2.529     |\n",
       "| Fold 3        | 0.505        | 0.597       | 2.559     |\n",
       "| Fold 4        | 0.547        | 0.58        | 2.526     |\n",
       "| Fold 5        | 0.533        | 0.552       | 2.536     |\n",
       "| All train set | 0.554        | NA          | 2.535     |\n",
       "+---------------+--------------+-------------+-----------+"
      ]
     },
     "execution_count": 7,
     "metadata": {},
     "output_type": "execute_result"
    }
   ],
   "source": [
    "compute_results(res)"
   ]
  },
  {
   "cell_type": "markdown",
   "id": "25a34b9e-6f0a-4c54-a542-c56df8ae5728",
   "metadata": {},
   "source": [
    "##### Version 1"
   ]
  },
  {
   "cell_type": "code",
   "execution_count": null,
   "id": "477c9602-5135-4260-886c-7f2ff9af6eb9",
   "metadata": {
    "scrolled": true
   },
   "outputs": [],
   "source": [
    "# version 1\n",
    "MODALITY = Modality.CT\n",
    "res = model_evaluation(\"dino_vits8_1\", \"v1\")"
   ]
  },
  {
   "cell_type": "code",
   "execution_count": 11,
   "id": "dc90eea0-8577-4d18-afaf-de8c9ab3aa65",
   "metadata": {},
   "outputs": [
    {
     "data": {
      "text/html": [
       "<table>\n",
       "    <thead>\n",
       "        <tr>\n",
       "            <th>Fold</th>\n",
       "            <th>Test C-index</th>\n",
       "            <th>Val C-index</th>\n",
       "            <th>Test loss</th>\n",
       "        </tr>\n",
       "    </thead>\n",
       "    <tbody>\n",
       "        <tr>\n",
       "            <td>Fold 1</td>\n",
       "            <td>0.571</td>\n",
       "            <td>0.521</td>\n",
       "            <td>2.542</td>\n",
       "        </tr>\n",
       "        <tr>\n",
       "            <td>Fold 2</td>\n",
       "            <td>0.57</td>\n",
       "            <td>0.665</td>\n",
       "            <td>2.529</td>\n",
       "        </tr>\n",
       "        <tr>\n",
       "            <td>Fold 3</td>\n",
       "            <td>0.468</td>\n",
       "            <td>0.589</td>\n",
       "            <td>2.527</td>\n",
       "        </tr>\n",
       "        <tr>\n",
       "            <td>Fold 4</td>\n",
       "            <td>0.548</td>\n",
       "            <td>0.579</td>\n",
       "            <td>2.526</td>\n",
       "        </tr>\n",
       "        <tr>\n",
       "            <td>Fold 5</td>\n",
       "            <td>0.543</td>\n",
       "            <td>0.555</td>\n",
       "            <td>2.535</td>\n",
       "        </tr>\n",
       "    </tbody>\n",
       "</table>"
      ],
      "text/plain": [
       "+--------+--------------+-------------+-----------+\n",
       "| Fold   | Test C-index | Val C-index | Test loss |\n",
       "+--------+--------------+-------------+-----------+\n",
       "| Fold 1 | 0.571        | 0.521       | 2.542     |\n",
       "| Fold 2 | 0.57         | 0.665       | 2.529     |\n",
       "| Fold 3 | 0.468        | 0.589       | 2.527     |\n",
       "| Fold 4 | 0.548        | 0.579       | 2.526     |\n",
       "| Fold 5 | 0.543        | 0.555       | 2.535     |\n",
       "+--------+--------------+-------------+-----------+"
      ]
     },
     "execution_count": 11,
     "metadata": {},
     "output_type": "execute_result"
    }
   ],
   "source": [
    "compute_results(res)"
   ]
  },
  {
   "cell_type": "markdown",
   "id": "abeef9af-e1c3-4c9f-afbc-d32df678a5be",
   "metadata": {},
   "source": [
    "##### Version 2"
   ]
  },
  {
   "cell_type": "code",
   "execution_count": null,
   "id": "c76e138f-d016-490f-aa3a-a64f947a84f2",
   "metadata": {
    "scrolled": true
   },
   "outputs": [],
   "source": [
    "# version 2\n",
    "MODALITY = Modality.CT\n",
    "res = model_evaluation(\"dino_vits8_1\", \"v2\")"
   ]
  },
  {
   "cell_type": "code",
   "execution_count": 13,
   "id": "ddc3f135-c9fd-4b38-9962-1c2c9572f5cc",
   "metadata": {},
   "outputs": [
    {
     "data": {
      "text/html": [
       "<table>\n",
       "    <thead>\n",
       "        <tr>\n",
       "            <th>Fold</th>\n",
       "            <th>Test C-index</th>\n",
       "            <th>Val C-index</th>\n",
       "            <th>Test loss</th>\n",
       "        </tr>\n",
       "    </thead>\n",
       "    <tbody>\n",
       "        <tr>\n",
       "            <td>Fold 1</td>\n",
       "            <td>0.538</td>\n",
       "            <td>0.529</td>\n",
       "            <td>2.532</td>\n",
       "        </tr>\n",
       "        <tr>\n",
       "            <td>Fold 2</td>\n",
       "            <td>0.57</td>\n",
       "            <td>0.665</td>\n",
       "            <td>2.529</td>\n",
       "        </tr>\n",
       "        <tr>\n",
       "            <td>Fold 3</td>\n",
       "            <td>0.536</td>\n",
       "            <td>0.571</td>\n",
       "            <td>2.528</td>\n",
       "        </tr>\n",
       "        <tr>\n",
       "            <td>Fold 4</td>\n",
       "            <td>0.548</td>\n",
       "            <td>0.579</td>\n",
       "            <td>2.526</td>\n",
       "        </tr>\n",
       "        <tr>\n",
       "            <td>Fold 5</td>\n",
       "            <td>0.555</td>\n",
       "            <td>0.555</td>\n",
       "            <td>2.532</td>\n",
       "        </tr>\n",
       "    </tbody>\n",
       "</table>"
      ],
      "text/plain": [
       "+--------+--------------+-------------+-----------+\n",
       "| Fold   | Test C-index | Val C-index | Test loss |\n",
       "+--------+--------------+-------------+-----------+\n",
       "| Fold 1 | 0.538        | 0.529       | 2.532     |\n",
       "| Fold 2 | 0.57         | 0.665       | 2.529     |\n",
       "| Fold 3 | 0.536        | 0.571       | 2.528     |\n",
       "| Fold 4 | 0.548        | 0.579       | 2.526     |\n",
       "| Fold 5 | 0.555        | 0.555       | 2.532     |\n",
       "+--------+--------------+-------------+-----------+"
      ]
     },
     "execution_count": 13,
     "metadata": {},
     "output_type": "execute_result"
    }
   ],
   "source": [
    "compute_results(res)"
   ]
  },
  {
   "cell_type": "markdown",
   "id": "a2a83a6a-76a1-4cb0-adaa-04f490d940ea",
   "metadata": {
    "jp-MarkdownHeadingCollapsed": true
   },
   "source": [
    "### DINO_ViTs8 - Both CT and PET"
   ]
  },
  {
   "cell_type": "markdown",
   "id": "dc1e58b7-4719-4288-9bb3-1187666cec3b",
   "metadata": {},
   "source": [
    "##### Version 0"
   ]
  },
  {
   "cell_type": "code",
   "execution_count": null,
   "id": "b2670f67-6562-4b94-ae49-3ab699ef706e",
   "metadata": {
    "scrolled": true
   },
   "outputs": [],
   "source": [
    "# version 0\n",
    "MODALITY = Modality.BOTH\n",
    "res = model_evaluation(\"dino_vits8_3\")"
   ]
  },
  {
   "cell_type": "code",
   "execution_count": 15,
   "id": "40ac4fab-e79f-462a-80d1-77462499c49b",
   "metadata": {},
   "outputs": [
    {
     "data": {
      "text/html": [
       "<table>\n",
       "    <thead>\n",
       "        <tr>\n",
       "            <th>Fold</th>\n",
       "            <th>Test C-index</th>\n",
       "            <th>Val C-index</th>\n",
       "            <th>Test loss</th>\n",
       "        </tr>\n",
       "    </thead>\n",
       "    <tbody>\n",
       "        <tr>\n",
       "            <td>Fold 1</td>\n",
       "            <td>0.577</td>\n",
       "            <td>0.658</td>\n",
       "            <td>2.536</td>\n",
       "        </tr>\n",
       "        <tr>\n",
       "            <td>Fold 2</td>\n",
       "            <td>0.549</td>\n",
       "            <td>0.509</td>\n",
       "            <td>2.527</td>\n",
       "        </tr>\n",
       "        <tr>\n",
       "            <td>Fold 3</td>\n",
       "            <td>0.571</td>\n",
       "            <td>0.637</td>\n",
       "            <td>2.612</td>\n",
       "        </tr>\n",
       "        <tr>\n",
       "            <td>Fold 4</td>\n",
       "            <td>0.547</td>\n",
       "            <td>0.563</td>\n",
       "            <td>2.559</td>\n",
       "        </tr>\n",
       "        <tr>\n",
       "            <td>Fold 5</td>\n",
       "            <td>0.582</td>\n",
       "            <td>0.657</td>\n",
       "            <td>2.528</td>\n",
       "        </tr>\n",
       "        <tr>\n",
       "            <td>All train set</td>\n",
       "            <td>0.582</td>\n",
       "            <td>NA</td>\n",
       "            <td>2.57</td>\n",
       "        </tr>\n",
       "    </tbody>\n",
       "</table>"
      ],
      "text/plain": [
       "+---------------+--------------+-------------+-----------+\n",
       "| Fold          | Test C-index | Val C-index | Test loss |\n",
       "+---------------+--------------+-------------+-----------+\n",
       "| Fold 1        | 0.577        | 0.658       | 2.536     |\n",
       "| Fold 2        | 0.549        | 0.509       | 2.527     |\n",
       "| Fold 3        | 0.571        | 0.637       | 2.612     |\n",
       "| Fold 4        | 0.547        | 0.563       | 2.559     |\n",
       "| Fold 5        | 0.582        | 0.657       | 2.528     |\n",
       "| All train set | 0.582        | NA          | 2.57      |\n",
       "+---------------+--------------+-------------+-----------+"
      ]
     },
     "execution_count": 15,
     "metadata": {},
     "output_type": "execute_result"
    }
   ],
   "source": [
    "compute_results(res)"
   ]
  },
  {
   "cell_type": "markdown",
   "id": "88795469-5f46-42c2-8168-bd12ef57bbd4",
   "metadata": {},
   "source": [
    "##### Version 1"
   ]
  },
  {
   "cell_type": "code",
   "execution_count": null,
   "id": "a129f068-7eb5-4eae-a34e-3f41fe31ce8d",
   "metadata": {
    "scrolled": true
   },
   "outputs": [],
   "source": [
    "# version 1\n",
    "MODALITY = Modality.BOTH\n",
    "res = model_evaluation(\"dino_vits8_3\", \"v1\")"
   ]
  },
  {
   "cell_type": "code",
   "execution_count": 17,
   "id": "d428afc1-ab12-4346-9c36-4713c7696242",
   "metadata": {},
   "outputs": [
    {
     "data": {
      "text/html": [
       "<table>\n",
       "    <thead>\n",
       "        <tr>\n",
       "            <th>Fold</th>\n",
       "            <th>Test C-index</th>\n",
       "            <th>Val C-index</th>\n",
       "            <th>Test loss</th>\n",
       "        </tr>\n",
       "    </thead>\n",
       "    <tbody>\n",
       "        <tr>\n",
       "            <td>Fold 1</td>\n",
       "            <td>0.576</td>\n",
       "            <td>0.686</td>\n",
       "            <td>2.544</td>\n",
       "        </tr>\n",
       "        <tr>\n",
       "            <td>Fold 2</td>\n",
       "            <td>0.566</td>\n",
       "            <td>0.606</td>\n",
       "            <td>2.542</td>\n",
       "        </tr>\n",
       "        <tr>\n",
       "            <td>Fold 3</td>\n",
       "            <td>0.567</td>\n",
       "            <td>0.632</td>\n",
       "            <td>2.608</td>\n",
       "        </tr>\n",
       "        <tr>\n",
       "            <td>Fold 4</td>\n",
       "            <td>0.588</td>\n",
       "            <td>0.625</td>\n",
       "            <td>2.52</td>\n",
       "        </tr>\n",
       "        <tr>\n",
       "            <td>Fold 5</td>\n",
       "            <td>0.586</td>\n",
       "            <td>0.648</td>\n",
       "            <td>2.553</td>\n",
       "        </tr>\n",
       "    </tbody>\n",
       "</table>"
      ],
      "text/plain": [
       "+--------+--------------+-------------+-----------+\n",
       "| Fold   | Test C-index | Val C-index | Test loss |\n",
       "+--------+--------------+-------------+-----------+\n",
       "| Fold 1 | 0.576        | 0.686       | 2.544     |\n",
       "| Fold 2 | 0.566        | 0.606       | 2.542     |\n",
       "| Fold 3 | 0.567        | 0.632       | 2.608     |\n",
       "| Fold 4 | 0.588        | 0.625       | 2.52      |\n",
       "| Fold 5 | 0.586        | 0.648       | 2.553     |\n",
       "+--------+--------------+-------------+-----------+"
      ]
     },
     "execution_count": 17,
     "metadata": {},
     "output_type": "execute_result"
    }
   ],
   "source": [
    "compute_results(res)"
   ]
  },
  {
   "cell_type": "markdown",
   "id": "ace315bf-3295-4e0a-8ae2-c1952f9d5bf2",
   "metadata": {},
   "source": [
    "##### Version 2"
   ]
  },
  {
   "cell_type": "code",
   "execution_count": null,
   "id": "1d20c89a-be84-4d98-80bf-9a475236c88a",
   "metadata": {},
   "outputs": [],
   "source": [
    "# version 2\n",
    "MODALITY = Modality.BOTH\n",
    "res = model_evaluation(\"dino_vits8_3\", \"v2\")"
   ]
  },
  {
   "cell_type": "code",
   "execution_count": 19,
   "id": "97dea660-3cfc-4fd0-bb80-4f146b21db7d",
   "metadata": {},
   "outputs": [
    {
     "data": {
      "text/html": [
       "<table>\n",
       "    <thead>\n",
       "        <tr>\n",
       "            <th>Fold</th>\n",
       "            <th>Test C-index</th>\n",
       "            <th>Val C-index</th>\n",
       "            <th>Test loss</th>\n",
       "        </tr>\n",
       "    </thead>\n",
       "    <tbody>\n",
       "        <tr>\n",
       "            <td>Fold 1</td>\n",
       "            <td>0.573</td>\n",
       "            <td>0.675</td>\n",
       "            <td>2.541</td>\n",
       "        </tr>\n",
       "        <tr>\n",
       "            <td>Fold 2</td>\n",
       "            <td>0.566</td>\n",
       "            <td>0.578</td>\n",
       "            <td>2.538</td>\n",
       "        </tr>\n",
       "        <tr>\n",
       "            <td>Fold 3</td>\n",
       "            <td>0.564</td>\n",
       "            <td>0.647</td>\n",
       "            <td>2.542</td>\n",
       "        </tr>\n",
       "        <tr>\n",
       "            <td>Fold 4</td>\n",
       "            <td>0.574</td>\n",
       "            <td>0.584</td>\n",
       "            <td>2.529</td>\n",
       "        </tr>\n",
       "        <tr>\n",
       "            <td>Fold 5</td>\n",
       "            <td>0.587</td>\n",
       "            <td>0.717</td>\n",
       "            <td>2.571</td>\n",
       "        </tr>\n",
       "    </tbody>\n",
       "</table>"
      ],
      "text/plain": [
       "+--------+--------------+-------------+-----------+\n",
       "| Fold   | Test C-index | Val C-index | Test loss |\n",
       "+--------+--------------+-------------+-----------+\n",
       "| Fold 1 | 0.573        | 0.675       | 2.541     |\n",
       "| Fold 2 | 0.566        | 0.578       | 2.538     |\n",
       "| Fold 3 | 0.564        | 0.647       | 2.542     |\n",
       "| Fold 4 | 0.574        | 0.584       | 2.529     |\n",
       "| Fold 5 | 0.587        | 0.717       | 2.571     |\n",
       "+--------+--------------+-------------+-----------+"
      ]
     },
     "execution_count": 19,
     "metadata": {},
     "output_type": "execute_result"
    }
   ],
   "source": [
    "compute_results(res)"
   ]
  },
  {
   "cell_type": "markdown",
   "id": "b70a9eca-458f-4c18-9787-369ced6d09c3",
   "metadata": {
    "jp-MarkdownHeadingCollapsed": true
   },
   "source": [
    "### DINO_ViTs8 - CT merged with PET"
   ]
  },
  {
   "cell_type": "markdown",
   "id": "8f511047-6d11-40d6-97d6-5d8d0f5ddf49",
   "metadata": {},
   "source": [
    "##### Version 0"
   ]
  },
  {
   "cell_type": "code",
   "execution_count": null,
   "id": "1f9b9ef0-48e4-48a1-827a-3d4084e300da",
   "metadata": {
    "scrolled": true
   },
   "outputs": [],
   "source": [
    "# version 0\n",
    "MODALITY = Modality.MERGED\n",
    "res = model_evaluation(\"dino_vits8_2\")"
   ]
  },
  {
   "cell_type": "code",
   "execution_count": 21,
   "id": "4a551307-87be-4e62-8888-ce3ad13fff73",
   "metadata": {},
   "outputs": [
    {
     "data": {
      "text/html": [
       "<table>\n",
       "    <thead>\n",
       "        <tr>\n",
       "            <th>Fold</th>\n",
       "            <th>Test C-index</th>\n",
       "            <th>Val C-index</th>\n",
       "            <th>Test loss</th>\n",
       "        </tr>\n",
       "    </thead>\n",
       "    <tbody>\n",
       "        <tr>\n",
       "            <td>Fold 1</td>\n",
       "            <td>0.571</td>\n",
       "            <td>0.659</td>\n",
       "            <td>2.527</td>\n",
       "        </tr>\n",
       "        <tr>\n",
       "            <td>Fold 2</td>\n",
       "            <td>0.564</td>\n",
       "            <td>0.597</td>\n",
       "            <td>2.543</td>\n",
       "        </tr>\n",
       "        <tr>\n",
       "            <td>Fold 3</td>\n",
       "            <td>0.557</td>\n",
       "            <td>0.66</td>\n",
       "            <td>2.575</td>\n",
       "        </tr>\n",
       "        <tr>\n",
       "            <td>Fold 4</td>\n",
       "            <td>0.592</td>\n",
       "            <td>0.613</td>\n",
       "            <td>2.521</td>\n",
       "        </tr>\n",
       "        <tr>\n",
       "            <td>Fold 5</td>\n",
       "            <td>0.558</td>\n",
       "            <td>0.678</td>\n",
       "            <td>2.585</td>\n",
       "        </tr>\n",
       "        <tr>\n",
       "            <td>All train set</td>\n",
       "            <td>0.557</td>\n",
       "            <td>NA</td>\n",
       "            <td>2.536</td>\n",
       "        </tr>\n",
       "    </tbody>\n",
       "</table>"
      ],
      "text/plain": [
       "+---------------+--------------+-------------+-----------+\n",
       "| Fold          | Test C-index | Val C-index | Test loss |\n",
       "+---------------+--------------+-------------+-----------+\n",
       "| Fold 1        | 0.571        | 0.659       | 2.527     |\n",
       "| Fold 2        | 0.564        | 0.597       | 2.543     |\n",
       "| Fold 3        | 0.557        | 0.66        | 2.575     |\n",
       "| Fold 4        | 0.592        | 0.613       | 2.521     |\n",
       "| Fold 5        | 0.558        | 0.678       | 2.585     |\n",
       "| All train set | 0.557        | NA          | 2.536     |\n",
       "+---------------+--------------+-------------+-----------+"
      ]
     },
     "execution_count": 21,
     "metadata": {},
     "output_type": "execute_result"
    }
   ],
   "source": [
    "compute_results(res)"
   ]
  },
  {
   "cell_type": "markdown",
   "id": "c374e475-1064-463d-8215-6215c25f375d",
   "metadata": {},
   "source": [
    "##### Version 1"
   ]
  },
  {
   "cell_type": "code",
   "execution_count": null,
   "id": "be2ae867-6152-4d7c-ac56-984d1813d673",
   "metadata": {
    "scrolled": true
   },
   "outputs": [],
   "source": [
    "# version 1\n",
    "MODALITY = Modality.MERGED\n",
    "res = model_evaluation(\"dino_vits8_2\", \"v1\")"
   ]
  },
  {
   "cell_type": "code",
   "execution_count": 23,
   "id": "e9746c96-b4da-4d55-8a56-055c84f93b93",
   "metadata": {},
   "outputs": [
    {
     "data": {
      "text/html": [
       "<table>\n",
       "    <thead>\n",
       "        <tr>\n",
       "            <th>Fold</th>\n",
       "            <th>Test C-index</th>\n",
       "            <th>Val C-index</th>\n",
       "            <th>Test loss</th>\n",
       "        </tr>\n",
       "    </thead>\n",
       "    <tbody>\n",
       "        <tr>\n",
       "            <td>Fold 1</td>\n",
       "            <td>0.564</td>\n",
       "            <td>0.691</td>\n",
       "            <td>2.538</td>\n",
       "        </tr>\n",
       "        <tr>\n",
       "            <td>Fold 2</td>\n",
       "            <td>0.537</td>\n",
       "            <td>0.593</td>\n",
       "            <td>2.547</td>\n",
       "        </tr>\n",
       "        <tr>\n",
       "            <td>Fold 3</td>\n",
       "            <td>0.555</td>\n",
       "            <td>0.653</td>\n",
       "            <td>2.591</td>\n",
       "        </tr>\n",
       "        <tr>\n",
       "            <td>Fold 4</td>\n",
       "            <td>0.594</td>\n",
       "            <td>0.632</td>\n",
       "            <td>2.551</td>\n",
       "        </tr>\n",
       "        <tr>\n",
       "            <td>Fold 5</td>\n",
       "            <td>0.558</td>\n",
       "            <td>0.678</td>\n",
       "            <td>2.585</td>\n",
       "        </tr>\n",
       "    </tbody>\n",
       "</table>"
      ],
      "text/plain": [
       "+--------+--------------+-------------+-----------+\n",
       "| Fold   | Test C-index | Val C-index | Test loss |\n",
       "+--------+--------------+-------------+-----------+\n",
       "| Fold 1 | 0.564        | 0.691       | 2.538     |\n",
       "| Fold 2 | 0.537        | 0.593       | 2.547     |\n",
       "| Fold 3 | 0.555        | 0.653       | 2.591     |\n",
       "| Fold 4 | 0.594        | 0.632       | 2.551     |\n",
       "| Fold 5 | 0.558        | 0.678       | 2.585     |\n",
       "+--------+--------------+-------------+-----------+"
      ]
     },
     "execution_count": 23,
     "metadata": {},
     "output_type": "execute_result"
    }
   ],
   "source": [
    "compute_results(res)"
   ]
  },
  {
   "cell_type": "markdown",
   "id": "1a5e49d8-b797-4478-996a-437835222c93",
   "metadata": {},
   "source": [
    "##### Version 2"
   ]
  },
  {
   "cell_type": "code",
   "execution_count": null,
   "id": "bc2ca2f1-f424-4194-a46b-279f7e7701d0",
   "metadata": {
    "scrolled": true
   },
   "outputs": [],
   "source": [
    "# version 2\n",
    "MODALITY = Modality.MERGED\n",
    "res = model_evaluation(\"dino_vits8_2\", \"v2\")"
   ]
  },
  {
   "cell_type": "code",
   "execution_count": 25,
   "id": "6e7e3439-61c2-45d4-8de8-ce9637b93000",
   "metadata": {},
   "outputs": [
    {
     "data": {
      "text/html": [
       "<table>\n",
       "    <thead>\n",
       "        <tr>\n",
       "            <th>Fold</th>\n",
       "            <th>Test C-index</th>\n",
       "            <th>Val C-index</th>\n",
       "            <th>Test loss</th>\n",
       "        </tr>\n",
       "    </thead>\n",
       "    <tbody>\n",
       "        <tr>\n",
       "            <td>Fold 1</td>\n",
       "            <td>0.57</td>\n",
       "            <td>0.677</td>\n",
       "            <td>2.532</td>\n",
       "        </tr>\n",
       "        <tr>\n",
       "            <td>Fold 2</td>\n",
       "            <td>0.561</td>\n",
       "            <td>0.604</td>\n",
       "            <td>2.551</td>\n",
       "        </tr>\n",
       "        <tr>\n",
       "            <td>Fold 3</td>\n",
       "            <td>0.558</td>\n",
       "            <td>0.656</td>\n",
       "            <td>2.582</td>\n",
       "        </tr>\n",
       "        <tr>\n",
       "            <td>Fold 4</td>\n",
       "            <td>0.601</td>\n",
       "            <td>0.595</td>\n",
       "            <td>2.504</td>\n",
       "        </tr>\n",
       "        <tr>\n",
       "            <td>Fold 5</td>\n",
       "            <td>0.558</td>\n",
       "            <td>0.679</td>\n",
       "            <td>2.586</td>\n",
       "        </tr>\n",
       "    </tbody>\n",
       "</table>"
      ],
      "text/plain": [
       "+--------+--------------+-------------+-----------+\n",
       "| Fold   | Test C-index | Val C-index | Test loss |\n",
       "+--------+--------------+-------------+-----------+\n",
       "| Fold 1 | 0.57         | 0.677       | 2.532     |\n",
       "| Fold 2 | 0.561        | 0.604       | 2.551     |\n",
       "| Fold 3 | 0.558        | 0.656       | 2.582     |\n",
       "| Fold 4 | 0.601        | 0.595       | 2.504     |\n",
       "| Fold 5 | 0.558        | 0.679       | 2.586     |\n",
       "+--------+--------------+-------------+-----------+"
      ]
     },
     "execution_count": 25,
     "metadata": {},
     "output_type": "execute_result"
    }
   ],
   "source": [
    "compute_results(res)"
   ]
  },
  {
   "cell_type": "markdown",
   "id": "618aea97-1a61-40a4-90d2-0864e5bd04c0",
   "metadata": {},
   "source": [
    "### DINO_ViTb8 - only CT"
   ]
  },
  {
   "cell_type": "markdown",
   "id": "cf7e2ad2-2493-45d7-98fe-5c0390ef6f79",
   "metadata": {},
   "source": [
    "##### Version 0"
   ]
  },
  {
   "cell_type": "code",
   "execution_count": null,
   "id": "b27ed49f-b899-4a0c-8748-fbe815f9ba0f",
   "metadata": {
    "scrolled": true
   },
   "outputs": [],
   "source": [
    "# version 0\n",
    "MODALITY = Modality.CT\n",
    "res = model_evaluation(\"dino_vitb8_4\")"
   ]
  },
  {
   "cell_type": "code",
   "execution_count": 7,
   "id": "639150a2-fec4-4d9d-98bb-d6ffb3221248",
   "metadata": {},
   "outputs": [
    {
     "data": {
      "text/html": [
       "<table>\n",
       "    <thead>\n",
       "        <tr>\n",
       "            <th>Fold</th>\n",
       "            <th>Test C-index</th>\n",
       "            <th>Val C-index</th>\n",
       "            <th>Test loss</th>\n",
       "        </tr>\n",
       "    </thead>\n",
       "    <tbody>\n",
       "        <tr>\n",
       "            <td>Fold 1</td>\n",
       "            <td>0.453</td>\n",
       "            <td>0.541</td>\n",
       "            <td>2.783</td>\n",
       "        </tr>\n",
       "        <tr>\n",
       "            <td>Fold 2</td>\n",
       "            <td>0.513</td>\n",
       "            <td>0.58</td>\n",
       "            <td>2.721</td>\n",
       "        </tr>\n",
       "        <tr>\n",
       "            <td>Fold 3</td>\n",
       "            <td>0.51</td>\n",
       "            <td>0.609</td>\n",
       "            <td>2.531</td>\n",
       "        </tr>\n",
       "        <tr>\n",
       "            <td>Fold 4</td>\n",
       "            <td>0.542</td>\n",
       "            <td>0.585</td>\n",
       "            <td>2.535</td>\n",
       "        </tr>\n",
       "        <tr>\n",
       "            <td>Fold 5</td>\n",
       "            <td>0.563</td>\n",
       "            <td>0.56</td>\n",
       "            <td>2.528</td>\n",
       "        </tr>\n",
       "        <tr>\n",
       "            <td>All train set</td>\n",
       "            <td>0.559</td>\n",
       "            <td>NA</td>\n",
       "            <td>2.528</td>\n",
       "        </tr>\n",
       "    </tbody>\n",
       "</table>"
      ],
      "text/plain": [
       "+---------------+--------------+-------------+-----------+\n",
       "| Fold          | Test C-index | Val C-index | Test loss |\n",
       "+---------------+--------------+-------------+-----------+\n",
       "| Fold 1        | 0.453        | 0.541       | 2.783     |\n",
       "| Fold 2        | 0.513        | 0.58        | 2.721     |\n",
       "| Fold 3        | 0.51         | 0.609       | 2.531     |\n",
       "| Fold 4        | 0.542        | 0.585       | 2.535     |\n",
       "| Fold 5        | 0.563        | 0.56        | 2.528     |\n",
       "| All train set | 0.559        | NA          | 2.528     |\n",
       "+---------------+--------------+-------------+-----------+"
      ]
     },
     "execution_count": 7,
     "metadata": {},
     "output_type": "execute_result"
    }
   ],
   "source": [
    "compute_results(res)"
   ]
  },
  {
   "cell_type": "markdown",
   "id": "d46eb5fe-eb9d-418d-95a7-b01d092283b6",
   "metadata": {},
   "source": [
    "##### Version 1"
   ]
  },
  {
   "cell_type": "code",
   "execution_count": null,
   "id": "eff0d729-c52a-4900-be1f-54afc7668d27",
   "metadata": {
    "scrolled": true
   },
   "outputs": [],
   "source": [
    "MODALITY = Modality.CT\n",
    "res = model_evaluation(\"dino_vitb8_4\", \"v1\")"
   ]
  },
  {
   "cell_type": "code",
   "execution_count": 9,
   "id": "3c6dc596-c39f-4b0c-afac-60134570e73f",
   "metadata": {},
   "outputs": [
    {
     "data": {
      "text/html": [
       "<table>\n",
       "    <thead>\n",
       "        <tr>\n",
       "            <th>Fold</th>\n",
       "            <th>Test C-index</th>\n",
       "            <th>Val C-index</th>\n",
       "            <th>Test loss</th>\n",
       "        </tr>\n",
       "    </thead>\n",
       "    <tbody>\n",
       "        <tr>\n",
       "            <td>Fold 1</td>\n",
       "            <td>0.52</td>\n",
       "            <td>0.553</td>\n",
       "            <td>2.63</td>\n",
       "        </tr>\n",
       "        <tr>\n",
       "            <td>Fold 2</td>\n",
       "            <td>0.573</td>\n",
       "            <td>0.676</td>\n",
       "            <td>2.529</td>\n",
       "        </tr>\n",
       "        <tr>\n",
       "            <td>Fold 3</td>\n",
       "            <td>0.492</td>\n",
       "            <td>0.613</td>\n",
       "            <td>2.532</td>\n",
       "        </tr>\n",
       "        <tr>\n",
       "            <td>Fold 4</td>\n",
       "            <td>0.553</td>\n",
       "            <td>0.549</td>\n",
       "            <td>2.527</td>\n",
       "        </tr>\n",
       "        <tr>\n",
       "            <td>Fold 5</td>\n",
       "            <td>0.559</td>\n",
       "            <td>0.58</td>\n",
       "            <td>2.533</td>\n",
       "        </tr>\n",
       "    </tbody>\n",
       "</table>"
      ],
      "text/plain": [
       "+--------+--------------+-------------+-----------+\n",
       "| Fold   | Test C-index | Val C-index | Test loss |\n",
       "+--------+--------------+-------------+-----------+\n",
       "| Fold 1 | 0.52         | 0.553       | 2.63      |\n",
       "| Fold 2 | 0.573        | 0.676       | 2.529     |\n",
       "| Fold 3 | 0.492        | 0.613       | 2.532     |\n",
       "| Fold 4 | 0.553        | 0.549       | 2.527     |\n",
       "| Fold 5 | 0.559        | 0.58        | 2.533     |\n",
       "+--------+--------------+-------------+-----------+"
      ]
     },
     "execution_count": 9,
     "metadata": {},
     "output_type": "execute_result"
    }
   ],
   "source": [
    "compute_results(res)"
   ]
  },
  {
   "cell_type": "markdown",
   "id": "a27f1fce-fe22-4502-b39d-17fe6a1a6340",
   "metadata": {},
   "source": [
    "##### Version 2"
   ]
  },
  {
   "cell_type": "code",
   "execution_count": null,
   "id": "3035067c-2127-4931-abc1-e9cc8d9fce20",
   "metadata": {
    "scrolled": true
   },
   "outputs": [],
   "source": [
    "# version 2\n",
    "MODALITY = Modality.CT\n",
    "res = model_evaluation(\"dino_vitb8_4\", \"v2\")"
   ]
  },
  {
   "cell_type": "code",
   "execution_count": 11,
   "id": "f6d070bf-3712-4928-be1b-3504f1eb496f",
   "metadata": {},
   "outputs": [
    {
     "data": {
      "text/html": [
       "<table>\n",
       "    <thead>\n",
       "        <tr>\n",
       "            <th>Fold</th>\n",
       "            <th>Test C-index</th>\n",
       "            <th>Val C-index</th>\n",
       "            <th>Test loss</th>\n",
       "        </tr>\n",
       "    </thead>\n",
       "    <tbody>\n",
       "        <tr>\n",
       "            <td>Fold 1</td>\n",
       "            <td>0.585</td>\n",
       "            <td>0.558</td>\n",
       "            <td>2.536</td>\n",
       "        </tr>\n",
       "        <tr>\n",
       "            <td>Fold 2</td>\n",
       "            <td>0.55</td>\n",
       "            <td>0.636</td>\n",
       "            <td>2.531</td>\n",
       "        </tr>\n",
       "        <tr>\n",
       "            <td>Fold 3</td>\n",
       "            <td>0.508</td>\n",
       "            <td>0.471</td>\n",
       "            <td>2.536</td>\n",
       "        </tr>\n",
       "        <tr>\n",
       "            <td>Fold 4</td>\n",
       "            <td>0.542</td>\n",
       "            <td>0.585</td>\n",
       "            <td>2.535</td>\n",
       "        </tr>\n",
       "        <tr>\n",
       "            <td>Fold 5</td>\n",
       "            <td>0.586</td>\n",
       "            <td>0.521</td>\n",
       "            <td>2.535</td>\n",
       "        </tr>\n",
       "    </tbody>\n",
       "</table>"
      ],
      "text/plain": [
       "+--------+--------------+-------------+-----------+\n",
       "| Fold   | Test C-index | Val C-index | Test loss |\n",
       "+--------+--------------+-------------+-----------+\n",
       "| Fold 1 | 0.585        | 0.558       | 2.536     |\n",
       "| Fold 2 | 0.55         | 0.636       | 2.531     |\n",
       "| Fold 3 | 0.508        | 0.471       | 2.536     |\n",
       "| Fold 4 | 0.542        | 0.585       | 2.535     |\n",
       "| Fold 5 | 0.586        | 0.521       | 2.535     |\n",
       "+--------+--------------+-------------+-----------+"
      ]
     },
     "execution_count": 11,
     "metadata": {},
     "output_type": "execute_result"
    }
   ],
   "source": [
    "compute_results(res)"
   ]
  },
  {
   "cell_type": "markdown",
   "id": "ce9f9cf1-ae11-4526-b0af-169afd2c2a54",
   "metadata": {},
   "source": [
    "### DINO_ViTb8 - Both CT and PET"
   ]
  },
  {
   "cell_type": "markdown",
   "id": "34c1e9db-0d9d-42e0-bb9e-ec5b5e39a995",
   "metadata": {},
   "source": [
    "##### Version 0"
   ]
  },
  {
   "cell_type": "code",
   "execution_count": null,
   "id": "fbb56e60-fdff-4f87-b336-062caeaf65b6",
   "metadata": {
    "scrolled": true
   },
   "outputs": [],
   "source": [
    "MODALITY = Modality.BOTH\n",
    "res = model_evaluation(\"dino_vitb8_6\")"
   ]
  },
  {
   "cell_type": "code",
   "execution_count": 13,
   "id": "cbdd849b-ed5d-44d1-bb54-d7a06872f097",
   "metadata": {},
   "outputs": [
    {
     "data": {
      "text/html": [
       "<table>\n",
       "    <thead>\n",
       "        <tr>\n",
       "            <th>Fold</th>\n",
       "            <th>Test C-index</th>\n",
       "            <th>Val C-index</th>\n",
       "            <th>Test loss</th>\n",
       "        </tr>\n",
       "    </thead>\n",
       "    <tbody>\n",
       "        <tr>\n",
       "            <td>Fold 1</td>\n",
       "            <td>0.589</td>\n",
       "            <td>0.66</td>\n",
       "            <td>2.536</td>\n",
       "        </tr>\n",
       "        <tr>\n",
       "            <td>Fold 2</td>\n",
       "            <td>0.494</td>\n",
       "            <td>0.612</td>\n",
       "            <td>2.82</td>\n",
       "        </tr>\n",
       "        <tr>\n",
       "            <td>Fold 3</td>\n",
       "            <td>0.573</td>\n",
       "            <td>0.642</td>\n",
       "            <td>2.54</td>\n",
       "        </tr>\n",
       "        <tr>\n",
       "            <td>Fold 4</td>\n",
       "            <td>0.563</td>\n",
       "            <td>0.577</td>\n",
       "            <td>2.592</td>\n",
       "        </tr>\n",
       "        <tr>\n",
       "            <td>Fold 5</td>\n",
       "            <td>0.577</td>\n",
       "            <td>0.671</td>\n",
       "            <td>2.539</td>\n",
       "        </tr>\n",
       "        <tr>\n",
       "            <td>All train set</td>\n",
       "            <td>0.557</td>\n",
       "            <td>NA</td>\n",
       "            <td>2.623</td>\n",
       "        </tr>\n",
       "    </tbody>\n",
       "</table>"
      ],
      "text/plain": [
       "+---------------+--------------+-------------+-----------+\n",
       "| Fold          | Test C-index | Val C-index | Test loss |\n",
       "+---------------+--------------+-------------+-----------+\n",
       "| Fold 1        | 0.589        | 0.66        | 2.536     |\n",
       "| Fold 2        | 0.494        | 0.612       | 2.82      |\n",
       "| Fold 3        | 0.573        | 0.642       | 2.54      |\n",
       "| Fold 4        | 0.563        | 0.577       | 2.592     |\n",
       "| Fold 5        | 0.577        | 0.671       | 2.539     |\n",
       "| All train set | 0.557        | NA          | 2.623     |\n",
       "+---------------+--------------+-------------+-----------+"
      ]
     },
     "execution_count": 13,
     "metadata": {},
     "output_type": "execute_result"
    }
   ],
   "source": [
    "compute_results(res)"
   ]
  },
  {
   "cell_type": "markdown",
   "id": "e95765c8-b3dc-4932-a81b-0dca49ffb2c7",
   "metadata": {},
   "source": [
    "##### Version 1"
   ]
  },
  {
   "cell_type": "code",
   "execution_count": null,
   "id": "39d2d8b5-27b1-450b-b7ce-29cae31d5233",
   "metadata": {
    "scrolled": true
   },
   "outputs": [],
   "source": [
    "MODALITY = Modality.BOTH\n",
    "res = model_evaluation(\"dino_vitb8_6\", \"v1\")"
   ]
  },
  {
   "cell_type": "code",
   "execution_count": 15,
   "id": "f69f581d-7314-403f-95d3-7d11bf61dc98",
   "metadata": {},
   "outputs": [
    {
     "data": {
      "text/html": [
       "<table>\n",
       "    <thead>\n",
       "        <tr>\n",
       "            <th>Fold</th>\n",
       "            <th>Test C-index</th>\n",
       "            <th>Val C-index</th>\n",
       "            <th>Test loss</th>\n",
       "        </tr>\n",
       "    </thead>\n",
       "    <tbody>\n",
       "        <tr>\n",
       "            <td>Fold 1</td>\n",
       "            <td>0.589</td>\n",
       "            <td>0.659</td>\n",
       "            <td>2.536</td>\n",
       "        </tr>\n",
       "        <tr>\n",
       "            <td>Fold 2</td>\n",
       "            <td>0.525</td>\n",
       "            <td>0.599</td>\n",
       "            <td>2.846</td>\n",
       "        </tr>\n",
       "        <tr>\n",
       "            <td>Fold 3</td>\n",
       "            <td>0.575</td>\n",
       "            <td>0.644</td>\n",
       "            <td>2.547</td>\n",
       "        </tr>\n",
       "        <tr>\n",
       "            <td>Fold 4</td>\n",
       "            <td>0.564</td>\n",
       "            <td>0.575</td>\n",
       "            <td>2.56</td>\n",
       "        </tr>\n",
       "        <tr>\n",
       "            <td>Fold 5</td>\n",
       "            <td>0.552</td>\n",
       "            <td>0.638</td>\n",
       "            <td>2.676</td>\n",
       "        </tr>\n",
       "    </tbody>\n",
       "</table>"
      ],
      "text/plain": [
       "+--------+--------------+-------------+-----------+\n",
       "| Fold   | Test C-index | Val C-index | Test loss |\n",
       "+--------+--------------+-------------+-----------+\n",
       "| Fold 1 | 0.589        | 0.659       | 2.536     |\n",
       "| Fold 2 | 0.525        | 0.599       | 2.846     |\n",
       "| Fold 3 | 0.575        | 0.644       | 2.547     |\n",
       "| Fold 4 | 0.564        | 0.575       | 2.56      |\n",
       "| Fold 5 | 0.552        | 0.638       | 2.676     |\n",
       "+--------+--------------+-------------+-----------+"
      ]
     },
     "execution_count": 15,
     "metadata": {},
     "output_type": "execute_result"
    }
   ],
   "source": [
    "compute_results(res)"
   ]
  },
  {
   "cell_type": "markdown",
   "id": "8c870311-4816-4122-a8c8-6a2ee02b678d",
   "metadata": {},
   "source": [
    "##### Version 2"
   ]
  },
  {
   "cell_type": "code",
   "execution_count": 16,
   "id": "017a5daa-8591-4d85-9af2-b0f58d5cc24f",
   "metadata": {
    "scrolled": true
   },
   "outputs": [
    {
     "name": "stderr",
     "output_type": "stream",
     "text": [
      "/lu/tetyda/home/dzban112/my_env/lib/python3.10/site-packages/lightning_fabric/plugins/environments/slurm.py:204: The `srun` command is available on your system but is not used. HINT: If your intention is to run Lightning on SLURM, prepend your python command with `srun` like so: srun python3 /lu/tetyda/home/dzban112/my_env/lib/python3.10/site ...\n",
      "GPU available: True (cuda), used: True\n",
      "TPU available: False, using: 0 TPU cores\n",
      "HPU available: False, using: 0 HPUs\n",
      "LOCAL_RANK: 0 - CUDA_VISIBLE_DEVICES: [0]\n"
     ]
    },
    {
     "name": "stdout",
     "output_type": "stream",
     "text": [
      "Validation DataLoader 0: 100%|████████████████████████████████████████████████████████████| 6/6 [00:24<00:00,  0.24it/s]\n",
      "────────────────────────────────────────────────────────────────────────────────────────────────────────────────────────\n",
      "     Validate metric           DataLoader 0\n",
      "────────────────────────────────────────────────────────────────────────────────────────────────────────────────────────\n",
      "       val_C-index           0.659771740436554\n",
      "        val_loss            2.2106716632843018\n",
      "────────────────────────────────────────────────────────────────────────────────────────────────────────────────────────\n"
     ]
    },
    {
     "name": "stderr",
     "output_type": "stream",
     "text": [
      "/lu/tetyda/home/dzban112/my_env/lib/python3.10/site-packages/lightning_fabric/plugins/environments/slurm.py:204: The `srun` command is available on your system but is not used. HINT: If your intention is to run Lightning on SLURM, prepend your python command with `srun` like so: srun python3 /lu/tetyda/home/dzban112/my_env/lib/python3.10/site ...\n",
      "LOCAL_RANK: 0 - CUDA_VISIBLE_DEVICES: [0]\n"
     ]
    },
    {
     "name": "stdout",
     "output_type": "stream",
     "text": [
      "Testing DataLoader 0: 100%|█████████████████████████████████████████████████████████████| 21/21 [01:30<00:00,  0.23it/s]\n",
      "────────────────────────────────────────────────────────────────────────────────────────────────────────────────────────\n",
      "       Test metric             DataLoader 0\n",
      "────────────────────────────────────────────────────────────────────────────────────────────────────────────────────────\n",
      "      test_C-index          0.5889586210250854\n",
      "        test_loss            2.536454677581787\n",
      "────────────────────────────────────────────────────────────────────────────────────────────────────────────────────────\n"
     ]
    },
    {
     "name": "stderr",
     "output_type": "stream",
     "text": [
      "/lu/tetyda/home/dzban112/my_env/lib/python3.10/site-packages/lightning_fabric/plugins/environments/slurm.py:204: The `srun` command is available on your system but is not used. HINT: If your intention is to run Lightning on SLURM, prepend your python command with `srun` like so: srun python3 /lu/tetyda/home/dzban112/my_env/lib/python3.10/site ...\n",
      "GPU available: True (cuda), used: True\n",
      "TPU available: False, using: 0 TPU cores\n",
      "HPU available: False, using: 0 HPUs\n",
      "LOCAL_RANK: 0 - CUDA_VISIBLE_DEVICES: [0]\n"
     ]
    },
    {
     "name": "stdout",
     "output_type": "stream",
     "text": [
      "Validation DataLoader 0: 100%|████████████████████████████████████████████████████████████| 6/6 [00:24<00:00,  0.24it/s]\n",
      "────────────────────────────────────────────────────────────────────────────────────────────────────────────────────────\n",
      "     Validate metric           DataLoader 0\n",
      "────────────────────────────────────────────────────────────────────────────────────────────────────────────────────────\n",
      "       val_C-index          0.6598101258277893\n",
      "        val_loss            2.4495646953582764\n",
      "────────────────────────────────────────────────────────────────────────────────────────────────────────────────────────\n"
     ]
    },
    {
     "name": "stderr",
     "output_type": "stream",
     "text": [
      "/lu/tetyda/home/dzban112/my_env/lib/python3.10/site-packages/lightning_fabric/plugins/environments/slurm.py:204: The `srun` command is available on your system but is not used. HINT: If your intention is to run Lightning on SLURM, prepend your python command with `srun` like so: srun python3 /lu/tetyda/home/dzban112/my_env/lib/python3.10/site ...\n",
      "LOCAL_RANK: 0 - CUDA_VISIBLE_DEVICES: [0]\n"
     ]
    },
    {
     "name": "stdout",
     "output_type": "stream",
     "text": [
      "Testing DataLoader 0: 100%|█████████████████████████████████████████████████████████████| 21/21 [01:30<00:00,  0.23it/s]\n",
      "────────────────────────────────────────────────────────────────────────────────────────────────────────────────────────\n",
      "       Test metric             DataLoader 0\n",
      "────────────────────────────────────────────────────────────────────────────────────────────────────────────────────────\n",
      "      test_C-index          0.5897887945175171\n",
      "        test_loss            2.523125410079956\n",
      "────────────────────────────────────────────────────────────────────────────────────────────────────────────────────────\n"
     ]
    },
    {
     "name": "stderr",
     "output_type": "stream",
     "text": [
      "/lu/tetyda/home/dzban112/my_env/lib/python3.10/site-packages/lightning_fabric/plugins/environments/slurm.py:204: The `srun` command is available on your system but is not used. HINT: If your intention is to run Lightning on SLURM, prepend your python command with `srun` like so: srun python3 /lu/tetyda/home/dzban112/my_env/lib/python3.10/site ...\n",
      "GPU available: True (cuda), used: True\n",
      "TPU available: False, using: 0 TPU cores\n",
      "HPU available: False, using: 0 HPUs\n",
      "LOCAL_RANK: 0 - CUDA_VISIBLE_DEVICES: [0]\n"
     ]
    },
    {
     "name": "stdout",
     "output_type": "stream",
     "text": [
      "Validation DataLoader 0: 100%|████████████████████████████████████████████████████████████| 6/6 [00:24<00:00,  0.25it/s]\n",
      "────────────────────────────────────────────────────────────────────────────────────────────────────────────────────────\n",
      "     Validate metric           DataLoader 0\n",
      "────────────────────────────────────────────────────────────────────────────────────────────────────────────────────────\n",
      "       val_C-index          0.6788321137428284\n",
      "        val_loss            2.4583115577697754\n",
      "────────────────────────────────────────────────────────────────────────────────────────────────────────────────────────\n"
     ]
    },
    {
     "name": "stderr",
     "output_type": "stream",
     "text": [
      "/lu/tetyda/home/dzban112/my_env/lib/python3.10/site-packages/lightning_fabric/plugins/environments/slurm.py:204: The `srun` command is available on your system but is not used. HINT: If your intention is to run Lightning on SLURM, prepend your python command with `srun` like so: srun python3 /lu/tetyda/home/dzban112/my_env/lib/python3.10/site ...\n",
      "LOCAL_RANK: 0 - CUDA_VISIBLE_DEVICES: [0]\n"
     ]
    },
    {
     "name": "stdout",
     "output_type": "stream",
     "text": [
      "Testing DataLoader 0: 100%|█████████████████████████████████████████████████████████████| 21/21 [01:29<00:00,  0.23it/s]\n",
      "────────────────────────────────────────────────────────────────────────────────────────────────────────────────────────\n",
      "       Test metric             DataLoader 0\n",
      "────────────────────────────────────────────────────────────────────────────────────────────────────────────────────────\n",
      "      test_C-index          0.5695532560348511\n",
      "        test_loss           2.6837105751037598\n",
      "────────────────────────────────────────────────────────────────────────────────────────────────────────────────────────\n"
     ]
    },
    {
     "name": "stderr",
     "output_type": "stream",
     "text": [
      "/lu/tetyda/home/dzban112/my_env/lib/python3.10/site-packages/lightning_fabric/plugins/environments/slurm.py:204: The `srun` command is available on your system but is not used. HINT: If your intention is to run Lightning on SLURM, prepend your python command with `srun` like so: srun python3 /lu/tetyda/home/dzban112/my_env/lib/python3.10/site ...\n",
      "GPU available: True (cuda), used: True\n",
      "TPU available: False, using: 0 TPU cores\n",
      "HPU available: False, using: 0 HPUs\n",
      "LOCAL_RANK: 0 - CUDA_VISIBLE_DEVICES: [0]\n"
     ]
    },
    {
     "name": "stdout",
     "output_type": "stream",
     "text": [
      "Validation DataLoader 0: 100%|████████████████████████████████████████████████████████████| 6/6 [00:24<00:00,  0.24it/s]\n",
      "────────────────────────────────────────────────────────────────────────────────────────────────────────────────────────\n",
      "     Validate metric           DataLoader 0\n",
      "────────────────────────────────────────────────────────────────────────────────────────────────────────────────────────\n",
      "       val_C-index          0.5767235159873962\n",
      "        val_loss             2.25651216506958\n",
      "────────────────────────────────────────────────────────────────────────────────────────────────────────────────────────\n"
     ]
    },
    {
     "name": "stderr",
     "output_type": "stream",
     "text": [
      "/lu/tetyda/home/dzban112/my_env/lib/python3.10/site-packages/lightning_fabric/plugins/environments/slurm.py:204: The `srun` command is available on your system but is not used. HINT: If your intention is to run Lightning on SLURM, prepend your python command with `srun` like so: srun python3 /lu/tetyda/home/dzban112/my_env/lib/python3.10/site ...\n",
      "LOCAL_RANK: 0 - CUDA_VISIBLE_DEVICES: [0]\n"
     ]
    },
    {
     "name": "stdout",
     "output_type": "stream",
     "text": [
      "Testing DataLoader 0: 100%|█████████████████████████████████████████████████████████████| 21/21 [01:30<00:00,  0.23it/s]\n",
      "────────────────────────────────────────────────────────────────────────────────────────────────────────────────────────\n",
      "       Test metric             DataLoader 0\n",
      "────────────────────────────────────────────────────────────────────────────────────────────────────────────────────────\n",
      "      test_C-index          0.5628599524497986\n",
      "        test_loss           2.5946123600006104\n",
      "────────────────────────────────────────────────────────────────────────────────────────────────────────────────────────\n"
     ]
    },
    {
     "name": "stderr",
     "output_type": "stream",
     "text": [
      "/lu/tetyda/home/dzban112/my_env/lib/python3.10/site-packages/lightning_fabric/plugins/environments/slurm.py:204: The `srun` command is available on your system but is not used. HINT: If your intention is to run Lightning on SLURM, prepend your python command with `srun` like so: srun python3 /lu/tetyda/home/dzban112/my_env/lib/python3.10/site ...\n",
      "GPU available: True (cuda), used: True\n",
      "TPU available: False, using: 0 TPU cores\n",
      "HPU available: False, using: 0 HPUs\n",
      "LOCAL_RANK: 0 - CUDA_VISIBLE_DEVICES: [0]\n"
     ]
    },
    {
     "name": "stdout",
     "output_type": "stream",
     "text": [
      "Validation DataLoader 0: 100%|████████████████████████████████████████████████████████████| 6/6 [00:24<00:00,  0.24it/s]\n",
      "────────────────────────────────────────────────────────────────────────────────────────────────────────────────────────\n",
      "     Validate metric           DataLoader 0\n",
      "────────────────────────────────────────────────────────────────────────────────────────────────────────────────────────\n",
      "       val_C-index          0.6709429025650024\n",
      "        val_loss             2.422536611557007\n",
      "────────────────────────────────────────────────────────────────────────────────────────────────────────────────────────\n"
     ]
    },
    {
     "name": "stderr",
     "output_type": "stream",
     "text": [
      "/lu/tetyda/home/dzban112/my_env/lib/python3.10/site-packages/lightning_fabric/plugins/environments/slurm.py:204: The `srun` command is available on your system but is not used. HINT: If your intention is to run Lightning on SLURM, prepend your python command with `srun` like so: srun python3 /lu/tetyda/home/dzban112/my_env/lib/python3.10/site ...\n",
      "LOCAL_RANK: 0 - CUDA_VISIBLE_DEVICES: [0]\n"
     ]
    },
    {
     "name": "stdout",
     "output_type": "stream",
     "text": [
      "Testing DataLoader 0: 100%|█████████████████████████████████████████████████████████████| 21/21 [01:30<00:00,  0.23it/s]\n",
      "────────────────────────────────────────────────────────────────────────────────────────────────────────────────────────\n",
      "       Test metric             DataLoader 0\n",
      "────────────────────────────────────────────────────────────────────────────────────────────────────────────────────────\n",
      "      test_C-index          0.5766097903251648\n",
      "        test_loss           2.5387747287750244\n",
      "────────────────────────────────────────────────────────────────────────────────────────────────────────────────────────\n"
     ]
    }
   ],
   "source": [
    "MODALITY = Modality.BOTH\n",
    "res = model_evaluation(\"dino_vitb8_6\", \"v2\")"
   ]
  },
  {
   "cell_type": "code",
   "execution_count": 17,
   "id": "70f4aaa6-329a-4571-a137-e6af51eb389d",
   "metadata": {},
   "outputs": [
    {
     "data": {
      "text/html": [
       "<table>\n",
       "    <thead>\n",
       "        <tr>\n",
       "            <th>Fold</th>\n",
       "            <th>Test C-index</th>\n",
       "            <th>Val C-index</th>\n",
       "            <th>Test loss</th>\n",
       "        </tr>\n",
       "    </thead>\n",
       "    <tbody>\n",
       "        <tr>\n",
       "            <td>Fold 1</td>\n",
       "            <td>0.589</td>\n",
       "            <td>0.66</td>\n",
       "            <td>2.536</td>\n",
       "        </tr>\n",
       "        <tr>\n",
       "            <td>Fold 2</td>\n",
       "            <td>0.59</td>\n",
       "            <td>0.66</td>\n",
       "            <td>2.523</td>\n",
       "        </tr>\n",
       "        <tr>\n",
       "            <td>Fold 3</td>\n",
       "            <td>0.57</td>\n",
       "            <td>0.679</td>\n",
       "            <td>2.684</td>\n",
       "        </tr>\n",
       "        <tr>\n",
       "            <td>Fold 4</td>\n",
       "            <td>0.563</td>\n",
       "            <td>0.577</td>\n",
       "            <td>2.595</td>\n",
       "        </tr>\n",
       "        <tr>\n",
       "            <td>Fold 5</td>\n",
       "            <td>0.577</td>\n",
       "            <td>0.671</td>\n",
       "            <td>2.539</td>\n",
       "        </tr>\n",
       "    </tbody>\n",
       "</table>"
      ],
      "text/plain": [
       "+--------+--------------+-------------+-----------+\n",
       "| Fold   | Test C-index | Val C-index | Test loss |\n",
       "+--------+--------------+-------------+-----------+\n",
       "| Fold 1 | 0.589        | 0.66        | 2.536     |\n",
       "| Fold 2 | 0.59         | 0.66        | 2.523     |\n",
       "| Fold 3 | 0.57         | 0.679       | 2.684     |\n",
       "| Fold 4 | 0.563        | 0.577       | 2.595     |\n",
       "| Fold 5 | 0.577        | 0.671       | 2.539     |\n",
       "+--------+--------------+-------------+-----------+"
      ]
     },
     "execution_count": 17,
     "metadata": {},
     "output_type": "execute_result"
    }
   ],
   "source": [
    "compute_results(res)"
   ]
  },
  {
   "cell_type": "markdown",
   "id": "3fad2a58-bab7-4c0e-8c79-d62df6d89eb5",
   "metadata": {},
   "source": [
    "### DINO_ViTb8 - CT merged with PET"
   ]
  },
  {
   "cell_type": "markdown",
   "id": "5eb356ae-540c-43bb-8ca5-b0faac1e7fa8",
   "metadata": {},
   "source": [
    "##### Version 0"
   ]
  },
  {
   "cell_type": "code",
   "execution_count": 18,
   "id": "9177fc8e-5499-4101-bd63-5b7eda1c3f22",
   "metadata": {
    "scrolled": true
   },
   "outputs": [
    {
     "name": "stderr",
     "output_type": "stream",
     "text": [
      "/lu/tetyda/home/dzban112/my_env/lib/python3.10/site-packages/lightning_fabric/plugins/environments/slurm.py:204: The `srun` command is available on your system but is not used. HINT: If your intention is to run Lightning on SLURM, prepend your python command with `srun` like so: srun python3 /lu/tetyda/home/dzban112/my_env/lib/python3.10/site ...\n",
      "GPU available: True (cuda), used: True\n",
      "TPU available: False, using: 0 TPU cores\n",
      "HPU available: False, using: 0 HPUs\n",
      "LOCAL_RANK: 0 - CUDA_VISIBLE_DEVICES: [0]\n"
     ]
    },
    {
     "name": "stdout",
     "output_type": "stream",
     "text": [
      "Validation DataLoader 0: 100%|████████████████████████████████████████████████████████████| 6/6 [00:25<00:00,  0.24it/s]\n",
      "────────────────────────────────────────────────────────────────────────────────────────────────────────────────────────\n",
      "     Validate metric           DataLoader 0\n",
      "────────────────────────────────────────────────────────────────────────────────────────────────────────────────────────\n",
      "       val_C-index          0.6654778718948364\n",
      "        val_loss              2.2504723072052\n",
      "────────────────────────────────────────────────────────────────────────────────────────────────────────────────────────\n"
     ]
    },
    {
     "name": "stderr",
     "output_type": "stream",
     "text": [
      "/lu/tetyda/home/dzban112/my_env/lib/python3.10/site-packages/lightning_fabric/plugins/environments/slurm.py:204: The `srun` command is available on your system but is not used. HINT: If your intention is to run Lightning on SLURM, prepend your python command with `srun` like so: srun python3 /lu/tetyda/home/dzban112/my_env/lib/python3.10/site ...\n",
      "LOCAL_RANK: 0 - CUDA_VISIBLE_DEVICES: [0]\n"
     ]
    },
    {
     "name": "stdout",
     "output_type": "stream",
     "text": [
      "Testing DataLoader 0: 100%|█████████████████████████████████████████████████████████████| 21/21 [01:30<00:00,  0.23it/s]\n",
      "────────────────────────────────────────────────────────────────────────────────────────────────────────────────────────\n",
      "       Test metric             DataLoader 0\n",
      "────────────────────────────────────────────────────────────────────────────────────────────────────────────────────────\n",
      "      test_C-index          0.5626524090766907\n",
      "        test_loss           2.5393335819244385\n",
      "────────────────────────────────────────────────────────────────────────────────────────────────────────────────────────\n"
     ]
    },
    {
     "name": "stderr",
     "output_type": "stream",
     "text": [
      "/lu/tetyda/home/dzban112/my_env/lib/python3.10/site-packages/lightning_fabric/plugins/environments/slurm.py:204: The `srun` command is available on your system but is not used. HINT: If your intention is to run Lightning on SLURM, prepend your python command with `srun` like so: srun python3 /lu/tetyda/home/dzban112/my_env/lib/python3.10/site ...\n",
      "GPU available: True (cuda), used: True\n",
      "TPU available: False, using: 0 TPU cores\n",
      "HPU available: False, using: 0 HPUs\n",
      "LOCAL_RANK: 0 - CUDA_VISIBLE_DEVICES: [0]\n"
     ]
    },
    {
     "name": "stdout",
     "output_type": "stream",
     "text": [
      "Validation DataLoader 0: 100%|████████████████████████████████████████████████████████████| 6/6 [00:25<00:00,  0.24it/s]\n",
      "────────────────────────────────────────────────────────────────────────────────────────────────────────────────────────\n",
      "     Validate metric           DataLoader 0\n",
      "────────────────────────────────────────────────────────────────────────────────────────────────────────────────────────\n",
      "       val_C-index          0.5854430198669434\n",
      "        val_loss            2.4706125259399414\n",
      "────────────────────────────────────────────────────────────────────────────────────────────────────────────────────────\n"
     ]
    },
    {
     "name": "stderr",
     "output_type": "stream",
     "text": [
      "/lu/tetyda/home/dzban112/my_env/lib/python3.10/site-packages/lightning_fabric/plugins/environments/slurm.py:204: The `srun` command is available on your system but is not used. HINT: If your intention is to run Lightning on SLURM, prepend your python command with `srun` like so: srun python3 /lu/tetyda/home/dzban112/my_env/lib/python3.10/site ...\n",
      "LOCAL_RANK: 0 - CUDA_VISIBLE_DEVICES: [0]\n"
     ]
    },
    {
     "name": "stdout",
     "output_type": "stream",
     "text": [
      "Testing DataLoader 0: 100%|█████████████████████████████████████████████████████████████| 21/21 [01:30<00:00,  0.23it/s]\n",
      "────────────────────────────────────────────────────────────────────────────────────────────────────────────────────────\n",
      "       Test metric             DataLoader 0\n",
      "────────────────────────────────────────────────────────────────────────────────────────────────────────────────────────\n",
      "      test_C-index          0.5620297789573669\n",
      "        test_loss           2.5356035232543945\n",
      "────────────────────────────────────────────────────────────────────────────────────────────────────────────────────────\n"
     ]
    },
    {
     "name": "stderr",
     "output_type": "stream",
     "text": [
      "/lu/tetyda/home/dzban112/my_env/lib/python3.10/site-packages/lightning_fabric/plugins/environments/slurm.py:204: The `srun` command is available on your system but is not used. HINT: If your intention is to run Lightning on SLURM, prepend your python command with `srun` like so: srun python3 /lu/tetyda/home/dzban112/my_env/lib/python3.10/site ...\n",
      "GPU available: True (cuda), used: True\n",
      "TPU available: False, using: 0 TPU cores\n",
      "HPU available: False, using: 0 HPUs\n",
      "LOCAL_RANK: 0 - CUDA_VISIBLE_DEVICES: [0]\n"
     ]
    },
    {
     "name": "stdout",
     "output_type": "stream",
     "text": [
      "Validation DataLoader 0: 100%|████████████████████████████████████████████████████████████| 6/6 [00:24<00:00,  0.24it/s]\n",
      "────────────────────────────────────────────────────────────────────────────────────────────────────────────────────────\n",
      "     Validate metric           DataLoader 0\n",
      "────────────────────────────────────────────────────────────────────────────────────────────────────────────────────────\n",
      "       val_C-index          0.6602521538734436\n",
      "        val_loss             2.428633451461792\n",
      "────────────────────────────────────────────────────────────────────────────────────────────────────────────────────────\n"
     ]
    },
    {
     "name": "stderr",
     "output_type": "stream",
     "text": [
      "/lu/tetyda/home/dzban112/my_env/lib/python3.10/site-packages/lightning_fabric/plugins/environments/slurm.py:204: The `srun` command is available on your system but is not used. HINT: If your intention is to run Lightning on SLURM, prepend your python command with `srun` like so: srun python3 /lu/tetyda/home/dzban112/my_env/lib/python3.10/site ...\n",
      "LOCAL_RANK: 0 - CUDA_VISIBLE_DEVICES: [0]\n"
     ]
    },
    {
     "name": "stdout",
     "output_type": "stream",
     "text": [
      "Testing DataLoader 0: 100%|█████████████████████████████████████████████████████████████| 21/21 [01:30<00:00,  0.23it/s]\n",
      "────────────────────────────────────────────────────────────────────────────────────────────────────────────────────────\n",
      "       Test metric             DataLoader 0\n",
      "────────────────────────────────────────────────────────────────────────────────────────────────────────────────────────\n",
      "      test_C-index          0.5553883910179138\n",
      "        test_loss           2.5817129611968994\n",
      "────────────────────────────────────────────────────────────────────────────────────────────────────────────────────────\n"
     ]
    },
    {
     "name": "stderr",
     "output_type": "stream",
     "text": [
      "/lu/tetyda/home/dzban112/my_env/lib/python3.10/site-packages/lightning_fabric/plugins/environments/slurm.py:204: The `srun` command is available on your system but is not used. HINT: If your intention is to run Lightning on SLURM, prepend your python command with `srun` like so: srun python3 /lu/tetyda/home/dzban112/my_env/lib/python3.10/site ...\n",
      "GPU available: True (cuda), used: True\n",
      "TPU available: False, using: 0 TPU cores\n",
      "HPU available: False, using: 0 HPUs\n",
      "LOCAL_RANK: 0 - CUDA_VISIBLE_DEVICES: [0]\n"
     ]
    },
    {
     "name": "stdout",
     "output_type": "stream",
     "text": [
      "Validation DataLoader 0: 100%|████████████████████████████████████████████████████████████| 6/6 [00:24<00:00,  0.24it/s]\n",
      "────────────────────────────────────────────────────────────────────────────────────────────────────────────────────────\n",
      "     Validate metric           DataLoader 0\n",
      "────────────────────────────────────────────────────────────────────────────────────────────────────────────────────────\n",
      "       val_C-index          0.6212009191513062\n",
      "        val_loss            2.2176411151885986\n",
      "────────────────────────────────────────────────────────────────────────────────────────────────────────────────────────\n"
     ]
    },
    {
     "name": "stderr",
     "output_type": "stream",
     "text": [
      "/lu/tetyda/home/dzban112/my_env/lib/python3.10/site-packages/lightning_fabric/plugins/environments/slurm.py:204: The `srun` command is available on your system but is not used. HINT: If your intention is to run Lightning on SLURM, prepend your python command with `srun` like so: srun python3 /lu/tetyda/home/dzban112/my_env/lib/python3.10/site ...\n",
      "LOCAL_RANK: 0 - CUDA_VISIBLE_DEVICES: [0]\n"
     ]
    },
    {
     "name": "stdout",
     "output_type": "stream",
     "text": [
      "Testing DataLoader 0: 100%|█████████████████████████████████████████████████████████████| 21/21 [01:30<00:00,  0.23it/s]\n",
      "────────────────────────────────────────────────────────────────────────────────────────────────────────────────────────\n",
      "       Test metric             DataLoader 0\n",
      "────────────────────────────────────────────────────────────────────────────────────────────────────────────────────────\n",
      "      test_C-index           0.561822235584259\n",
      "        test_loss            2.541736602783203\n",
      "────────────────────────────────────────────────────────────────────────────────────────────────────────────────────────\n"
     ]
    },
    {
     "name": "stderr",
     "output_type": "stream",
     "text": [
      "/lu/tetyda/home/dzban112/my_env/lib/python3.10/site-packages/lightning_fabric/plugins/environments/slurm.py:204: The `srun` command is available on your system but is not used. HINT: If your intention is to run Lightning on SLURM, prepend your python command with `srun` like so: srun python3 /lu/tetyda/home/dzban112/my_env/lib/python3.10/site ...\n",
      "GPU available: True (cuda), used: True\n",
      "TPU available: False, using: 0 TPU cores\n",
      "HPU available: False, using: 0 HPUs\n",
      "LOCAL_RANK: 0 - CUDA_VISIBLE_DEVICES: [0]\n"
     ]
    },
    {
     "name": "stdout",
     "output_type": "stream",
     "text": [
      "Validation DataLoader 0: 100%|████████████████████████████████████████████████████████████| 6/6 [00:24<00:00,  0.24it/s]\n",
      "────────────────────────────────────────────────────────────────────────────────────────────────────────────────────────\n",
      "     Validate metric           DataLoader 0\n",
      "────────────────────────────────────────────────────────────────────────────────────────────────────────────────────────\n",
      "       val_C-index          0.6350224614143372\n",
      "        val_loss             2.413693904876709\n",
      "────────────────────────────────────────────────────────────────────────────────────────────────────────────────────────\n"
     ]
    },
    {
     "name": "stderr",
     "output_type": "stream",
     "text": [
      "/lu/tetyda/home/dzban112/my_env/lib/python3.10/site-packages/lightning_fabric/plugins/environments/slurm.py:204: The `srun` command is available on your system but is not used. HINT: If your intention is to run Lightning on SLURM, prepend your python command with `srun` like so: srun python3 /lu/tetyda/home/dzban112/my_env/lib/python3.10/site ...\n",
      "LOCAL_RANK: 0 - CUDA_VISIBLE_DEVICES: [0]\n"
     ]
    },
    {
     "name": "stdout",
     "output_type": "stream",
     "text": [
      "Testing DataLoader 0: 100%|█████████████████████████████████████████████████████████████| 21/21 [01:30<00:00,  0.23it/s]\n",
      "────────────────────────────────────────────────────────────────────────────────────────────────────────────────────────\n",
      "       Test metric             DataLoader 0\n",
      "────────────────────────────────────────────────────────────────────────────────────────────────────────────────────────\n",
      "      test_C-index          0.5620297789573669\n",
      "        test_loss           2.6111481189727783\n",
      "────────────────────────────────────────────────────────────────────────────────────────────────────────────────────────\n"
     ]
    },
    {
     "name": "stderr",
     "output_type": "stream",
     "text": [
      "/lu/tetyda/home/dzban112/my_env/lib/python3.10/site-packages/lightning_fabric/plugins/environments/slurm.py:204: The `srun` command is available on your system but is not used. HINT: If your intention is to run Lightning on SLURM, prepend your python command with `srun` like so: srun python3 /lu/tetyda/home/dzban112/my_env/lib/python3.10/site ...\n",
      "GPU available: True (cuda), used: True\n",
      "TPU available: False, using: 0 TPU cores\n",
      "HPU available: False, using: 0 HPUs\n",
      "LOCAL_RANK: 0 - CUDA_VISIBLE_DEVICES: [0]\n"
     ]
    },
    {
     "name": "stdout",
     "output_type": "stream",
     "text": [
      "Testing DataLoader 0: 100%|█████████████████████████████████████████████████████████████| 21/21 [01:30<00:00,  0.23it/s]\n",
      "────────────────────────────────────────────────────────────────────────────────────────────────────────────────────────\n",
      "       Test metric             DataLoader 0\n",
      "────────────────────────────────────────────────────────────────────────────────────────────────────────────────────────\n",
      "      test_C-index          0.5567374229431152\n",
      "        test_loss           2.6062557697296143\n",
      "────────────────────────────────────────────────────────────────────────────────────────────────────────────────────────\n"
     ]
    }
   ],
   "source": [
    "MODALITY = Modality.MERGED\n",
    "res = model_evaluation(\"dino_vitb8_5\")"
   ]
  },
  {
   "cell_type": "code",
   "execution_count": 19,
   "id": "c2d20f59-e715-43b1-b5ba-fe2f17ed5590",
   "metadata": {},
   "outputs": [
    {
     "data": {
      "text/html": [
       "<table>\n",
       "    <thead>\n",
       "        <tr>\n",
       "            <th>Fold</th>\n",
       "            <th>Test C-index</th>\n",
       "            <th>Val C-index</th>\n",
       "            <th>Test loss</th>\n",
       "        </tr>\n",
       "    </thead>\n",
       "    <tbody>\n",
       "        <tr>\n",
       "            <td>Fold 1</td>\n",
       "            <td>0.563</td>\n",
       "            <td>0.665</td>\n",
       "            <td>2.539</td>\n",
       "        </tr>\n",
       "        <tr>\n",
       "            <td>Fold 2</td>\n",
       "            <td>0.562</td>\n",
       "            <td>0.585</td>\n",
       "            <td>2.536</td>\n",
       "        </tr>\n",
       "        <tr>\n",
       "            <td>Fold 3</td>\n",
       "            <td>0.555</td>\n",
       "            <td>0.66</td>\n",
       "            <td>2.582</td>\n",
       "        </tr>\n",
       "        <tr>\n",
       "            <td>Fold 4</td>\n",
       "            <td>0.562</td>\n",
       "            <td>0.621</td>\n",
       "            <td>2.542</td>\n",
       "        </tr>\n",
       "        <tr>\n",
       "            <td>Fold 5</td>\n",
       "            <td>0.562</td>\n",
       "            <td>0.635</td>\n",
       "            <td>2.611</td>\n",
       "        </tr>\n",
       "        <tr>\n",
       "            <td>All train set</td>\n",
       "            <td>0.557</td>\n",
       "            <td>NA</td>\n",
       "            <td>2.606</td>\n",
       "        </tr>\n",
       "    </tbody>\n",
       "</table>"
      ],
      "text/plain": [
       "+---------------+--------------+-------------+-----------+\n",
       "| Fold          | Test C-index | Val C-index | Test loss |\n",
       "+---------------+--------------+-------------+-----------+\n",
       "| Fold 1        | 0.563        | 0.665       | 2.539     |\n",
       "| Fold 2        | 0.562        | 0.585       | 2.536     |\n",
       "| Fold 3        | 0.555        | 0.66        | 2.582     |\n",
       "| Fold 4        | 0.562        | 0.621       | 2.542     |\n",
       "| Fold 5        | 0.562        | 0.635       | 2.611     |\n",
       "| All train set | 0.557        | NA          | 2.606     |\n",
       "+---------------+--------------+-------------+-----------+"
      ]
     },
     "execution_count": 19,
     "metadata": {},
     "output_type": "execute_result"
    }
   ],
   "source": [
    "compute_results(res)"
   ]
  },
  {
   "cell_type": "markdown",
   "id": "08005767-cdc2-4f54-8f3b-5820c94db54d",
   "metadata": {},
   "source": [
    "##### Version 1"
   ]
  },
  {
   "cell_type": "code",
   "execution_count": 20,
   "id": "06dbe4b2-9f6d-4e03-89cc-466cd814bb89",
   "metadata": {
    "scrolled": true
   },
   "outputs": [
    {
     "name": "stderr",
     "output_type": "stream",
     "text": [
      "/lu/tetyda/home/dzban112/my_env/lib/python3.10/site-packages/lightning_fabric/plugins/environments/slurm.py:204: The `srun` command is available on your system but is not used. HINT: If your intention is to run Lightning on SLURM, prepend your python command with `srun` like so: srun python3 /lu/tetyda/home/dzban112/my_env/lib/python3.10/site ...\n",
      "GPU available: True (cuda), used: True\n",
      "TPU available: False, using: 0 TPU cores\n",
      "HPU available: False, using: 0 HPUs\n",
      "LOCAL_RANK: 0 - CUDA_VISIBLE_DEVICES: [0]\n"
     ]
    },
    {
     "name": "stdout",
     "output_type": "stream",
     "text": [
      "Validation DataLoader 0: 100%|████████████████████████████████████████████████████████████| 6/6 [00:25<00:00,  0.24it/s]\n",
      "────────────────────────────────────────────────────────────────────────────────────────────────────────────────────────\n",
      "     Validate metric           DataLoader 0\n",
      "────────────────────────────────────────────────────────────────────────────────────────────────────────────────────────\n",
      "       val_C-index           0.687589168548584\n",
      "        val_loss             2.250404119491577\n",
      "────────────────────────────────────────────────────────────────────────────────────────────────────────────────────────\n"
     ]
    },
    {
     "name": "stderr",
     "output_type": "stream",
     "text": [
      "/lu/tetyda/home/dzban112/my_env/lib/python3.10/site-packages/lightning_fabric/plugins/environments/slurm.py:204: The `srun` command is available on your system but is not used. HINT: If your intention is to run Lightning on SLURM, prepend your python command with `srun` like so: srun python3 /lu/tetyda/home/dzban112/my_env/lib/python3.10/site ...\n",
      "LOCAL_RANK: 0 - CUDA_VISIBLE_DEVICES: [0]\n"
     ]
    },
    {
     "name": "stdout",
     "output_type": "stream",
     "text": [
      "Testing DataLoader 0: 100%|█████████████████████████████████████████████████████████████| 21/21 [01:30<00:00,  0.23it/s]\n",
      "────────────────────────────────────────────────────────────────────────────────────────────────────────────────────────\n",
      "       Test metric             DataLoader 0\n",
      "────────────────────────────────────────────────────────────────────────────────────────────────────────────────────────\n",
      "      test_C-index          0.5597468018531799\n",
      "        test_loss           2.5396621227264404\n",
      "────────────────────────────────────────────────────────────────────────────────────────────────────────────────────────\n"
     ]
    },
    {
     "name": "stderr",
     "output_type": "stream",
     "text": [
      "/lu/tetyda/home/dzban112/my_env/lib/python3.10/site-packages/lightning_fabric/plugins/environments/slurm.py:204: The `srun` command is available on your system but is not used. HINT: If your intention is to run Lightning on SLURM, prepend your python command with `srun` like so: srun python3 /lu/tetyda/home/dzban112/my_env/lib/python3.10/site ...\n",
      "GPU available: True (cuda), used: True\n",
      "TPU available: False, using: 0 TPU cores\n",
      "HPU available: False, using: 0 HPUs\n",
      "LOCAL_RANK: 0 - CUDA_VISIBLE_DEVICES: [0]\n"
     ]
    },
    {
     "name": "stdout",
     "output_type": "stream",
     "text": [
      "Validation DataLoader 0: 100%|████████████████████████████████████████████████████████████| 6/6 [00:24<00:00,  0.24it/s]\n",
      "────────────────────────────────────────────────────────────────────────────────────────────────────────────────────────\n",
      "     Validate metric           DataLoader 0\n",
      "────────────────────────────────────────────────────────────────────────────────────────────────────────────────────────\n",
      "       val_C-index          0.5846518874168396\n",
      "        val_loss            2.4627861976623535\n",
      "────────────────────────────────────────────────────────────────────────────────────────────────────────────────────────\n"
     ]
    },
    {
     "name": "stderr",
     "output_type": "stream",
     "text": [
      "/lu/tetyda/home/dzban112/my_env/lib/python3.10/site-packages/lightning_fabric/plugins/environments/slurm.py:204: The `srun` command is available on your system but is not used. HINT: If your intention is to run Lightning on SLURM, prepend your python command with `srun` like so: srun python3 /lu/tetyda/home/dzban112/my_env/lib/python3.10/site ...\n",
      "LOCAL_RANK: 0 - CUDA_VISIBLE_DEVICES: [0]\n"
     ]
    },
    {
     "name": "stdout",
     "output_type": "stream",
     "text": [
      "Testing DataLoader 0: 100%|█████████████████████████████████████████████████████████████| 21/21 [01:31<00:00,  0.23it/s]\n",
      "────────────────────────────────────────────────────────────────────────────────────────────────────────────────────────\n",
      "       Test metric             DataLoader 0\n",
      "────────────────────────────────────────────────────────────────────────────────────────────────────────────────────────\n",
      "      test_C-index          0.5487469434738159\n",
      "        test_loss           2.5357022285461426\n",
      "────────────────────────────────────────────────────────────────────────────────────────────────────────────────────────\n"
     ]
    },
    {
     "name": "stderr",
     "output_type": "stream",
     "text": [
      "/lu/tetyda/home/dzban112/my_env/lib/python3.10/site-packages/lightning_fabric/plugins/environments/slurm.py:204: The `srun` command is available on your system but is not used. HINT: If your intention is to run Lightning on SLURM, prepend your python command with `srun` like so: srun python3 /lu/tetyda/home/dzban112/my_env/lib/python3.10/site ...\n",
      "GPU available: True (cuda), used: True\n",
      "TPU available: False, using: 0 TPU cores\n",
      "HPU available: False, using: 0 HPUs\n",
      "LOCAL_RANK: 0 - CUDA_VISIBLE_DEVICES: [0]\n"
     ]
    },
    {
     "name": "stdout",
     "output_type": "stream",
     "text": [
      "Validation DataLoader 0: 100%|████████████████████████████████████████████████████████████| 6/6 [00:24<00:00,  0.24it/s]\n",
      "────────────────────────────────────────────────────────────────────────────────────────────────────────────────────────\n",
      "     Validate metric           DataLoader 0\n",
      "────────────────────────────────────────────────────────────────────────────────────────────────────────────────────────\n",
      "       val_C-index          0.6702057123184204\n",
      "        val_loss            2.4516987800598145\n",
      "────────────────────────────────────────────────────────────────────────────────────────────────────────────────────────\n"
     ]
    },
    {
     "name": "stderr",
     "output_type": "stream",
     "text": [
      "/lu/tetyda/home/dzban112/my_env/lib/python3.10/site-packages/lightning_fabric/plugins/environments/slurm.py:204: The `srun` command is available on your system but is not used. HINT: If your intention is to run Lightning on SLURM, prepend your python command with `srun` like so: srun python3 /lu/tetyda/home/dzban112/my_env/lib/python3.10/site ...\n",
      "LOCAL_RANK: 0 - CUDA_VISIBLE_DEVICES: [0]\n"
     ]
    },
    {
     "name": "stdout",
     "output_type": "stream",
     "text": [
      "Testing DataLoader 0: 100%|█████████████████████████████████████████████████████████████| 21/21 [01:30<00:00,  0.23it/s]\n",
      "────────────────────────────────────────────────────────────────────────────────────────────────────────────────────────\n",
      "       Test metric             DataLoader 0\n",
      "────────────────────────────────────────────────────────────────────────────────────────────────────────────────────────\n",
      "      test_C-index          0.5595911145210266\n",
      "        test_loss           2.5514321327209473\n",
      "────────────────────────────────────────────────────────────────────────────────────────────────────────────────────────\n"
     ]
    },
    {
     "name": "stderr",
     "output_type": "stream",
     "text": [
      "/lu/tetyda/home/dzban112/my_env/lib/python3.10/site-packages/lightning_fabric/plugins/environments/slurm.py:204: The `srun` command is available on your system but is not used. HINT: If your intention is to run Lightning on SLURM, prepend your python command with `srun` like so: srun python3 /lu/tetyda/home/dzban112/my_env/lib/python3.10/site ...\n",
      "GPU available: True (cuda), used: True\n",
      "TPU available: False, using: 0 TPU cores\n",
      "HPU available: False, using: 0 HPUs\n",
      "LOCAL_RANK: 0 - CUDA_VISIBLE_DEVICES: [0]\n"
     ]
    },
    {
     "name": "stdout",
     "output_type": "stream",
     "text": [
      "Validation DataLoader 0: 100%|████████████████████████████████████████████████████████████| 6/6 [00:25<00:00,  0.24it/s]\n",
      "────────────────────────────────────────────────────────────────────────────────────────────────────────────────────────\n",
      "     Validate metric           DataLoader 0\n",
      "────────────────────────────────────────────────────────────────────────────────────────────────────────────────────────\n",
      "       val_C-index          0.5789473652839661\n",
      "        val_loss            2.1598310470581055\n",
      "────────────────────────────────────────────────────────────────────────────────────────────────────────────────────────\n"
     ]
    },
    {
     "name": "stderr",
     "output_type": "stream",
     "text": [
      "/lu/tetyda/home/dzban112/my_env/lib/python3.10/site-packages/lightning_fabric/plugins/environments/slurm.py:204: The `srun` command is available on your system but is not used. HINT: If your intention is to run Lightning on SLURM, prepend your python command with `srun` like so: srun python3 /lu/tetyda/home/dzban112/my_env/lib/python3.10/site ...\n",
      "LOCAL_RANK: 0 - CUDA_VISIBLE_DEVICES: [0]\n"
     ]
    },
    {
     "name": "stdout",
     "output_type": "stream",
     "text": [
      "Testing DataLoader 0: 100%|█████████████████████████████████████████████████████████████| 21/21 [01:31<00:00,  0.23it/s]\n",
      "────────────────────────────────────────────────────────────────────────────────────────────────────────────────────────\n",
      "       Test metric             DataLoader 0\n",
      "────────────────────────────────────────────────────────────────────────────────────────────────────────────────────────\n",
      "      test_C-index          0.5151247978210449\n",
      "        test_loss            2.711453437805176\n",
      "────────────────────────────────────────────────────────────────────────────────────────────────────────────────────────\n"
     ]
    },
    {
     "name": "stderr",
     "output_type": "stream",
     "text": [
      "/lu/tetyda/home/dzban112/my_env/lib/python3.10/site-packages/lightning_fabric/plugins/environments/slurm.py:204: The `srun` command is available on your system but is not used. HINT: If your intention is to run Lightning on SLURM, prepend your python command with `srun` like so: srun python3 /lu/tetyda/home/dzban112/my_env/lib/python3.10/site ...\n",
      "GPU available: True (cuda), used: True\n",
      "TPU available: False, using: 0 TPU cores\n",
      "HPU available: False, using: 0 HPUs\n",
      "LOCAL_RANK: 0 - CUDA_VISIBLE_DEVICES: [0]\n"
     ]
    },
    {
     "name": "stdout",
     "output_type": "stream",
     "text": [
      "Validation DataLoader 0: 100%|████████████████████████████████████████████████████████████| 6/6 [00:24<00:00,  0.24it/s]\n",
      "────────────────────────────────────────────────────────────────────────────────────────────────────────────────────────\n",
      "     Validate metric           DataLoader 0\n",
      "────────────────────────────────────────────────────────────────────────────────────────────────────────────────────────\n",
      "       val_C-index           0.645285427570343\n",
      "        val_loss            2.3429667949676514\n",
      "────────────────────────────────────────────────────────────────────────────────────────────────────────────────────────\n"
     ]
    },
    {
     "name": "stderr",
     "output_type": "stream",
     "text": [
      "/lu/tetyda/home/dzban112/my_env/lib/python3.10/site-packages/lightning_fabric/plugins/environments/slurm.py:204: The `srun` command is available on your system but is not used. HINT: If your intention is to run Lightning on SLURM, prepend your python command with `srun` like so: srun python3 /lu/tetyda/home/dzban112/my_env/lib/python3.10/site ...\n",
      "LOCAL_RANK: 0 - CUDA_VISIBLE_DEVICES: [0]\n"
     ]
    },
    {
     "name": "stdout",
     "output_type": "stream",
     "text": [
      "Testing DataLoader 0: 100%|█████████████████████████████████████████████████████████████| 21/21 [01:30<00:00,  0.23it/s]\n",
      "────────────────────────────────────────────────────────────────────────────────────────────────────────────────────────\n",
      "       Test metric             DataLoader 0\n",
      "────────────────────────────────────────────────────────────────────────────────────────────────────────────────────────\n",
      "      test_C-index          0.5497328042984009\n",
      "        test_loss            2.600771903991699\n",
      "────────────────────────────────────────────────────────────────────────────────────────────────────────────────────────\n"
     ]
    }
   ],
   "source": [
    "MODALITY = Modality.MERGED\n",
    "res = model_evaluation(\"dino_vitb8_5\", \"v1\")"
   ]
  },
  {
   "cell_type": "code",
   "execution_count": 21,
   "id": "881c98be-29ba-4667-a704-2b44555153d2",
   "metadata": {},
   "outputs": [
    {
     "data": {
      "text/html": [
       "<table>\n",
       "    <thead>\n",
       "        <tr>\n",
       "            <th>Fold</th>\n",
       "            <th>Test C-index</th>\n",
       "            <th>Val C-index</th>\n",
       "            <th>Test loss</th>\n",
       "        </tr>\n",
       "    </thead>\n",
       "    <tbody>\n",
       "        <tr>\n",
       "            <td>Fold 1</td>\n",
       "            <td>0.56</td>\n",
       "            <td>0.688</td>\n",
       "            <td>2.54</td>\n",
       "        </tr>\n",
       "        <tr>\n",
       "            <td>Fold 2</td>\n",
       "            <td>0.549</td>\n",
       "            <td>0.585</td>\n",
       "            <td>2.536</td>\n",
       "        </tr>\n",
       "        <tr>\n",
       "            <td>Fold 3</td>\n",
       "            <td>0.56</td>\n",
       "            <td>0.67</td>\n",
       "            <td>2.551</td>\n",
       "        </tr>\n",
       "        <tr>\n",
       "            <td>Fold 4</td>\n",
       "            <td>0.515</td>\n",
       "            <td>0.579</td>\n",
       "            <td>2.711</td>\n",
       "        </tr>\n",
       "        <tr>\n",
       "            <td>Fold 5</td>\n",
       "            <td>0.55</td>\n",
       "            <td>0.645</td>\n",
       "            <td>2.601</td>\n",
       "        </tr>\n",
       "    </tbody>\n",
       "</table>"
      ],
      "text/plain": [
       "+--------+--------------+-------------+-----------+\n",
       "| Fold   | Test C-index | Val C-index | Test loss |\n",
       "+--------+--------------+-------------+-----------+\n",
       "| Fold 1 | 0.56         | 0.688       | 2.54      |\n",
       "| Fold 2 | 0.549        | 0.585       | 2.536     |\n",
       "| Fold 3 | 0.56         | 0.67        | 2.551     |\n",
       "| Fold 4 | 0.515        | 0.579       | 2.711     |\n",
       "| Fold 5 | 0.55         | 0.645       | 2.601     |\n",
       "+--------+--------------+-------------+-----------+"
      ]
     },
     "execution_count": 21,
     "metadata": {},
     "output_type": "execute_result"
    }
   ],
   "source": [
    "compute_results(res)"
   ]
  },
  {
   "cell_type": "markdown",
   "id": "7b7abf1d-2865-4cea-bcce-9e8914345e7a",
   "metadata": {},
   "source": [
    "##### Version 2"
   ]
  },
  {
   "cell_type": "code",
   "execution_count": 22,
   "id": "d8a84b5b-8db4-45fc-bae9-1f50ef10ee07",
   "metadata": {
    "scrolled": true
   },
   "outputs": [
    {
     "name": "stderr",
     "output_type": "stream",
     "text": [
      "/lu/tetyda/home/dzban112/my_env/lib/python3.10/site-packages/lightning_fabric/plugins/environments/slurm.py:204: The `srun` command is available on your system but is not used. HINT: If your intention is to run Lightning on SLURM, prepend your python command with `srun` like so: srun python3 /lu/tetyda/home/dzban112/my_env/lib/python3.10/site ...\n",
      "GPU available: True (cuda), used: True\n",
      "TPU available: False, using: 0 TPU cores\n",
      "HPU available: False, using: 0 HPUs\n",
      "LOCAL_RANK: 0 - CUDA_VISIBLE_DEVICES: [0]\n"
     ]
    },
    {
     "name": "stdout",
     "output_type": "stream",
     "text": [
      "Validation DataLoader 0: 100%|████████████████████████████████████████████████████████████| 6/6 [00:24<00:00,  0.24it/s]\n",
      "────────────────────────────────────────────────────────────────────────────────────────────────────────────────────────\n",
      "     Validate metric           DataLoader 0\n",
      "────────────────────────────────────────────────────────────────────────────────────────────────────────────────────────\n",
      "       val_C-index          0.6818830370903015\n",
      "        val_loss             2.222334861755371\n",
      "────────────────────────────────────────────────────────────────────────────────────────────────────────────────────────\n"
     ]
    },
    {
     "name": "stderr",
     "output_type": "stream",
     "text": [
      "/lu/tetyda/home/dzban112/my_env/lib/python3.10/site-packages/lightning_fabric/plugins/environments/slurm.py:204: The `srun` command is available on your system but is not used. HINT: If your intention is to run Lightning on SLURM, prepend your python command with `srun` like so: srun python3 /lu/tetyda/home/dzban112/my_env/lib/python3.10/site ...\n",
      "LOCAL_RANK: 0 - CUDA_VISIBLE_DEVICES: [0]\n"
     ]
    },
    {
     "name": "stdout",
     "output_type": "stream",
     "text": [
      "Testing DataLoader 0: 100%|█████████████████████████████████████████████████████████████| 21/21 [01:29<00:00,  0.23it/s]\n",
      "────────────────────────────────────────────────────────────────────────────────────────────────────────────────────────\n",
      "       Test metric             DataLoader 0\n",
      "────────────────────────────────────────────────────────────────────────────────────────────────────────────────────────\n",
      "      test_C-index          0.5552327036857605\n",
      "        test_loss           2.5441339015960693\n",
      "────────────────────────────────────────────────────────────────────────────────────────────────────────────────────────\n"
     ]
    },
    {
     "name": "stderr",
     "output_type": "stream",
     "text": [
      "/lu/tetyda/home/dzban112/my_env/lib/python3.10/site-packages/lightning_fabric/plugins/environments/slurm.py:204: The `srun` command is available on your system but is not used. HINT: If your intention is to run Lightning on SLURM, prepend your python command with `srun` like so: srun python3 /lu/tetyda/home/dzban112/my_env/lib/python3.10/site ...\n",
      "GPU available: True (cuda), used: True\n",
      "TPU available: False, using: 0 TPU cores\n",
      "HPU available: False, using: 0 HPUs\n",
      "LOCAL_RANK: 0 - CUDA_VISIBLE_DEVICES: [0]\n"
     ]
    },
    {
     "name": "stdout",
     "output_type": "stream",
     "text": [
      "Validation DataLoader 0: 100%|████████████████████████████████████████████████████████████| 6/6 [00:24<00:00,  0.24it/s]\n",
      "────────────────────────────────────────────────────────────────────────────────────────────────────────────────────────\n",
      "     Validate metric           DataLoader 0\n",
      "────────────────────────────────────────────────────────────────────────────────────────────────────────────────────────\n",
      "       val_C-index          0.5886076092720032\n",
      "        val_loss             2.445624589920044\n",
      "────────────────────────────────────────────────────────────────────────────────────────────────────────────────────────\n"
     ]
    },
    {
     "name": "stderr",
     "output_type": "stream",
     "text": [
      "/lu/tetyda/home/dzban112/my_env/lib/python3.10/site-packages/lightning_fabric/plugins/environments/slurm.py:204: The `srun` command is available on your system but is not used. HINT: If your intention is to run Lightning on SLURM, prepend your python command with `srun` like so: srun python3 /lu/tetyda/home/dzban112/my_env/lib/python3.10/site ...\n",
      "LOCAL_RANK: 0 - CUDA_VISIBLE_DEVICES: [0]\n"
     ]
    },
    {
     "name": "stdout",
     "output_type": "stream",
     "text": [
      "Testing DataLoader 0: 100%|█████████████████████████████████████████████████████████████| 21/21 [01:30<00:00,  0.23it/s]\n",
      "────────────────────────────────────────────────────────────────────────────────────────────────────────────────────────\n",
      "       Test metric             DataLoader 0\n",
      "────────────────────────────────────────────────────────────────────────────────────────────────────────────────────────\n",
      "      test_C-index          0.5374876856803894\n",
      "        test_loss           2.6049444675445557\n",
      "────────────────────────────────────────────────────────────────────────────────────────────────────────────────────────\n"
     ]
    },
    {
     "name": "stderr",
     "output_type": "stream",
     "text": [
      "/lu/tetyda/home/dzban112/my_env/lib/python3.10/site-packages/lightning_fabric/plugins/environments/slurm.py:204: The `srun` command is available on your system but is not used. HINT: If your intention is to run Lightning on SLURM, prepend your python command with `srun` like so: srun python3 /lu/tetyda/home/dzban112/my_env/lib/python3.10/site ...\n",
      "GPU available: True (cuda), used: True\n",
      "TPU available: False, using: 0 TPU cores\n",
      "HPU available: False, using: 0 HPUs\n",
      "LOCAL_RANK: 0 - CUDA_VISIBLE_DEVICES: [0]\n"
     ]
    },
    {
     "name": "stdout",
     "output_type": "stream",
     "text": [
      "Validation DataLoader 0: 100%|████████████████████████████████████████████████████████████| 6/6 [00:24<00:00,  0.24it/s]\n",
      "────────────────────────────────────────────────────────────────────────────────────────────────────────────────────────\n",
      "     Validate metric           DataLoader 0\n",
      "────────────────────────────────────────────────────────────────────────────────────────────────────────────────────────\n",
      "       val_C-index          0.6569343209266663\n",
      "        val_loss            2.4547324180603027\n",
      "────────────────────────────────────────────────────────────────────────────────────────────────────────────────────────\n"
     ]
    },
    {
     "name": "stderr",
     "output_type": "stream",
     "text": [
      "/lu/tetyda/home/dzban112/my_env/lib/python3.10/site-packages/lightning_fabric/plugins/environments/slurm.py:204: The `srun` command is available on your system but is not used. HINT: If your intention is to run Lightning on SLURM, prepend your python command with `srun` like so: srun python3 /lu/tetyda/home/dzban112/my_env/lib/python3.10/site ...\n",
      "LOCAL_RANK: 0 - CUDA_VISIBLE_DEVICES: [0]\n"
     ]
    },
    {
     "name": "stdout",
     "output_type": "stream",
     "text": [
      "Testing DataLoader 0: 100%|█████████████████████████████████████████████████████████████| 21/21 [01:30<00:00,  0.23it/s]\n",
      "────────────────────────────────────────────────────────────────────────────────────────────────────────────────────────\n",
      "       Test metric             DataLoader 0\n",
      "────────────────────────────────────────────────────────────────────────────────────────────────────────────────────────\n",
      "      test_C-index          0.5565298795700073\n",
      "        test_loss           2.5698351860046387\n",
      "────────────────────────────────────────────────────────────────────────────────────────────────────────────────────────\n"
     ]
    },
    {
     "name": "stderr",
     "output_type": "stream",
     "text": [
      "/lu/tetyda/home/dzban112/my_env/lib/python3.10/site-packages/lightning_fabric/plugins/environments/slurm.py:204: The `srun` command is available on your system but is not used. HINT: If your intention is to run Lightning on SLURM, prepend your python command with `srun` like so: srun python3 /lu/tetyda/home/dzban112/my_env/lib/python3.10/site ...\n",
      "GPU available: True (cuda), used: True\n",
      "TPU available: False, using: 0 TPU cores\n",
      "HPU available: False, using: 0 HPUs\n",
      "LOCAL_RANK: 0 - CUDA_VISIBLE_DEVICES: [0]\n"
     ]
    },
    {
     "name": "stdout",
     "output_type": "stream",
     "text": [
      "Validation DataLoader 0: 100%|████████████████████████████████████████████████████████████| 6/6 [00:24<00:00,  0.24it/s]\n",
      "────────────────────────────────────────────────────────────────────────────────────────────────────────────────────────\n",
      "     Validate metric           DataLoader 0\n",
      "────────────────────────────────────────────────────────────────────────────────────────────────────────────────────────\n",
      "       val_C-index          0.6041512489318848\n",
      "        val_loss            2.2073278427124023\n",
      "────────────────────────────────────────────────────────────────────────────────────────────────────────────────────────\n"
     ]
    },
    {
     "name": "stderr",
     "output_type": "stream",
     "text": [
      "/lu/tetyda/home/dzban112/my_env/lib/python3.10/site-packages/lightning_fabric/plugins/environments/slurm.py:204: The `srun` command is available on your system but is not used. HINT: If your intention is to run Lightning on SLURM, prepend your python command with `srun` like so: srun python3 /lu/tetyda/home/dzban112/my_env/lib/python3.10/site ...\n",
      "LOCAL_RANK: 0 - CUDA_VISIBLE_DEVICES: [0]\n"
     ]
    },
    {
     "name": "stdout",
     "output_type": "stream",
     "text": [
      "Testing DataLoader 0: 100%|█████████████████████████████████████████████████████████████| 21/21 [01:30<00:00,  0.23it/s]\n",
      "────────────────────────────────────────────────────────────────────────────────────────────────────────────────────────\n",
      "       Test metric             DataLoader 0\n",
      "────────────────────────────────────────────────────────────────────────────────────────────────────────────────────────\n",
      "      test_C-index          0.5581383109092712\n",
      "        test_loss            2.570939064025879\n",
      "────────────────────────────────────────────────────────────────────────────────────────────────────────────────────────\n"
     ]
    },
    {
     "name": "stderr",
     "output_type": "stream",
     "text": [
      "/lu/tetyda/home/dzban112/my_env/lib/python3.10/site-packages/lightning_fabric/plugins/environments/slurm.py:204: The `srun` command is available on your system but is not used. HINT: If your intention is to run Lightning on SLURM, prepend your python command with `srun` like so: srun python3 /lu/tetyda/home/dzban112/my_env/lib/python3.10/site ...\n",
      "GPU available: True (cuda), used: True\n",
      "TPU available: False, using: 0 TPU cores\n",
      "HPU available: False, using: 0 HPUs\n",
      "LOCAL_RANK: 0 - CUDA_VISIBLE_DEVICES: [0]\n"
     ]
    },
    {
     "name": "stdout",
     "output_type": "stream",
     "text": [
      "Validation DataLoader 0: 100%|████████████████████████████████████████████████████████████| 6/6 [00:24<00:00,  0.24it/s]\n",
      "────────────────────────────────────────────────────────────────────────────────────────────────────────────────────────\n",
      "     Validate metric           DataLoader 0\n",
      "────────────────────────────────────────────────────────────────────────────────────────────────────────────────────────\n",
      "       val_C-index          0.6337395906448364\n",
      "        val_loss            2.4187257289886475\n",
      "────────────────────────────────────────────────────────────────────────────────────────────────────────────────────────\n"
     ]
    },
    {
     "name": "stderr",
     "output_type": "stream",
     "text": [
      "/lu/tetyda/home/dzban112/my_env/lib/python3.10/site-packages/lightning_fabric/plugins/environments/slurm.py:204: The `srun` command is available on your system but is not used. HINT: If your intention is to run Lightning on SLURM, prepend your python command with `srun` like so: srun python3 /lu/tetyda/home/dzban112/my_env/lib/python3.10/site ...\n",
      "LOCAL_RANK: 0 - CUDA_VISIBLE_DEVICES: [0]\n"
     ]
    },
    {
     "name": "stdout",
     "output_type": "stream",
     "text": [
      "Testing DataLoader 0: 100%|█████████████████████████████████████████████████████████████| 21/21 [01:31<00:00,  0.23it/s]\n",
      "────────────────────────────────────────────────────────────────────────────────────────────────────────────────────────\n",
      "       Test metric             DataLoader 0\n",
      "────────────────────────────────────────────────────────────────────────────────────────────────────────────────────────\n",
      "      test_C-index          0.5592279434204102\n",
      "        test_loss           2.6070096492767334\n",
      "────────────────────────────────────────────────────────────────────────────────────────────────────────────────────────\n"
     ]
    }
   ],
   "source": [
    "MODALITY = Modality.MERGED\n",
    "res = model_evaluation(\"dino_vitb8_5\", \"v2\")"
   ]
  },
  {
   "cell_type": "code",
   "execution_count": 23,
   "id": "32af4ec0-8c02-41b1-bc32-91661ec8f4ff",
   "metadata": {},
   "outputs": [
    {
     "data": {
      "text/html": [
       "<table>\n",
       "    <thead>\n",
       "        <tr>\n",
       "            <th>Fold</th>\n",
       "            <th>Test C-index</th>\n",
       "            <th>Val C-index</th>\n",
       "            <th>Test loss</th>\n",
       "        </tr>\n",
       "    </thead>\n",
       "    <tbody>\n",
       "        <tr>\n",
       "            <td>Fold 1</td>\n",
       "            <td>0.555</td>\n",
       "            <td>0.682</td>\n",
       "            <td>2.544</td>\n",
       "        </tr>\n",
       "        <tr>\n",
       "            <td>Fold 2</td>\n",
       "            <td>0.537</td>\n",
       "            <td>0.589</td>\n",
       "            <td>2.605</td>\n",
       "        </tr>\n",
       "        <tr>\n",
       "            <td>Fold 3</td>\n",
       "            <td>0.557</td>\n",
       "            <td>0.657</td>\n",
       "            <td>2.57</td>\n",
       "        </tr>\n",
       "        <tr>\n",
       "            <td>Fold 4</td>\n",
       "            <td>0.558</td>\n",
       "            <td>0.604</td>\n",
       "            <td>2.571</td>\n",
       "        </tr>\n",
       "        <tr>\n",
       "            <td>Fold 5</td>\n",
       "            <td>0.559</td>\n",
       "            <td>0.634</td>\n",
       "            <td>2.607</td>\n",
       "        </tr>\n",
       "    </tbody>\n",
       "</table>"
      ],
      "text/plain": [
       "+--------+--------------+-------------+-----------+\n",
       "| Fold   | Test C-index | Val C-index | Test loss |\n",
       "+--------+--------------+-------------+-----------+\n",
       "| Fold 1 | 0.555        | 0.682       | 2.544     |\n",
       "| Fold 2 | 0.537        | 0.589       | 2.605     |\n",
       "| Fold 3 | 0.557        | 0.657       | 2.57      |\n",
       "| Fold 4 | 0.558        | 0.604       | 2.571     |\n",
       "| Fold 5 | 0.559        | 0.634       | 2.607     |\n",
       "+--------+--------------+-------------+-----------+"
      ]
     },
     "execution_count": 23,
     "metadata": {},
     "output_type": "execute_result"
    }
   ],
   "source": [
    "compute_results(res)"
   ]
  },
  {
   "cell_type": "markdown",
   "id": "d051e2a7-a11b-4f16-994e-67d66f9b1988",
   "metadata": {},
   "source": [
    "## Incorporating PCA between Encoder and MLP Head."
   ]
  },
  {
   "cell_type": "markdown",
   "id": "1a434644-52e0-44fa-8e8a-47c725161e4a",
   "metadata": {},
   "source": [
    "Obtaining hidden states for a training set to fit on them PCA."
   ]
  },
  {
   "cell_type": "code",
   "execution_count": 4,
   "id": "7dbe3945-7feb-4aa5-a7c1-f05d0f914967",
   "metadata": {},
   "outputs": [],
   "source": [
    "import torch\n",
    "from typing import Optional, Union, Literal\n",
    "from sklearn.decomposition import PCA\n",
    "from tqdm import tqdm\n",
    "import numpy as np\n",
    "import matplotlib.pyplot as plt\n",
    "\n",
    "def fit_PCA(model_name: str,\n",
    "            version: Optional[str] = None,\n",
    "            n_components:Optional[int]=30,\n",
    "            plot_variance_ratio:bool=False,\n",
    "            save_PCA_factors:bool=False\n",
    "           ):\n",
    "    device = \"cuda\" if torch.cuda.is_available() else \"cpu\"\n",
    "    \n",
    "    def _setup(fold: Union[int, Literal[\"all\"]] = 1):\n",
    "        # DataModule setup\n",
    "        dm = HECKTOR_DataModule(\n",
    "            fold=fold,\n",
    "            data_path=DATA_PATH,\n",
    "            batch_size=BATCH_SIZE,\n",
    "            num_workers=NUM_WORKERS,\n",
    "            selected_train_transforms=SELECTED_TRAIN_TRANSFORMS,\n",
    "            modality=MODALITY\n",
    "        )\n",
    "        \n",
    "        if version is None:\n",
    "            ckpt_path = CHECKPOINTS_PATH + model_name + f\"_{fold}\" + \".ckpt\"\n",
    "        else:\n",
    "            ckpt_path = CHECKPOINTS_PATH + model_name + f\"_{fold}\" + f\"-{version}\" + \".ckpt\"\n",
    "        \n",
    "        # Model setup\n",
    "        model = HECKTOR_Model.load_from_checkpoint(ckpt_path)\n",
    "        model = model.to(device)\n",
    "        return dm, model\n",
    "\n",
    "    def _plot_variance_ratio(pca, fold):\n",
    "        cumulative_explained_variance = np.cumsum(pca.explained_variance_ratio_)\n",
    "        return cumulative_explained_variance\n",
    "\n",
    "    res = {}\n",
    "    all_cumulative_explained_variances = []\n",
    "    \n",
    "    for fold in range(1, 6):\n",
    "        print(f\"Fold: {fold}\")\n",
    "        dm, model = _setup(fold=fold)\n",
    "        dm.setup()\n",
    "        train_loader = dm.train_dataloader()\n",
    "        res[f\"fold_{fold}\"] = []\n",
    "        \n",
    "        for batch in tqdm(iter(train_loader)):\n",
    "            inputs = batch[\"crop\"].to(device)\n",
    "            with torch.no_grad():\n",
    "                hs = model.forward(inputs, extract_hidden_states=True)\n",
    "            res[f\"fold_{fold}\"].append(hs.cpu())\n",
    "\n",
    "    if version == None:\n",
    "        fold = \"all\"\n",
    "        print(f\"Fold: {fold}\")\n",
    "        dm, model = _setup(fold=fold)\n",
    "        dm.setup()\n",
    "        train_loader = dm.train_dataloader()\n",
    "        res[f\"fold_{fold}\"] = []\n",
    "        for batch in tqdm(iter(train_loader)):\n",
    "            inputs = batch[\"crop\"].to(device)\n",
    "            with torch.no_grad():\n",
    "                hs = model.forward(inputs, extract_hidden_states=True)\n",
    "                res[f\"fold_{fold}\"].append(hs.cpu())\n",
    "       \n",
    "    print(\"Finalizing features extraction ...\")\n",
    "    for key in res.keys():\n",
    "        res[key] = torch.cat(res[key], dim=0).numpy()\n",
    "    print(\"Features extracted\")      \n",
    "    print(\"Fitting PCA ...\")\n",
    "    \n",
    "    for fold, key in enumerate(res.keys(), start=1):\n",
    "        pca = PCA(n_components=n_components)\n",
    "        pca.fit(res[key])\n",
    "\n",
    "        if plot_variance_ratio:\n",
    "            cumulative_explained_variance = _plot_variance_ratio(pca, fold)\n",
    "            all_cumulative_explained_variances.append((fold, cumulative_explained_variance))\n",
    "\n",
    "        if save_PCA_factors:\n",
    "            save_path = save_path = f\"Data/train_data/PCA_factors/{model_name}_{version + '_' if version is not None else ''}{key}.pt\"\n",
    "            pca_components = torch.Tensor(pca.components_)\n",
    "            pca_mean = torch.Tensor(pca.mean_)\n",
    "            torch.save({\"components\": pca_components, \"mean\": pca_mean}, save_path)\n",
    "    \n",
    "    if plot_variance_ratio:\n",
    "        plt.figure(figsize=(10, 5))\n",
    "        for fold, cumulative_explained_variance in all_cumulative_explained_variances:\n",
    "            plt.plot(range(1, len(cumulative_explained_variance) + 1), cumulative_explained_variance, marker='o', linestyle='--', label=f'Fold {fold}')\n",
    "        plt.xlabel('Number of Principal Components')\n",
    "        plt.ylabel('Cumulative Explained Variance')\n",
    "        plt.title('Cumulative Explained Variance as a Function of the Number of Components')\n",
    "        plt.legend()\n",
    "        plt.grid(True)\n",
    "        plt.show()\n",
    "\n",
    "    print(\"Done\")"
   ]
  },
  {
   "cell_type": "markdown",
   "id": "3b2322db-603a-4253-9f5f-11a951fbbeae",
   "metadata": {
    "jp-MarkdownHeadingCollapsed": true
   },
   "source": [
    "#### Exctracting features ViTs8 - CT"
   ]
  },
  {
   "cell_type": "code",
   "execution_count": 7,
   "id": "a620c0a2-4533-4abf-9934-a2dca17258ef",
   "metadata": {},
   "outputs": [
    {
     "name": "stdout",
     "output_type": "stream",
     "text": [
      "Fold: 1\n"
     ]
    },
    {
     "name": "stderr",
     "output_type": "stream",
     "text": [
      "100%|███████████████████████████████████████████████████████████████████████████████████| 24/24 [00:06<00:00,  3.90it/s]\n"
     ]
    },
    {
     "name": "stdout",
     "output_type": "stream",
     "text": [
      "Fold: 2\n"
     ]
    },
    {
     "name": "stderr",
     "output_type": "stream",
     "text": [
      "100%|███████████████████████████████████████████████████████████████████████████████████| 24/24 [00:06<00:00,  3.82it/s]\n"
     ]
    },
    {
     "name": "stdout",
     "output_type": "stream",
     "text": [
      "Fold: 3\n"
     ]
    },
    {
     "name": "stderr",
     "output_type": "stream",
     "text": [
      "100%|███████████████████████████████████████████████████████████████████████████████████| 24/24 [00:06<00:00,  3.88it/s]\n"
     ]
    },
    {
     "name": "stdout",
     "output_type": "stream",
     "text": [
      "Fold: 4\n"
     ]
    },
    {
     "name": "stderr",
     "output_type": "stream",
     "text": [
      "100%|███████████████████████████████████████████████████████████████████████████████████| 24/24 [00:06<00:00,  3.81it/s]\n"
     ]
    },
    {
     "name": "stdout",
     "output_type": "stream",
     "text": [
      "Fold: 5\n"
     ]
    },
    {
     "name": "stderr",
     "output_type": "stream",
     "text": [
      "100%|███████████████████████████████████████████████████████████████████████████████████| 24/24 [00:06<00:00,  3.83it/s]\n"
     ]
    },
    {
     "name": "stdout",
     "output_type": "stream",
     "text": [
      "Fold: all\n"
     ]
    },
    {
     "name": "stderr",
     "output_type": "stream",
     "text": [
      "100%|███████████████████████████████████████████████████████████████████████████████████| 30/30 [00:07<00:00,  4.00it/s]\n"
     ]
    },
    {
     "name": "stdout",
     "output_type": "stream",
     "text": [
      "Finalizing features extraction ...\n",
      "Features extracted\n",
      "Fitting PCA ...\n"
     ]
    },
    {
     "data": {
      "image/png": "[encoded data removed]",
      "text/plain": [
       "<Figure size 1000x500 with 1 Axes>"
      ]
     },
     "metadata": {},
     "output_type": "display_data"
    },
    {
     "name": "stdout",
     "output_type": "stream",
     "text": [
      "Done\n"
     ]
    }
   ],
   "source": [
    "MODALITY = Modality.CT\n",
    "results = fit_PCA(\"dino_vits8_1\", n_components=None, plot_variance_ratio=True)"
   ]
  },
  {
   "cell_type": "markdown",
   "id": "810e2729-71b7-445e-bd34-eece3fdb8fc3",
   "metadata": {},
   "source": [
    "##### Saving top n components"
   ]
  },
  {
   "cell_type": "code",
   "execution_count": 8,
   "id": "ef3ea159-c04a-427e-a20a-d3e005b7dfd4",
   "metadata": {},
   "outputs": [
    {
     "name": "stdout",
     "output_type": "stream",
     "text": [
      "Fold: 1\n"
     ]
    },
    {
     "name": "stderr",
     "output_type": "stream",
     "text": [
      "100%|███████████████████████████████████████████████████████████████████████████████████| 24/24 [00:06<00:00,  3.75it/s]\n"
     ]
    },
    {
     "name": "stdout",
     "output_type": "stream",
     "text": [
      "Fold: 2\n"
     ]
    },
    {
     "name": "stderr",
     "output_type": "stream",
     "text": [
      "100%|███████████████████████████████████████████████████████████████████████████████████| 24/24 [00:06<00:00,  3.55it/s]\n"
     ]
    },
    {
     "name": "stdout",
     "output_type": "stream",
     "text": [
      "Fold: 3\n"
     ]
    },
    {
     "name": "stderr",
     "output_type": "stream",
     "text": [
      "100%|███████████████████████████████████████████████████████████████████████████████████| 24/24 [00:06<00:00,  3.81it/s]\n"
     ]
    },
    {
     "name": "stdout",
     "output_type": "stream",
     "text": [
      "Fold: 4\n"
     ]
    },
    {
     "name": "stderr",
     "output_type": "stream",
     "text": [
      "100%|███████████████████████████████████████████████████████████████████████████████████| 24/24 [00:06<00:00,  3.80it/s]\n"
     ]
    },
    {
     "name": "stdout",
     "output_type": "stream",
     "text": [
      "Fold: 5\n"
     ]
    },
    {
     "name": "stderr",
     "output_type": "stream",
     "text": [
      "100%|███████████████████████████████████████████████████████████████████████████████████| 24/24 [00:06<00:00,  3.91it/s]\n"
     ]
    },
    {
     "name": "stdout",
     "output_type": "stream",
     "text": [
      "Fold: all\n"
     ]
    },
    {
     "name": "stderr",
     "output_type": "stream",
     "text": [
      "100%|███████████████████████████████████████████████████████████████████████████████████| 30/30 [00:07<00:00,  3.95it/s]\n"
     ]
    },
    {
     "name": "stdout",
     "output_type": "stream",
     "text": [
      "Finalizing features extraction ...\n",
      "Features extracted\n",
      "Fitting PCA ...\n"
     ]
    },
    {
     "data": {
      "image/png": "[encoded data removed]",
      "text/plain": [
       "<Figure size 1000x500 with 1 Axes>"
      ]
     },
     "metadata": {},
     "output_type": "display_data"
    },
    {
     "name": "stdout",
     "output_type": "stream",
     "text": [
      "Done\n"
     ]
    }
   ],
   "source": [
    "MODALITY = Modality.CT\n",
    "results = fit_PCA(\"dino_vits8_1\", n_components=150, plot_variance_ratio=True, save_PCA_factors=True)"
   ]
  },
  {
   "cell_type": "markdown",
   "id": "385dbf80-a785-46cd-a9dc-aec98e34d376",
   "metadata": {
    "jp-MarkdownHeadingCollapsed": true
   },
   "source": [
    "#### Exctracting features ViTs8 - BOTH CT and PET"
   ]
  },
  {
   "cell_type": "code",
   "execution_count": 9,
   "id": "c4ec8167-ece7-4d6e-b824-45ff3bee4fc9",
   "metadata": {},
   "outputs": [
    {
     "name": "stdout",
     "output_type": "stream",
     "text": [
      "Fold: 1\n"
     ]
    },
    {
     "name": "stderr",
     "output_type": "stream",
     "text": [
      "100%|███████████████████████████████████████████████████████████████████████████████████| 24/24 [00:10<00:00,  2.19it/s]\n"
     ]
    },
    {
     "name": "stdout",
     "output_type": "stream",
     "text": [
      "Fold: 2\n"
     ]
    },
    {
     "name": "stderr",
     "output_type": "stream",
     "text": [
      "100%|███████████████████████████████████████████████████████████████████████████████████| 24/24 [00:11<00:00,  2.11it/s]\n"
     ]
    },
    {
     "name": "stdout",
     "output_type": "stream",
     "text": [
      "Fold: 3\n"
     ]
    },
    {
     "name": "stderr",
     "output_type": "stream",
     "text": [
      "100%|███████████████████████████████████████████████████████████████████████████████████| 24/24 [00:11<00:00,  2.08it/s]\n"
     ]
    },
    {
     "name": "stdout",
     "output_type": "stream",
     "text": [
      "Fold: 4\n"
     ]
    },
    {
     "name": "stderr",
     "output_type": "stream",
     "text": [
      "100%|███████████████████████████████████████████████████████████████████████████████████| 24/24 [00:11<00:00,  2.11it/s]\n"
     ]
    },
    {
     "name": "stdout",
     "output_type": "stream",
     "text": [
      "Fold: 5\n"
     ]
    },
    {
     "name": "stderr",
     "output_type": "stream",
     "text": [
      "100%|███████████████████████████████████████████████████████████████████████████████████| 24/24 [00:11<00:00,  2.12it/s]\n"
     ]
    },
    {
     "name": "stdout",
     "output_type": "stream",
     "text": [
      "Fold: all\n"
     ]
    },
    {
     "name": "stderr",
     "output_type": "stream",
     "text": [
      "100%|███████████████████████████████████████████████████████████████████████████████████| 30/30 [00:14<00:00,  2.06it/s]\n"
     ]
    },
    {
     "name": "stdout",
     "output_type": "stream",
     "text": [
      "Finalizing features extraction ...\n",
      "Features extracted\n",
      "Fitting PCA ...\n"
     ]
    },
    {
     "data": {
      "image/png": "[encoded data removed]",
      "text/plain": [
       "<Figure size 1000x500 with 1 Axes>"
      ]
     },
     "metadata": {},
     "output_type": "display_data"
    },
    {
     "name": "stdout",
     "output_type": "stream",
     "text": [
      "Done\n"
     ]
    }
   ],
   "source": [
    "MODALITY = Modality.BOTH\n",
    "results = fit_PCA(\"dino_vits8_3\", n_components=None, plot_variance_ratio=True)"
   ]
  },
  {
   "cell_type": "markdown",
   "id": "3a73af4d-cb32-42bb-b471-0d505ff77921",
   "metadata": {},
   "source": [
    "##### Saving top n components"
   ]
  },
  {
   "cell_type": "code",
   "execution_count": 10,
   "id": "71810622-bfc0-4d65-9506-b1a9103fd545",
   "metadata": {},
   "outputs": [
    {
     "name": "stdout",
     "output_type": "stream",
     "text": [
      "Fold: 1\n"
     ]
    },
    {
     "name": "stderr",
     "output_type": "stream",
     "text": [
      "100%|███████████████████████████████████████████████████████████████████████████████████| 24/24 [00:11<00:00,  2.02it/s]\n"
     ]
    },
    {
     "name": "stdout",
     "output_type": "stream",
     "text": [
      "Fold: 2\n"
     ]
    },
    {
     "name": "stderr",
     "output_type": "stream",
     "text": [
      "100%|███████████████████████████████████████████████████████████████████████████████████| 24/24 [00:10<00:00,  2.22it/s]\n"
     ]
    },
    {
     "name": "stdout",
     "output_type": "stream",
     "text": [
      "Fold: 3\n"
     ]
    },
    {
     "name": "stderr",
     "output_type": "stream",
     "text": [
      "100%|███████████████████████████████████████████████████████████████████████████████████| 24/24 [00:11<00:00,  2.12it/s]\n"
     ]
    },
    {
     "name": "stdout",
     "output_type": "stream",
     "text": [
      "Fold: 4\n"
     ]
    },
    {
     "name": "stderr",
     "output_type": "stream",
     "text": [
      "100%|███████████████████████████████████████████████████████████████████████████████████| 24/24 [00:11<00:00,  2.05it/s]\n"
     ]
    },
    {
     "name": "stdout",
     "output_type": "stream",
     "text": [
      "Fold: 5\n"
     ]
    },
    {
     "name": "stderr",
     "output_type": "stream",
     "text": [
      "100%|███████████████████████████████████████████████████████████████████████████████████| 24/24 [00:11<00:00,  2.10it/s]\n"
     ]
    },
    {
     "name": "stdout",
     "output_type": "stream",
     "text": [
      "Fold: all\n"
     ]
    },
    {
     "name": "stderr",
     "output_type": "stream",
     "text": [
      "100%|███████████████████████████████████████████████████████████████████████████████████| 30/30 [00:14<00:00,  2.12it/s]\n"
     ]
    },
    {
     "name": "stdout",
     "output_type": "stream",
     "text": [
      "Finalizing features extraction ...\n",
      "Features extracted\n",
      "Fitting PCA ...\n"
     ]
    },
    {
     "data": {
      "image/png": "[encoded data removed]",
      "text/plain": [
       "<Figure size 1000x500 with 1 Axes>"
      ]
     },
     "metadata": {},
     "output_type": "display_data"
    },
    {
     "name": "stdout",
     "output_type": "stream",
     "text": [
      "Done\n"
     ]
    }
   ],
   "source": [
    "MODALITY = Modality.BOTH\n",
    "results = fit_PCA(\"dino_vits8_3\", n_components=150, plot_variance_ratio=True, save_PCA_factors=True)"
   ]
  },
  {
   "cell_type": "markdown",
   "id": "92de5bd2-9155-4d43-8467-66e88c4df118",
   "metadata": {
    "jp-MarkdownHeadingCollapsed": true
   },
   "source": [
    "#### Exctracting features ViTs8 - MERGED CT and PET"
   ]
  },
  {
   "cell_type": "code",
   "execution_count": 11,
   "id": "788adb6a-07b5-43b3-b01d-44d9dd41753a",
   "metadata": {},
   "outputs": [
    {
     "name": "stdout",
     "output_type": "stream",
     "text": [
      "Fold: 1\n"
     ]
    },
    {
     "name": "stderr",
     "output_type": "stream",
     "text": [
      "100%|███████████████████████████████████████████████████████████████████████████████████| 24/24 [00:11<00:00,  2.09it/s]\n"
     ]
    },
    {
     "name": "stdout",
     "output_type": "stream",
     "text": [
      "Fold: 2\n"
     ]
    },
    {
     "name": "stderr",
     "output_type": "stream",
     "text": [
      "100%|███████████████████████████████████████████████████████████████████████████████████| 24/24 [00:11<00:00,  2.15it/s]\n"
     ]
    },
    {
     "name": "stdout",
     "output_type": "stream",
     "text": [
      "Fold: 3\n"
     ]
    },
    {
     "name": "stderr",
     "output_type": "stream",
     "text": [
      "100%|███████████████████████████████████████████████████████████████████████████████████| 24/24 [00:11<00:00,  2.07it/s]\n"
     ]
    },
    {
     "name": "stdout",
     "output_type": "stream",
     "text": [
      "Fold: 4\n"
     ]
    },
    {
     "name": "stderr",
     "output_type": "stream",
     "text": [
      "100%|███████████████████████████████████████████████████████████████████████████████████| 24/24 [00:10<00:00,  2.19it/s]\n"
     ]
    },
    {
     "name": "stdout",
     "output_type": "stream",
     "text": [
      "Fold: 5\n"
     ]
    },
    {
     "name": "stderr",
     "output_type": "stream",
     "text": [
      "100%|███████████████████████████████████████████████████████████████████████████████████| 24/24 [00:11<00:00,  2.09it/s]\n"
     ]
    },
    {
     "name": "stdout",
     "output_type": "stream",
     "text": [
      "Fold: all\n"
     ]
    },
    {
     "name": "stderr",
     "output_type": "stream",
     "text": [
      "100%|███████████████████████████████████████████████████████████████████████████████████| 30/30 [00:14<00:00,  2.01it/s]\n"
     ]
    },
    {
     "name": "stdout",
     "output_type": "stream",
     "text": [
      "Finalizing features extraction ...\n",
      "Features extracted\n",
      "Fitting PCA ...\n"
     ]
    },
    {
     "data": {
      "image/png": "[encoded data removed]",
      "text/plain": [
       "<Figure size 1000x500 with 1 Axes>"
      ]
     },
     "metadata": {},
     "output_type": "display_data"
    },
    {
     "name": "stdout",
     "output_type": "stream",
     "text": [
      "Done\n"
     ]
    }
   ],
   "source": [
    "MODALITY = Modality.MERGED\n",
    "results = fit_PCA(\"dino_vits8_2\", n_components=None, plot_variance_ratio=True)"
   ]
  },
  {
   "cell_type": "markdown",
   "id": "a61194ce-c3b0-4280-8519-93dd5cab42a4",
   "metadata": {},
   "source": [
    "##### Saving top n components"
   ]
  },
  {
   "cell_type": "code",
   "execution_count": 12,
   "id": "62a21390-38c0-4003-b3a1-fae74967b80e",
   "metadata": {},
   "outputs": [
    {
     "name": "stdout",
     "output_type": "stream",
     "text": [
      "Fold: 1\n"
     ]
    },
    {
     "name": "stderr",
     "output_type": "stream",
     "text": [
      "100%|███████████████████████████████████████████████████████████████████████████████████| 24/24 [00:11<00:00,  2.18it/s]\n"
     ]
    },
    {
     "name": "stdout",
     "output_type": "stream",
     "text": [
      "Fold: 2\n"
     ]
    },
    {
     "name": "stderr",
     "output_type": "stream",
     "text": [
      "100%|███████████████████████████████████████████████████████████████████████████████████| 24/24 [00:10<00:00,  2.22it/s]\n"
     ]
    },
    {
     "name": "stdout",
     "output_type": "stream",
     "text": [
      "Fold: 3\n"
     ]
    },
    {
     "name": "stderr",
     "output_type": "stream",
     "text": [
      "100%|███████████████████████████████████████████████████████████████████████████████████| 24/24 [00:11<00:00,  2.10it/s]\n"
     ]
    },
    {
     "name": "stdout",
     "output_type": "stream",
     "text": [
      "Fold: 4\n"
     ]
    },
    {
     "name": "stderr",
     "output_type": "stream",
     "text": [
      "100%|███████████████████████████████████████████████████████████████████████████████████| 24/24 [00:11<00:00,  2.08it/s]\n"
     ]
    },
    {
     "name": "stdout",
     "output_type": "stream",
     "text": [
      "Fold: 5\n"
     ]
    },
    {
     "name": "stderr",
     "output_type": "stream",
     "text": [
      "100%|███████████████████████████████████████████████████████████████████████████████████| 24/24 [00:11<00:00,  2.11it/s]\n"
     ]
    },
    {
     "name": "stdout",
     "output_type": "stream",
     "text": [
      "Fold: all\n"
     ]
    },
    {
     "name": "stderr",
     "output_type": "stream",
     "text": [
      "100%|███████████████████████████████████████████████████████████████████████████████████| 30/30 [00:13<00:00,  2.19it/s]\n"
     ]
    },
    {
     "name": "stdout",
     "output_type": "stream",
     "text": [
      "Finalizing features extraction ...\n",
      "Features extracted\n",
      "Fitting PCA ...\n"
     ]
    },
    {
     "data": {
      "image/png": "[encoded data removed]",
      "text/plain": [
       "<Figure size 1000x500 with 1 Axes>"
      ]
     },
     "metadata": {},
     "output_type": "display_data"
    },
    {
     "name": "stdout",
     "output_type": "stream",
     "text": [
      "Done\n"
     ]
    }
   ],
   "source": [
    "MODALITY = Modality.MERGED\n",
    "results = fit_PCA(\"dino_vits8_2\", n_components=150, plot_variance_ratio=True, save_PCA_factors=True)"
   ]
  },
  {
   "cell_type": "markdown",
   "id": "ebb9b6fd-7aa1-48e0-a57b-a8f375dab715",
   "metadata": {
    "jp-MarkdownHeadingCollapsed": true
   },
   "source": [
    "#### Exctracting features ViTb8 - CT"
   ]
  },
  {
   "cell_type": "code",
   "execution_count": 13,
   "id": "745967a9-cc81-4a58-a5c1-1d5600db358c",
   "metadata": {},
   "outputs": [
    {
     "name": "stdout",
     "output_type": "stream",
     "text": [
      "Fold: 1\n"
     ]
    },
    {
     "name": "stderr",
     "output_type": "stream",
     "text": [
      "100%|███████████████████████████████████████████████████████████████████████████████████| 24/24 [00:21<00:00,  1.14it/s]\n"
     ]
    },
    {
     "name": "stdout",
     "output_type": "stream",
     "text": [
      "Fold: 2\n"
     ]
    },
    {
     "name": "stderr",
     "output_type": "stream",
     "text": [
      "100%|███████████████████████████████████████████████████████████████████████████████████| 24/24 [00:21<00:00,  1.10it/s]\n"
     ]
    },
    {
     "name": "stdout",
     "output_type": "stream",
     "text": [
      "Fold: 3\n"
     ]
    },
    {
     "name": "stderr",
     "output_type": "stream",
     "text": [
      "100%|███████████████████████████████████████████████████████████████████████████████████| 24/24 [00:22<00:00,  1.08it/s]\n"
     ]
    },
    {
     "name": "stdout",
     "output_type": "stream",
     "text": [
      "Fold: 4\n"
     ]
    },
    {
     "name": "stderr",
     "output_type": "stream",
     "text": [
      "100%|███████████████████████████████████████████████████████████████████████████████████| 24/24 [00:22<00:00,  1.07it/s]\n"
     ]
    },
    {
     "name": "stdout",
     "output_type": "stream",
     "text": [
      "Fold: 5\n"
     ]
    },
    {
     "name": "stderr",
     "output_type": "stream",
     "text": [
      "100%|███████████████████████████████████████████████████████████████████████████████████| 24/24 [00:22<00:00,  1.07it/s]\n"
     ]
    },
    {
     "name": "stdout",
     "output_type": "stream",
     "text": [
      "Fold: all\n"
     ]
    },
    {
     "name": "stderr",
     "output_type": "stream",
     "text": [
      "100%|███████████████████████████████████████████████████████████████████████████████████| 30/30 [00:27<00:00,  1.08it/s]\n"
     ]
    },
    {
     "name": "stdout",
     "output_type": "stream",
     "text": [
      "Finalizing features extraction ...\n",
      "Features extracted\n",
      "Fitting PCA ...\n"
     ]
    },
    {
     "data": {
      "image/png": "[encoded data removed]",
      "text/plain": [
       "<Figure size 1000x500 with 1 Axes>"
      ]
     },
     "metadata": {},
     "output_type": "display_data"
    },
    {
     "name": "stdout",
     "output_type": "stream",
     "text": [
      "Done\n"
     ]
    }
   ],
   "source": [
    "MODALITY = Modality.CT\n",
    "results = fit_PCA(\"dino_vitb8_4\", n_components=None, plot_variance_ratio=True)"
   ]
  },
  {
   "cell_type": "markdown",
   "id": "0073b73e-9adb-4a5d-be88-d0271906915e",
   "metadata": {},
   "source": [
    "##### Saving top n components"
   ]
  },
  {
   "cell_type": "code",
   "execution_count": 14,
   "id": "45620bd5-946d-47e7-972b-80793f35b889",
   "metadata": {},
   "outputs": [
    {
     "name": "stdout",
     "output_type": "stream",
     "text": [
      "Fold: 1\n"
     ]
    },
    {
     "name": "stderr",
     "output_type": "stream",
     "text": [
      "100%|███████████████████████████████████████████████████████████████████████████████████| 24/24 [00:22<00:00,  1.05it/s]\n"
     ]
    },
    {
     "name": "stdout",
     "output_type": "stream",
     "text": [
      "Fold: 2\n"
     ]
    },
    {
     "name": "stderr",
     "output_type": "stream",
     "text": [
      "100%|███████████████████████████████████████████████████████████████████████████████████| 24/24 [00:22<00:00,  1.06it/s]\n"
     ]
    },
    {
     "name": "stdout",
     "output_type": "stream",
     "text": [
      "Fold: 3\n"
     ]
    },
    {
     "name": "stderr",
     "output_type": "stream",
     "text": [
      "100%|███████████████████████████████████████████████████████████████████████████████████| 24/24 [00:22<00:00,  1.06it/s]\n"
     ]
    },
    {
     "name": "stdout",
     "output_type": "stream",
     "text": [
      "Fold: 4\n"
     ]
    },
    {
     "name": "stderr",
     "output_type": "stream",
     "text": [
      "100%|███████████████████████████████████████████████████████████████████████████████████| 24/24 [00:22<00:00,  1.07it/s]\n"
     ]
    },
    {
     "name": "stdout",
     "output_type": "stream",
     "text": [
      "Fold: 5\n"
     ]
    },
    {
     "name": "stderr",
     "output_type": "stream",
     "text": [
      "100%|███████████████████████████████████████████████████████████████████████████████████| 24/24 [00:22<00:00,  1.05it/s]\n"
     ]
    },
    {
     "name": "stdout",
     "output_type": "stream",
     "text": [
      "Fold: all\n"
     ]
    },
    {
     "name": "stderr",
     "output_type": "stream",
     "text": [
      "100%|███████████████████████████████████████████████████████████████████████████████████| 30/30 [00:27<00:00,  1.08it/s]\n"
     ]
    },
    {
     "name": "stdout",
     "output_type": "stream",
     "text": [
      "Finalizing features extraction ...\n",
      "Features extracted\n",
      "Fitting PCA ...\n"
     ]
    },
    {
     "data": {
      "image/png": "[encoded data removed]",
      "text/plain": [
       "<Figure size 1000x500 with 1 Axes>"
      ]
     },
     "metadata": {},
     "output_type": "display_data"
    },
    {
     "name": "stdout",
     "output_type": "stream",
     "text": [
      "Done\n"
     ]
    }
   ],
   "source": [
    "MODALITY = Modality.CT\n",
    "results = fit_PCA(\"dino_vitb8_4\", n_components=180, plot_variance_ratio=True, save_PCA_factors=True)"
   ]
  },
  {
   "cell_type": "markdown",
   "id": "f0fc9f40-5ca7-45b4-8343-0e3b8614befc",
   "metadata": {
    "jp-MarkdownHeadingCollapsed": true
   },
   "source": [
    "#### Exctracting features ViTb8 - BOTH CT and PET"
   ]
  },
  {
   "cell_type": "code",
   "execution_count": 15,
   "id": "06bd191e-832e-44c7-be23-ef4734b48d37",
   "metadata": {},
   "outputs": [
    {
     "name": "stdout",
     "output_type": "stream",
     "text": [
      "Fold: 1\n"
     ]
    },
    {
     "name": "stderr",
     "output_type": "stream",
     "text": [
      "100%|███████████████████████████████████████████████████████████████████████████████████| 24/24 [00:23<00:00,  1.04it/s]\n"
     ]
    },
    {
     "name": "stdout",
     "output_type": "stream",
     "text": [
      "Fold: 2\n"
     ]
    },
    {
     "name": "stderr",
     "output_type": "stream",
     "text": [
      "100%|███████████████████████████████████████████████████████████████████████████████████| 24/24 [00:23<00:00,  1.03it/s]\n"
     ]
    },
    {
     "name": "stdout",
     "output_type": "stream",
     "text": [
      "Fold: 3\n"
     ]
    },
    {
     "name": "stderr",
     "output_type": "stream",
     "text": [
      "100%|███████████████████████████████████████████████████████████████████████████████████| 24/24 [00:23<00:00,  1.03it/s]\n"
     ]
    },
    {
     "name": "stdout",
     "output_type": "stream",
     "text": [
      "Fold: 4\n"
     ]
    },
    {
     "name": "stderr",
     "output_type": "stream",
     "text": [
      "100%|███████████████████████████████████████████████████████████████████████████████████| 24/24 [00:23<00:00,  1.03it/s]\n"
     ]
    },
    {
     "name": "stdout",
     "output_type": "stream",
     "text": [
      "Fold: 5\n"
     ]
    },
    {
     "name": "stderr",
     "output_type": "stream",
     "text": [
      "100%|███████████████████████████████████████████████████████████████████████████████████| 24/24 [00:23<00:00,  1.03it/s]\n"
     ]
    },
    {
     "name": "stdout",
     "output_type": "stream",
     "text": [
      "Fold: all\n"
     ]
    },
    {
     "name": "stderr",
     "output_type": "stream",
     "text": [
      "100%|███████████████████████████████████████████████████████████████████████████████████| 30/30 [00:28<00:00,  1.04it/s]\n"
     ]
    },
    {
     "name": "stdout",
     "output_type": "stream",
     "text": [
      "Finalizing features extraction ...\n",
      "Features extracted\n",
      "Fitting PCA ...\n"
     ]
    },
    {
     "data": {
      "image/png": "[encoded data removed]",
      "text/plain": [
       "<Figure size 1000x500 with 1 Axes>"
      ]
     },
     "metadata": {},
     "output_type": "display_data"
    },
    {
     "name": "stdout",
     "output_type": "stream",
     "text": [
      "Done\n"
     ]
    }
   ],
   "source": [
    "MODALITY = Modality.BOTH\n",
    "results = fit_PCA(\"dino_vitb8_6\", n_components=None, plot_variance_ratio=True)"
   ]
  },
  {
   "cell_type": "markdown",
   "id": "c17b3b56-1bba-409b-a7a6-eeb09fe56615",
   "metadata": {},
   "source": [
    "##### Saving top n components"
   ]
  },
  {
   "cell_type": "code",
   "execution_count": 16,
   "id": "2ee11a9c-12c7-4819-b662-ec6807217500",
   "metadata": {},
   "outputs": [
    {
     "name": "stdout",
     "output_type": "stream",
     "text": [
      "Fold: 1\n"
     ]
    },
    {
     "name": "stderr",
     "output_type": "stream",
     "text": [
      "100%|███████████████████████████████████████████████████████████████████████████████████| 24/24 [00:23<00:00,  1.02it/s]\n"
     ]
    },
    {
     "name": "stdout",
     "output_type": "stream",
     "text": [
      "Fold: 2\n"
     ]
    },
    {
     "name": "stderr",
     "output_type": "stream",
     "text": [
      "100%|███████████████████████████████████████████████████████████████████████████████████| 24/24 [00:22<00:00,  1.06it/s]\n"
     ]
    },
    {
     "name": "stdout",
     "output_type": "stream",
     "text": [
      "Fold: 3\n"
     ]
    },
    {
     "name": "stderr",
     "output_type": "stream",
     "text": [
      "100%|███████████████████████████████████████████████████████████████████████████████████| 24/24 [00:23<00:00,  1.01it/s]\n"
     ]
    },
    {
     "name": "stdout",
     "output_type": "stream",
     "text": [
      "Fold: 4\n"
     ]
    },
    {
     "name": "stderr",
     "output_type": "stream",
     "text": [
      "100%|███████████████████████████████████████████████████████████████████████████████████| 24/24 [00:22<00:00,  1.05it/s]\n"
     ]
    },
    {
     "name": "stdout",
     "output_type": "stream",
     "text": [
      "Fold: 5\n"
     ]
    },
    {
     "name": "stderr",
     "output_type": "stream",
     "text": [
      "100%|███████████████████████████████████████████████████████████████████████████████████| 24/24 [00:23<00:00,  1.02it/s]\n"
     ]
    },
    {
     "name": "stdout",
     "output_type": "stream",
     "text": [
      "Fold: all\n"
     ]
    },
    {
     "name": "stderr",
     "output_type": "stream",
     "text": [
      "100%|███████████████████████████████████████████████████████████████████████████████████| 30/30 [00:28<00:00,  1.05it/s]\n"
     ]
    },
    {
     "name": "stdout",
     "output_type": "stream",
     "text": [
      "Finalizing features extraction ...\n",
      "Features extracted\n",
      "Fitting PCA ...\n"
     ]
    },
    {
     "data": {
      "image/png": "[encoded data removed]",
      "text/plain": [
       "<Figure size 1000x500 with 1 Axes>"
      ]
     },
     "metadata": {},
     "output_type": "display_data"
    },
    {
     "name": "stdout",
     "output_type": "stream",
     "text": [
      "Done\n"
     ]
    }
   ],
   "source": [
    "MODALITY = Modality.BOTH\n",
    "results = fit_PCA(\"dino_vitb8_6\", n_components=180, plot_variance_ratio=True, save_PCA_factors=True)"
   ]
  },
  {
   "cell_type": "markdown",
   "id": "6d47a932-a3d4-43a8-8e39-a7c2139f6863",
   "metadata": {
    "jp-MarkdownHeadingCollapsed": true
   },
   "source": [
    "#### Exctracting features ViTb8 - MERGED CT and PET"
   ]
  },
  {
   "cell_type": "code",
   "execution_count": 17,
   "id": "6a386de1-6b05-4132-9643-c42123c5b14a",
   "metadata": {},
   "outputs": [
    {
     "name": "stdout",
     "output_type": "stream",
     "text": [
      "Fold: 1\n"
     ]
    },
    {
     "name": "stderr",
     "output_type": "stream",
     "text": [
      "100%|███████████████████████████████████████████████████████████████████████████████████| 24/24 [00:22<00:00,  1.06it/s]\n"
     ]
    },
    {
     "name": "stdout",
     "output_type": "stream",
     "text": [
      "Fold: 2\n"
     ]
    },
    {
     "name": "stderr",
     "output_type": "stream",
     "text": [
      "100%|███████████████████████████████████████████████████████████████████████████████████| 24/24 [00:23<00:00,  1.03it/s]\n"
     ]
    },
    {
     "name": "stdout",
     "output_type": "stream",
     "text": [
      "Fold: 3\n"
     ]
    },
    {
     "name": "stderr",
     "output_type": "stream",
     "text": [
      "100%|███████████████████████████████████████████████████████████████████████████████████| 24/24 [00:23<00:00,  1.04it/s]\n"
     ]
    },
    {
     "name": "stdout",
     "output_type": "stream",
     "text": [
      "Fold: 4\n"
     ]
    },
    {
     "name": "stderr",
     "output_type": "stream",
     "text": [
      "100%|███████████████████████████████████████████████████████████████████████████████████| 24/24 [00:23<00:00,  1.04it/s]\n"
     ]
    },
    {
     "name": "stdout",
     "output_type": "stream",
     "text": [
      "Fold: 5\n"
     ]
    },
    {
     "name": "stderr",
     "output_type": "stream",
     "text": [
      "100%|███████████████████████████████████████████████████████████████████████████████████| 24/24 [00:23<00:00,  1.03it/s]\n"
     ]
    },
    {
     "name": "stdout",
     "output_type": "stream",
     "text": [
      "Fold: all\n"
     ]
    },
    {
     "name": "stderr",
     "output_type": "stream",
     "text": [
      "100%|███████████████████████████████████████████████████████████████████████████████████| 30/30 [00:28<00:00,  1.04it/s]\n"
     ]
    },
    {
     "name": "stdout",
     "output_type": "stream",
     "text": [
      "Finalizing features extraction ...\n",
      "Features extracted\n",
      "Fitting PCA ...\n"
     ]
    },
    {
     "data": {
      "image/png": "[encoded data removed]",
      "text/plain": [
       "<Figure size 1000x500 with 1 Axes>"
      ]
     },
     "metadata": {},
     "output_type": "display_data"
    },
    {
     "name": "stdout",
     "output_type": "stream",
     "text": [
      "Done\n"
     ]
    }
   ],
   "source": [
    "MODALITY = Modality.MERGED\n",
    "results = fit_PCA(\"dino_vitb8_5\", n_components=None, plot_variance_ratio=True)"
   ]
  },
  {
   "cell_type": "markdown",
   "id": "c49c6002-6443-4b30-9f33-6d78994c2966",
   "metadata": {},
   "source": [
    "##### Saving top n components"
   ]
  },
  {
   "cell_type": "code",
   "execution_count": 18,
   "id": "8eb5863e-e83b-4b46-a449-6e50a5112384",
   "metadata": {},
   "outputs": [
    {
     "name": "stdout",
     "output_type": "stream",
     "text": [
      "Fold: 1\n"
     ]
    },
    {
     "name": "stderr",
     "output_type": "stream",
     "text": [
      "100%|███████████████████████████████████████████████████████████████████████████████████| 24/24 [00:22<00:00,  1.05it/s]\n"
     ]
    },
    {
     "name": "stdout",
     "output_type": "stream",
     "text": [
      "Fold: 2\n"
     ]
    },
    {
     "name": "stderr",
     "output_type": "stream",
     "text": [
      "100%|███████████████████████████████████████████████████████████████████████████████████| 24/24 [00:23<00:00,  1.02it/s]\n"
     ]
    },
    {
     "name": "stdout",
     "output_type": "stream",
     "text": [
      "Fold: 3\n"
     ]
    },
    {
     "name": "stderr",
     "output_type": "stream",
     "text": [
      "100%|███████████████████████████████████████████████████████████████████████████████████| 24/24 [00:22<00:00,  1.04it/s]\n"
     ]
    },
    {
     "name": "stdout",
     "output_type": "stream",
     "text": [
      "Fold: 4\n"
     ]
    },
    {
     "name": "stderr",
     "output_type": "stream",
     "text": [
      "100%|███████████████████████████████████████████████████████████████████████████████████| 24/24 [00:23<00:00,  1.04it/s]\n"
     ]
    },
    {
     "name": "stdout",
     "output_type": "stream",
     "text": [
      "Fold: 5\n"
     ]
    },
    {
     "name": "stderr",
     "output_type": "stream",
     "text": [
      "100%|███████████████████████████████████████████████████████████████████████████████████| 24/24 [00:22<00:00,  1.04it/s]\n"
     ]
    },
    {
     "name": "stdout",
     "output_type": "stream",
     "text": [
      "Fold: all\n"
     ]
    },
    {
     "name": "stderr",
     "output_type": "stream",
     "text": [
      "100%|███████████████████████████████████████████████████████████████████████████████████| 30/30 [00:28<00:00,  1.04it/s]\n"
     ]
    },
    {
     "name": "stdout",
     "output_type": "stream",
     "text": [
      "Finalizing features extraction ...\n",
      "Features extracted\n",
      "Fitting PCA ...\n"
     ]
    },
    {
     "data": {
      "image/png": "[encoded data removed]",
      "text/plain": [
       "<Figure size 1000x500 with 1 Axes>"
      ]
     },
     "metadata": {},
     "output_type": "display_data"
    },
    {
     "name": "stdout",
     "output_type": "stream",
     "text": [
      "Done\n"
     ]
    }
   ],
   "source": [
    "MODALITY = Modality.MERGED\n",
    "results = fit_PCA(\"dino_vitb8_5\", n_components=180, plot_variance_ratio=True, save_PCA_factors=True)"
   ]
  },
  {
   "cell_type": "markdown",
   "id": "8152c245-278d-4a42-990b-545a6b1d4192",
   "metadata": {},
   "source": [
    "### Evaluating with PCA on the test set"
   ]
  },
  {
   "cell_type": "code",
   "execution_count": 19,
   "id": "a72800f5-c66f-493c-a9af-33645f980549",
   "metadata": {},
   "outputs": [],
   "source": [
    "def model_evaluation_PCA(model_name:str, version:Optional[str]=None):\n",
    "    \"\"\"\n",
    "    Evaluates Hecktor model on the test set.\n",
    "    \"\"\"\n",
    "    res={}\n",
    "    def _setup(fold:Union[int, Literal[\"all\"]]=1):\n",
    "        # DataModule setup:\n",
    "        dm = HECKTOR_DataModule(\n",
    "            fold=fold,\n",
    "            data_path=DATA_PATH,\n",
    "            batch_size=BATCH_SIZE,\n",
    "            num_workers=NUM_WORKERS,\n",
    "            selected_train_transforms=SELECTED_TRAIN_TRANSFORMS,\n",
    "            modality=MODALITY\n",
    "        )\n",
    "        \n",
    "        if version is None:\n",
    "            ckpt_path = CHECKPOINTS_PATH+\"PCA_\"+model_name+f\"_{fold}\"+\".ckpt\"\n",
    "        else:\n",
    "            ckpt_path = CHECKPOINTS_PATH+\"PCA_\"+model_name+f\"_{fold}\"+f\"-{version}\"+\".ckpt\"\n",
    "        # Model setup:\n",
    "        model = PCA_HECKTOR_Model.load_from_checkpoint(ckpt_path)\n",
    "        # Trainer setup:\n",
    "        torch.set_float32_matmul_precision('medium')\n",
    "        trainer = pl.Trainer(accelerator=\"gpu\", devices=1, precision=32, logger=False)\n",
    "        \n",
    "        return dm, model, trainer\n",
    "\n",
    "    # Evaluating models trained on 5CV training sets:\n",
    "    for fold in range(1, 6):\n",
    "        dm, model, trainer = _setup(fold=fold)\n",
    "        model.eval()\n",
    "        res[f\"val_fold_{fold}\"] = trainer.validate(model, dm)\n",
    "        res[f\"test_fold_{fold}\"] = trainer.test(model, dm)\n",
    "        \n",
    "    if version == None:\n",
    "        # Evaluating model trained on the whole training set:\n",
    "        fold=\"all\"\n",
    "        dm, model, trainer = _setup(fold=fold)\n",
    "        model.eval()\n",
    "        res[\"test_all\"] = trainer.test(model, dm)\n",
    "        \n",
    "    return res\n",
    "\n",
    "\n",
    "def compute_results(raw_results:Dict[str, list]):\n",
    "    val_c_index = []\n",
    "    test_c_index = []\n",
    "    test_loss = []\n",
    "    folds = []\n",
    "\n",
    "    for fold in range(1,6):\n",
    "        curr_val_c_index = round(raw_results[f\"val_fold_{fold}\"][0][\"val_C-index\"],3)\n",
    "        curr_test_c_index = round(raw_results[f\"test_fold_{fold}\"][0][\"test_C-index\"],3)\n",
    "        curr_test_loss = round(raw_results[f\"test_fold_{fold}\"][0][\"test_loss\"],3)\n",
    "        val_c_index.append(curr_val_c_index)\n",
    "        test_c_index.append(curr_test_c_index)\n",
    "        test_loss.append(curr_test_loss)\n",
    "        folds.append(f\"Fold {fold}\")\n",
    "\n",
    "    # Results of model trained on the whole train set:\n",
    "    if \"test_all\" in raw_results.keys():\n",
    "        val_c_index.append(\"NA\")\n",
    "        test_c_index.append(round(raw_results[\"test_all\"][0][\"test_C-index\"],3))\n",
    "        test_loss.append(round(raw_results[\"test_all\"][0][\"test_loss\"],3))\n",
    "        folds.append(\"All train set\")\n",
    "\n",
    "    df = pd.DataFrame({\"Fold\": folds, \"Test C-index\": test_c_index, \"Val C-index\": val_c_index, \"Test loss\": test_loss})\n",
    "    \n",
    "    table = PrettyTable()\n",
    "    table.field_names = df.columns.tolist()\n",
    "\n",
    "    for row in df.itertuples(index=False):\n",
    "        table.add_row(row)\n",
    "\n",
    "    for field in df.columns:\n",
    "        table.align[field] = 'l'\n",
    "    \n",
    "    return table"
   ]
  },
  {
   "cell_type": "markdown",
   "id": "c3924fac-63f3-431f-b400-3e4e6c99f573",
   "metadata": {
    "jp-MarkdownHeadingCollapsed": true
   },
   "source": [
    "### DINO_ViTs8 - only CT"
   ]
  },
  {
   "cell_type": "markdown",
   "id": "f8ef1e09-217b-4408-aa8b-11c1b489922a",
   "metadata": {},
   "source": [
    "##### Version 0"
   ]
  },
  {
   "cell_type": "code",
   "execution_count": null,
   "id": "67e915fc-3c06-476c-96cf-d90058bf93ce",
   "metadata": {
    "scrolled": true
   },
   "outputs": [],
   "source": [
    "# version 0\n",
    "MODALITY = Modality.CT\n",
    "res = model_evaluation_PCA(\"dino_vits8_1_1\")"
   ]
  },
  {
   "cell_type": "code",
   "execution_count": 43,
   "id": "6f4bb1fa-c8cc-4042-a072-4b3baa581932",
   "metadata": {},
   "outputs": [
    {
     "data": {
      "text/html": [
       "<table>\n",
       "    <thead>\n",
       "        <tr>\n",
       "            <th>Fold</th>\n",
       "            <th>Test C-index</th>\n",
       "            <th>Val C-index</th>\n",
       "            <th>Test loss</th>\n",
       "        </tr>\n",
       "    </thead>\n",
       "    <tbody>\n",
       "        <tr>\n",
       "            <td>Fold 1</td>\n",
       "            <td>0.537</td>\n",
       "            <td>0.556</td>\n",
       "            <td>2.535</td>\n",
       "        </tr>\n",
       "        <tr>\n",
       "            <td>Fold 2</td>\n",
       "            <td>0.421</td>\n",
       "            <td>0.478</td>\n",
       "            <td>2.54</td>\n",
       "        </tr>\n",
       "        <tr>\n",
       "            <td>Fold 3</td>\n",
       "            <td>0.464</td>\n",
       "            <td>0.505</td>\n",
       "            <td>2.585</td>\n",
       "        </tr>\n",
       "        <tr>\n",
       "            <td>Fold 4</td>\n",
       "            <td>0.547</td>\n",
       "            <td>0.569</td>\n",
       "            <td>2.533</td>\n",
       "        </tr>\n",
       "        <tr>\n",
       "            <td>Fold 5</td>\n",
       "            <td>0.449</td>\n",
       "            <td>0.545</td>\n",
       "            <td>2.534</td>\n",
       "        </tr>\n",
       "        <tr>\n",
       "            <td>All train set</td>\n",
       "            <td>0.455</td>\n",
       "            <td>NA</td>\n",
       "            <td>2.537</td>\n",
       "        </tr>\n",
       "    </tbody>\n",
       "</table>"
      ],
      "text/plain": [
       "+---------------+--------------+-------------+-----------+\n",
       "| Fold          | Test C-index | Val C-index | Test loss |\n",
       "+---------------+--------------+-------------+-----------+\n",
       "| Fold 1        | 0.537        | 0.556       | 2.535     |\n",
       "| Fold 2        | 0.421        | 0.478       | 2.54      |\n",
       "| Fold 3        | 0.464        | 0.505       | 2.585     |\n",
       "| Fold 4        | 0.547        | 0.569       | 2.533     |\n",
       "| Fold 5        | 0.449        | 0.545       | 2.534     |\n",
       "| All train set | 0.455        | NA          | 2.537     |\n",
       "+---------------+--------------+-------------+-----------+"
      ]
     },
     "execution_count": 43,
     "metadata": {},
     "output_type": "execute_result"
    }
   ],
   "source": [
    "compute_results(res)"
   ]
  },
  {
   "cell_type": "markdown",
   "id": "c9a427b4-21f4-497e-9090-259a1b61896d",
   "metadata": {},
   "source": [
    "##### Version 1"
   ]
  },
  {
   "cell_type": "code",
   "execution_count": null,
   "id": "763f164c-49be-4342-83ee-a9aecbfe097f",
   "metadata": {},
   "outputs": [],
   "source": [
    "# version 1\n",
    "MODALITY = Modality.CT\n",
    "res = model_evaluation_PCA(\"dino_vits8_1_1\", \"v1\")"
   ]
  },
  {
   "cell_type": "code",
   "execution_count": 45,
   "id": "0d2526d3-d111-4e69-90b5-fdc10fc4df3f",
   "metadata": {},
   "outputs": [
    {
     "data": {
      "text/html": [
       "<table>\n",
       "    <thead>\n",
       "        <tr>\n",
       "            <th>Fold</th>\n",
       "            <th>Test C-index</th>\n",
       "            <th>Val C-index</th>\n",
       "            <th>Test loss</th>\n",
       "        </tr>\n",
       "    </thead>\n",
       "    <tbody>\n",
       "        <tr>\n",
       "            <td>Fold 1</td>\n",
       "            <td>0.529</td>\n",
       "            <td>0.522</td>\n",
       "            <td>2.536</td>\n",
       "        </tr>\n",
       "        <tr>\n",
       "            <td>Fold 2</td>\n",
       "            <td>0.422</td>\n",
       "            <td>0.479</td>\n",
       "            <td>2.54</td>\n",
       "        </tr>\n",
       "        <tr>\n",
       "            <td>Fold 3</td>\n",
       "            <td>0.464</td>\n",
       "            <td>0.504</td>\n",
       "            <td>2.586</td>\n",
       "        </tr>\n",
       "        <tr>\n",
       "            <td>Fold 4</td>\n",
       "            <td>0.548</td>\n",
       "            <td>0.569</td>\n",
       "            <td>2.533</td>\n",
       "        </tr>\n",
       "        <tr>\n",
       "            <td>Fold 5</td>\n",
       "            <td>0.458</td>\n",
       "            <td>0.551</td>\n",
       "            <td>2.534</td>\n",
       "        </tr>\n",
       "    </tbody>\n",
       "</table>"
      ],
      "text/plain": [
       "+--------+--------------+-------------+-----------+\n",
       "| Fold   | Test C-index | Val C-index | Test loss |\n",
       "+--------+--------------+-------------+-----------+\n",
       "| Fold 1 | 0.529        | 0.522       | 2.536     |\n",
       "| Fold 2 | 0.422        | 0.479       | 2.54      |\n",
       "| Fold 3 | 0.464        | 0.504       | 2.586     |\n",
       "| Fold 4 | 0.548        | 0.569       | 2.533     |\n",
       "| Fold 5 | 0.458        | 0.551       | 2.534     |\n",
       "+--------+--------------+-------------+-----------+"
      ]
     },
     "execution_count": 45,
     "metadata": {},
     "output_type": "execute_result"
    }
   ],
   "source": [
    "compute_results(res)"
   ]
  },
  {
   "cell_type": "markdown",
   "id": "200ed064-1646-4e83-83dc-af9f5a8abe41",
   "metadata": {},
   "source": [
    "##### Version 2"
   ]
  },
  {
   "cell_type": "code",
   "execution_count": null,
   "id": "e9d40358-d01e-4b32-951a-6ed381731e93",
   "metadata": {
    "scrolled": true
   },
   "outputs": [],
   "source": [
    "# version 2\n",
    "MODALITY = Modality.CT\n",
    "res = model_evaluation_PCA(\"dino_vits8_1_1\", \"v2\")"
   ]
  },
  {
   "cell_type": "code",
   "execution_count": 47,
   "id": "76afd10f-bc23-4832-9a93-28a288dc478d",
   "metadata": {},
   "outputs": [
    {
     "data": {
      "text/html": [
       "<table>\n",
       "    <thead>\n",
       "        <tr>\n",
       "            <th>Fold</th>\n",
       "            <th>Test C-index</th>\n",
       "            <th>Val C-index</th>\n",
       "            <th>Test loss</th>\n",
       "        </tr>\n",
       "    </thead>\n",
       "    <tbody>\n",
       "        <tr>\n",
       "            <td>Fold 1</td>\n",
       "            <td>0.532</td>\n",
       "            <td>0.514</td>\n",
       "            <td>2.536</td>\n",
       "        </tr>\n",
       "        <tr>\n",
       "            <td>Fold 2</td>\n",
       "            <td>0.422</td>\n",
       "            <td>0.468</td>\n",
       "            <td>2.54</td>\n",
       "        </tr>\n",
       "        <tr>\n",
       "            <td>Fold 3</td>\n",
       "            <td>0.464</td>\n",
       "            <td>0.515</td>\n",
       "            <td>2.589</td>\n",
       "        </tr>\n",
       "        <tr>\n",
       "            <td>Fold 4</td>\n",
       "            <td>0.546</td>\n",
       "            <td>0.573</td>\n",
       "            <td>2.532</td>\n",
       "        </tr>\n",
       "        <tr>\n",
       "            <td>Fold 5</td>\n",
       "            <td>0.473</td>\n",
       "            <td>0.521</td>\n",
       "            <td>2.532</td>\n",
       "        </tr>\n",
       "    </tbody>\n",
       "</table>"
      ],
      "text/plain": [
       "+--------+--------------+-------------+-----------+\n",
       "| Fold   | Test C-index | Val C-index | Test loss |\n",
       "+--------+--------------+-------------+-----------+\n",
       "| Fold 1 | 0.532        | 0.514       | 2.536     |\n",
       "| Fold 2 | 0.422        | 0.468       | 2.54      |\n",
       "| Fold 3 | 0.464        | 0.515       | 2.589     |\n",
       "| Fold 4 | 0.546        | 0.573       | 2.532     |\n",
       "| Fold 5 | 0.473        | 0.521       | 2.532     |\n",
       "+--------+--------------+-------------+-----------+"
      ]
     },
     "execution_count": 47,
     "metadata": {},
     "output_type": "execute_result"
    }
   ],
   "source": [
    "compute_results(res)"
   ]
  },
  {
   "cell_type": "markdown",
   "id": "9f3f1f81-c4de-4001-9740-93d9536d993d",
   "metadata": {
    "jp-MarkdownHeadingCollapsed": true
   },
   "source": [
    "### DINO_ViTs8 - Both CT and PET"
   ]
  },
  {
   "cell_type": "markdown",
   "id": "95982bbb-3e94-4db5-a929-46c4326219c2",
   "metadata": {},
   "source": [
    "##### Version 0"
   ]
  },
  {
   "cell_type": "code",
   "execution_count": null,
   "id": "2647e778-4cbb-4ca7-8f3f-9f7894fda466",
   "metadata": {
    "scrolled": true
   },
   "outputs": [],
   "source": [
    "# version 0\n",
    "MODALITY = Modality.BOTH\n",
    "res = model_evaluation_PCA(\"dino_vits8_3_3\")"
   ]
  },
  {
   "cell_type": "code",
   "execution_count": 49,
   "id": "90e5ada4-4623-422c-924a-9e2d9349b8e4",
   "metadata": {},
   "outputs": [
    {
     "data": {
      "text/html": [
       "<table>\n",
       "    <thead>\n",
       "        <tr>\n",
       "            <th>Fold</th>\n",
       "            <th>Test C-index</th>\n",
       "            <th>Val C-index</th>\n",
       "            <th>Test loss</th>\n",
       "        </tr>\n",
       "    </thead>\n",
       "    <tbody>\n",
       "        <tr>\n",
       "            <td>Fold 1</td>\n",
       "            <td>0.587</td>\n",
       "            <td>0.726</td>\n",
       "            <td>2.531</td>\n",
       "        </tr>\n",
       "        <tr>\n",
       "            <td>Fold 2</td>\n",
       "            <td>0.43</td>\n",
       "            <td>0.387</td>\n",
       "            <td>2.534</td>\n",
       "        </tr>\n",
       "        <tr>\n",
       "            <td>Fold 3</td>\n",
       "            <td>0.579</td>\n",
       "            <td>0.681</td>\n",
       "            <td>2.532</td>\n",
       "        </tr>\n",
       "        <tr>\n",
       "            <td>Fold 4</td>\n",
       "            <td>0.565</td>\n",
       "            <td>0.586</td>\n",
       "            <td>2.532</td>\n",
       "        </tr>\n",
       "        <tr>\n",
       "            <td>Fold 5</td>\n",
       "            <td>0.579</td>\n",
       "            <td>0.656</td>\n",
       "            <td>2.512</td>\n",
       "        </tr>\n",
       "        <tr>\n",
       "            <td>All train set</td>\n",
       "            <td>0.584</td>\n",
       "            <td>NA</td>\n",
       "            <td>2.525</td>\n",
       "        </tr>\n",
       "    </tbody>\n",
       "</table>"
      ],
      "text/plain": [
       "+---------------+--------------+-------------+-----------+\n",
       "| Fold          | Test C-index | Val C-index | Test loss |\n",
       "+---------------+--------------+-------------+-----------+\n",
       "| Fold 1        | 0.587        | 0.726       | 2.531     |\n",
       "| Fold 2        | 0.43         | 0.387       | 2.534     |\n",
       "| Fold 3        | 0.579        | 0.681       | 2.532     |\n",
       "| Fold 4        | 0.565        | 0.586       | 2.532     |\n",
       "| Fold 5        | 0.579        | 0.656       | 2.512     |\n",
       "| All train set | 0.584        | NA          | 2.525     |\n",
       "+---------------+--------------+-------------+-----------+"
      ]
     },
     "execution_count": 49,
     "metadata": {},
     "output_type": "execute_result"
    }
   ],
   "source": [
    "compute_results(res)"
   ]
  },
  {
   "cell_type": "markdown",
   "id": "046eb941-ef8f-4e19-8251-505ba3324777",
   "metadata": {},
   "source": [
    "##### Version 1"
   ]
  },
  {
   "cell_type": "code",
   "execution_count": null,
   "id": "3a6fbc4d-d2fc-4c7d-b0ee-5d9cd31cf63d",
   "metadata": {
    "scrolled": true
   },
   "outputs": [],
   "source": [
    "# version 1\n",
    "MODALITY = Modality.BOTH\n",
    "res = model_evaluation_PCA(\"dino_vits8_3_3\", \"v1\")"
   ]
  },
  {
   "cell_type": "code",
   "execution_count": 51,
   "id": "1b7ff77d-d487-4dc5-b4a3-c811ca5d45c9",
   "metadata": {},
   "outputs": [
    {
     "data": {
      "text/html": [
       "<table>\n",
       "    <thead>\n",
       "        <tr>\n",
       "            <th>Fold</th>\n",
       "            <th>Test C-index</th>\n",
       "            <th>Val C-index</th>\n",
       "            <th>Test loss</th>\n",
       "        </tr>\n",
       "    </thead>\n",
       "    <tbody>\n",
       "        <tr>\n",
       "            <td>Fold 1</td>\n",
       "            <td>0.587</td>\n",
       "            <td>0.725</td>\n",
       "            <td>2.531</td>\n",
       "        </tr>\n",
       "        <tr>\n",
       "            <td>Fold 2</td>\n",
       "            <td>0.43</td>\n",
       "            <td>0.397</td>\n",
       "            <td>2.534</td>\n",
       "        </tr>\n",
       "        <tr>\n",
       "            <td>Fold 3</td>\n",
       "            <td>0.577</td>\n",
       "            <td>0.658</td>\n",
       "            <td>2.535</td>\n",
       "        </tr>\n",
       "        <tr>\n",
       "            <td>Fold 4</td>\n",
       "            <td>0.565</td>\n",
       "            <td>0.586</td>\n",
       "            <td>2.533</td>\n",
       "        </tr>\n",
       "        <tr>\n",
       "            <td>Fold 5</td>\n",
       "            <td>0.577</td>\n",
       "            <td>0.656</td>\n",
       "            <td>2.517</td>\n",
       "        </tr>\n",
       "    </tbody>\n",
       "</table>"
      ],
      "text/plain": [
       "+--------+--------------+-------------+-----------+\n",
       "| Fold   | Test C-index | Val C-index | Test loss |\n",
       "+--------+--------------+-------------+-----------+\n",
       "| Fold 1 | 0.587        | 0.725       | 2.531     |\n",
       "| Fold 2 | 0.43         | 0.397       | 2.534     |\n",
       "| Fold 3 | 0.577        | 0.658       | 2.535     |\n",
       "| Fold 4 | 0.565        | 0.586       | 2.533     |\n",
       "| Fold 5 | 0.577        | 0.656       | 2.517     |\n",
       "+--------+--------------+-------------+-----------+"
      ]
     },
     "execution_count": 51,
     "metadata": {},
     "output_type": "execute_result"
    }
   ],
   "source": [
    "compute_results(res)"
   ]
  },
  {
   "cell_type": "markdown",
   "id": "2f6a8e29-b52f-4592-8fae-9e2aa05b487d",
   "metadata": {},
   "source": [
    "##### Version 2"
   ]
  },
  {
   "cell_type": "code",
   "execution_count": null,
   "id": "2e84c716-94b8-47f9-b000-e2bb595930c5",
   "metadata": {
    "scrolled": true
   },
   "outputs": [],
   "source": [
    "# version 2\n",
    "MODALITY = Modality.BOTH\n",
    "res = model_evaluation_PCA(\"dino_vits8_3_3\", \"v2\")"
   ]
  },
  {
   "cell_type": "code",
   "execution_count": 53,
   "id": "277931a1-12e5-4fb4-9c88-2eff8986812d",
   "metadata": {},
   "outputs": [
    {
     "data": {
      "text/html": [
       "<table>\n",
       "    <thead>\n",
       "        <tr>\n",
       "            <th>Fold</th>\n",
       "            <th>Test C-index</th>\n",
       "            <th>Val C-index</th>\n",
       "            <th>Test loss</th>\n",
       "        </tr>\n",
       "    </thead>\n",
       "    <tbody>\n",
       "        <tr>\n",
       "            <td>Fold 1</td>\n",
       "            <td>0.586</td>\n",
       "            <td>0.732</td>\n",
       "            <td>2.534</td>\n",
       "        </tr>\n",
       "        <tr>\n",
       "            <td>Fold 2</td>\n",
       "            <td>0.427</td>\n",
       "            <td>0.379</td>\n",
       "            <td>2.535</td>\n",
       "        </tr>\n",
       "        <tr>\n",
       "            <td>Fold 3</td>\n",
       "            <td>0.577</td>\n",
       "            <td>0.658</td>\n",
       "            <td>2.535</td>\n",
       "        </tr>\n",
       "        <tr>\n",
       "            <td>Fold 4</td>\n",
       "            <td>0.564</td>\n",
       "            <td>0.585</td>\n",
       "            <td>2.53</td>\n",
       "        </tr>\n",
       "        <tr>\n",
       "            <td>Fold 5</td>\n",
       "            <td>0.577</td>\n",
       "            <td>0.656</td>\n",
       "            <td>2.517</td>\n",
       "        </tr>\n",
       "    </tbody>\n",
       "</table>"
      ],
      "text/plain": [
       "+--------+--------------+-------------+-----------+\n",
       "| Fold   | Test C-index | Val C-index | Test loss |\n",
       "+--------+--------------+-------------+-----------+\n",
       "| Fold 1 | 0.586        | 0.732       | 2.534     |\n",
       "| Fold 2 | 0.427        | 0.379       | 2.535     |\n",
       "| Fold 3 | 0.577        | 0.658       | 2.535     |\n",
       "| Fold 4 | 0.564        | 0.585       | 2.53      |\n",
       "| Fold 5 | 0.577        | 0.656       | 2.517     |\n",
       "+--------+--------------+-------------+-----------+"
      ]
     },
     "execution_count": 53,
     "metadata": {},
     "output_type": "execute_result"
    }
   ],
   "source": [
    "compute_results(res)"
   ]
  },
  {
   "cell_type": "markdown",
   "id": "37327ca0-14b6-4963-93fb-7e722ed4f6a2",
   "metadata": {
    "jp-MarkdownHeadingCollapsed": true
   },
   "source": [
    "### DINO_ViTs8 - CT merged with PET"
   ]
  },
  {
   "cell_type": "markdown",
   "id": "d37516a0-a0d0-46cb-bcd8-9af411c44d5e",
   "metadata": {},
   "source": [
    "##### Version 0"
   ]
  },
  {
   "cell_type": "code",
   "execution_count": null,
   "id": "0e6b4f08-96a8-4c17-990c-e6e8b69bb6a2",
   "metadata": {
    "scrolled": true
   },
   "outputs": [],
   "source": [
    "# version 0\n",
    "MODALITY = Modality.MERGED\n",
    "res = model_evaluation_PCA(\"dino_vits8_2_2\")"
   ]
  },
  {
   "cell_type": "code",
   "execution_count": 37,
   "id": "79541e23-e4ee-4402-aacf-098b671c1aff",
   "metadata": {},
   "outputs": [
    {
     "data": {
      "text/html": [
       "<table>\n",
       "    <thead>\n",
       "        <tr>\n",
       "            <th>Fold</th>\n",
       "            <th>Test C-index</th>\n",
       "            <th>Val C-index</th>\n",
       "            <th>Test loss</th>\n",
       "        </tr>\n",
       "    </thead>\n",
       "    <tbody>\n",
       "        <tr>\n",
       "            <td>Fold 1</td>\n",
       "            <td>0.557</td>\n",
       "            <td>0.668</td>\n",
       "            <td>2.534</td>\n",
       "        </tr>\n",
       "        <tr>\n",
       "            <td>Fold 2</td>\n",
       "            <td>0.561</td>\n",
       "            <td>0.589</td>\n",
       "            <td>2.535</td>\n",
       "        </tr>\n",
       "        <tr>\n",
       "            <td>Fold 3</td>\n",
       "            <td>0.557</td>\n",
       "            <td>0.664</td>\n",
       "            <td>2.54</td>\n",
       "        </tr>\n",
       "        <tr>\n",
       "            <td>Fold 4</td>\n",
       "            <td>0.559</td>\n",
       "            <td>0.641</td>\n",
       "            <td>2.537</td>\n",
       "        </tr>\n",
       "        <tr>\n",
       "            <td>Fold 5</td>\n",
       "            <td>0.558</td>\n",
       "            <td>0.679</td>\n",
       "            <td>2.54</td>\n",
       "        </tr>\n",
       "        <tr>\n",
       "            <td>All train set</td>\n",
       "            <td>0.506</td>\n",
       "            <td>NA</td>\n",
       "            <td>2.537</td>\n",
       "        </tr>\n",
       "    </tbody>\n",
       "</table>"
      ],
      "text/plain": [
       "+---------------+--------------+-------------+-----------+\n",
       "| Fold          | Test C-index | Val C-index | Test loss |\n",
       "+---------------+--------------+-------------+-----------+\n",
       "| Fold 1        | 0.557        | 0.668       | 2.534     |\n",
       "| Fold 2        | 0.561        | 0.589       | 2.535     |\n",
       "| Fold 3        | 0.557        | 0.664       | 2.54      |\n",
       "| Fold 4        | 0.559        | 0.641       | 2.537     |\n",
       "| Fold 5        | 0.558        | 0.679       | 2.54      |\n",
       "| All train set | 0.506        | NA          | 2.537     |\n",
       "+---------------+--------------+-------------+-----------+"
      ]
     },
     "execution_count": 37,
     "metadata": {},
     "output_type": "execute_result"
    }
   ],
   "source": [
    "compute_results(res)"
   ]
  },
  {
   "cell_type": "markdown",
   "id": "6e980ad5-d4d9-4d78-b81a-13da4e8e584b",
   "metadata": {},
   "source": [
    "##### Version 1"
   ]
  },
  {
   "cell_type": "code",
   "execution_count": null,
   "id": "515ee094-b296-4017-b455-22d93d845a70",
   "metadata": {
    "scrolled": true
   },
   "outputs": [],
   "source": [
    "# version 1\n",
    "MODALITY = Modality.MERGED\n",
    "res = model_evaluation_PCA(\"dino_vits8_2_2\", \"v1\")"
   ]
  },
  {
   "cell_type": "code",
   "execution_count": 39,
   "id": "c4319180-8dca-414b-bfde-2d1ebfda62b5",
   "metadata": {},
   "outputs": [
    {
     "data": {
      "text/html": [
       "<table>\n",
       "    <thead>\n",
       "        <tr>\n",
       "            <th>Fold</th>\n",
       "            <th>Test C-index</th>\n",
       "            <th>Val C-index</th>\n",
       "            <th>Test loss</th>\n",
       "        </tr>\n",
       "    </thead>\n",
       "    <tbody>\n",
       "        <tr>\n",
       "            <td>Fold 1</td>\n",
       "            <td>0.556</td>\n",
       "            <td>0.668</td>\n",
       "            <td>2.534</td>\n",
       "        </tr>\n",
       "        <tr>\n",
       "            <td>Fold 2</td>\n",
       "            <td>0.563</td>\n",
       "            <td>0.589</td>\n",
       "            <td>2.531</td>\n",
       "        </tr>\n",
       "        <tr>\n",
       "            <td>Fold 3</td>\n",
       "            <td>0.558</td>\n",
       "            <td>0.664</td>\n",
       "            <td>2.54</td>\n",
       "        </tr>\n",
       "        <tr>\n",
       "            <td>Fold 4</td>\n",
       "            <td>0.571</td>\n",
       "            <td>0.623</td>\n",
       "            <td>2.536</td>\n",
       "        </tr>\n",
       "        <tr>\n",
       "            <td>Fold 5</td>\n",
       "            <td>0.558</td>\n",
       "            <td>0.68</td>\n",
       "            <td>2.538</td>\n",
       "        </tr>\n",
       "    </tbody>\n",
       "</table>"
      ],
      "text/plain": [
       "+--------+--------------+-------------+-----------+\n",
       "| Fold   | Test C-index | Val C-index | Test loss |\n",
       "+--------+--------------+-------------+-----------+\n",
       "| Fold 1 | 0.556        | 0.668       | 2.534     |\n",
       "| Fold 2 | 0.563        | 0.589       | 2.531     |\n",
       "| Fold 3 | 0.558        | 0.664       | 2.54      |\n",
       "| Fold 4 | 0.571        | 0.623       | 2.536     |\n",
       "| Fold 5 | 0.558        | 0.68        | 2.538     |\n",
       "+--------+--------------+-------------+-----------+"
      ]
     },
     "execution_count": 39,
     "metadata": {},
     "output_type": "execute_result"
    }
   ],
   "source": [
    "compute_results(res)"
   ]
  },
  {
   "cell_type": "markdown",
   "id": "0db03490-dc16-4185-a505-b14d5fd38799",
   "metadata": {},
   "source": [
    "##### Version 2"
   ]
  },
  {
   "cell_type": "code",
   "execution_count": null,
   "id": "209ba7da-2ff5-468d-844d-6657e8c347e0",
   "metadata": {
    "scrolled": true
   },
   "outputs": [],
   "source": [
    "# version 2\n",
    "MODALITY = Modality.MERGED\n",
    "res = model_evaluation_PCA(\"dino_vits8_2_2\", \"v2\")"
   ]
  },
  {
   "cell_type": "code",
   "execution_count": 41,
   "id": "8f68016f-84f4-4fa2-b967-f2b711c30033",
   "metadata": {},
   "outputs": [
    {
     "data": {
      "text/html": [
       "<table>\n",
       "    <thead>\n",
       "        <tr>\n",
       "            <th>Fold</th>\n",
       "            <th>Test C-index</th>\n",
       "            <th>Val C-index</th>\n",
       "            <th>Test loss</th>\n",
       "        </tr>\n",
       "    </thead>\n",
       "    <tbody>\n",
       "        <tr>\n",
       "            <td>Fold 1</td>\n",
       "            <td>0.556</td>\n",
       "            <td>0.665</td>\n",
       "            <td>2.534</td>\n",
       "        </tr>\n",
       "        <tr>\n",
       "            <td>Fold 2</td>\n",
       "            <td>0.563</td>\n",
       "            <td>0.589</td>\n",
       "            <td>2.53</td>\n",
       "        </tr>\n",
       "        <tr>\n",
       "            <td>Fold 3</td>\n",
       "            <td>0.557</td>\n",
       "            <td>0.664</td>\n",
       "            <td>2.539</td>\n",
       "        </tr>\n",
       "        <tr>\n",
       "            <td>Fold 4</td>\n",
       "            <td>0.572</td>\n",
       "            <td>0.619</td>\n",
       "            <td>2.536</td>\n",
       "        </tr>\n",
       "        <tr>\n",
       "            <td>Fold 5</td>\n",
       "            <td>0.558</td>\n",
       "            <td>0.68</td>\n",
       "            <td>2.539</td>\n",
       "        </tr>\n",
       "    </tbody>\n",
       "</table>"
      ],
      "text/plain": [
       "+--------+--------------+-------------+-----------+\n",
       "| Fold   | Test C-index | Val C-index | Test loss |\n",
       "+--------+--------------+-------------+-----------+\n",
       "| Fold 1 | 0.556        | 0.665       | 2.534     |\n",
       "| Fold 2 | 0.563        | 0.589       | 2.53      |\n",
       "| Fold 3 | 0.557        | 0.664       | 2.539     |\n",
       "| Fold 4 | 0.572        | 0.619       | 2.536     |\n",
       "| Fold 5 | 0.558        | 0.68        | 2.539     |\n",
       "+--------+--------------+-------------+-----------+"
      ]
     },
     "execution_count": 41,
     "metadata": {},
     "output_type": "execute_result"
    }
   ],
   "source": [
    "compute_results(res)"
   ]
  },
  {
   "cell_type": "markdown",
   "id": "4e47c844-2d14-468b-81d2-70489c09dff1",
   "metadata": {
    "jp-MarkdownHeadingCollapsed": true
   },
   "source": [
    "### DINO_ViTb8 - only CT"
   ]
  },
  {
   "cell_type": "markdown",
   "id": "e033d7ca-59dc-4249-b1e8-b58fc60162fb",
   "metadata": {},
   "source": [
    "##### Version 0"
   ]
  },
  {
   "cell_type": "code",
   "execution_count": null,
   "id": "e9553a7a-4791-493f-b7ad-447037745859",
   "metadata": {
    "scrolled": true
   },
   "outputs": [],
   "source": [
    "# version 0\n",
    "MODALITY = Modality.CT\n",
    "res = model_evaluation_PCA(\"dino_vitb8_4_4\")"
   ]
  },
  {
   "cell_type": "code",
   "execution_count": 22,
   "id": "62e40eda-d916-440c-ae8d-e8a843519811",
   "metadata": {},
   "outputs": [
    {
     "data": {
      "text/html": [
       "<table>\n",
       "    <thead>\n",
       "        <tr>\n",
       "            <th>Fold</th>\n",
       "            <th>Test C-index</th>\n",
       "            <th>Val C-index</th>\n",
       "            <th>Test loss</th>\n",
       "        </tr>\n",
       "    </thead>\n",
       "    <tbody>\n",
       "        <tr>\n",
       "            <td>Fold 1</td>\n",
       "            <td>0.503</td>\n",
       "            <td>0.539</td>\n",
       "            <td>2.596</td>\n",
       "        </tr>\n",
       "        <tr>\n",
       "            <td>Fold 2</td>\n",
       "            <td>0.515</td>\n",
       "            <td>0.454</td>\n",
       "            <td>2.653</td>\n",
       "        </tr>\n",
       "        <tr>\n",
       "            <td>Fold 3</td>\n",
       "            <td>0.555</td>\n",
       "            <td>0.426</td>\n",
       "            <td>2.537</td>\n",
       "        </tr>\n",
       "        <tr>\n",
       "            <td>Fold 4</td>\n",
       "            <td>0.467</td>\n",
       "            <td>0.46</td>\n",
       "            <td>2.538</td>\n",
       "        </tr>\n",
       "        <tr>\n",
       "            <td>Fold 5</td>\n",
       "            <td>0.567</td>\n",
       "            <td>0.521</td>\n",
       "            <td>2.534</td>\n",
       "        </tr>\n",
       "        <tr>\n",
       "            <td>All train set</td>\n",
       "            <td>0.563</td>\n",
       "            <td>NA</td>\n",
       "            <td>2.535</td>\n",
       "        </tr>\n",
       "    </tbody>\n",
       "</table>"
      ],
      "text/plain": [
       "+---------------+--------------+-------------+-----------+\n",
       "| Fold          | Test C-index | Val C-index | Test loss |\n",
       "+---------------+--------------+-------------+-----------+\n",
       "| Fold 1        | 0.503        | 0.539       | 2.596     |\n",
       "| Fold 2        | 0.515        | 0.454       | 2.653     |\n",
       "| Fold 3        | 0.555        | 0.426       | 2.537     |\n",
       "| Fold 4        | 0.467        | 0.46        | 2.538     |\n",
       "| Fold 5        | 0.567        | 0.521       | 2.534     |\n",
       "| All train set | 0.563        | NA          | 2.535     |\n",
       "+---------------+--------------+-------------+-----------+"
      ]
     },
     "execution_count": 22,
     "metadata": {},
     "output_type": "execute_result"
    }
   ],
   "source": [
    "compute_results(res)"
   ]
  },
  {
   "cell_type": "markdown",
   "id": "1f5cae5d-d07a-4d51-81eb-22383bdc7f97",
   "metadata": {},
   "source": [
    "##### Version 1"
   ]
  },
  {
   "cell_type": "code",
   "execution_count": null,
   "id": "42dfeb9e-6f59-49c9-83c8-aa7bd3699b8e",
   "metadata": {
    "scrolled": true
   },
   "outputs": [],
   "source": [
    "MODALITY = Modality.CT\n",
    "res = model_evaluation_PCA(\"dino_vitb8_4_4\", \"v1\")"
   ]
  },
  {
   "cell_type": "code",
   "execution_count": 24,
   "id": "042d3de0-5247-42e4-b8ad-9fd49a8631f4",
   "metadata": {},
   "outputs": [
    {
     "data": {
      "text/html": [
       "<table>\n",
       "    <thead>\n",
       "        <tr>\n",
       "            <th>Fold</th>\n",
       "            <th>Test C-index</th>\n",
       "            <th>Val C-index</th>\n",
       "            <th>Test loss</th>\n",
       "        </tr>\n",
       "    </thead>\n",
       "    <tbody>\n",
       "        <tr>\n",
       "            <td>Fold 1</td>\n",
       "            <td>0.502</td>\n",
       "            <td>0.544</td>\n",
       "            <td>2.597</td>\n",
       "        </tr>\n",
       "        <tr>\n",
       "            <td>Fold 2</td>\n",
       "            <td>0.516</td>\n",
       "            <td>0.454</td>\n",
       "            <td>2.652</td>\n",
       "        </tr>\n",
       "        <tr>\n",
       "            <td>Fold 3</td>\n",
       "            <td>0.507</td>\n",
       "            <td>0.486</td>\n",
       "            <td>2.538</td>\n",
       "        </tr>\n",
       "        <tr>\n",
       "            <td>Fold 4</td>\n",
       "            <td>0.446</td>\n",
       "            <td>0.458</td>\n",
       "            <td>2.539</td>\n",
       "        </tr>\n",
       "        <tr>\n",
       "            <td>Fold 5</td>\n",
       "            <td>0.567</td>\n",
       "            <td>0.523</td>\n",
       "            <td>2.534</td>\n",
       "        </tr>\n",
       "    </tbody>\n",
       "</table>"
      ],
      "text/plain": [
       "+--------+--------------+-------------+-----------+\n",
       "| Fold   | Test C-index | Val C-index | Test loss |\n",
       "+--------+--------------+-------------+-----------+\n",
       "| Fold 1 | 0.502        | 0.544       | 2.597     |\n",
       "| Fold 2 | 0.516        | 0.454       | 2.652     |\n",
       "| Fold 3 | 0.507        | 0.486       | 2.538     |\n",
       "| Fold 4 | 0.446        | 0.458       | 2.539     |\n",
       "| Fold 5 | 0.567        | 0.523       | 2.534     |\n",
       "+--------+--------------+-------------+-----------+"
      ]
     },
     "execution_count": 24,
     "metadata": {},
     "output_type": "execute_result"
    }
   ],
   "source": [
    "compute_results(res)"
   ]
  },
  {
   "cell_type": "markdown",
   "id": "654b3f51-b299-4a1a-8ba0-6cb5cacb5733",
   "metadata": {},
   "source": [
    "##### Version 2"
   ]
  },
  {
   "cell_type": "code",
   "execution_count": null,
   "id": "9530e438-d5ef-4f35-a2df-9969e9def683",
   "metadata": {
    "scrolled": true
   },
   "outputs": [],
   "source": [
    "# version 2\n",
    "MODALITY = Modality.CT\n",
    "res = model_evaluation_PCA(\"dino_vitb8_4_4\", \"v2\")"
   ]
  },
  {
   "cell_type": "code",
   "execution_count": 26,
   "id": "fead28ae-2777-417e-ab7f-31b34c60fb2e",
   "metadata": {},
   "outputs": [
    {
     "data": {
      "text/html": [
       "<table>\n",
       "    <thead>\n",
       "        <tr>\n",
       "            <th>Fold</th>\n",
       "            <th>Test C-index</th>\n",
       "            <th>Val C-index</th>\n",
       "            <th>Test loss</th>\n",
       "        </tr>\n",
       "    </thead>\n",
       "    <tbody>\n",
       "        <tr>\n",
       "            <td>Fold 1</td>\n",
       "            <td>0.512</td>\n",
       "            <td>0.534</td>\n",
       "            <td>2.596</td>\n",
       "        </tr>\n",
       "        <tr>\n",
       "            <td>Fold 2</td>\n",
       "            <td>0.515</td>\n",
       "            <td>0.463</td>\n",
       "            <td>2.633</td>\n",
       "        </tr>\n",
       "        <tr>\n",
       "            <td>Fold 3</td>\n",
       "            <td>0.551</td>\n",
       "            <td>0.438</td>\n",
       "            <td>2.537</td>\n",
       "        </tr>\n",
       "        <tr>\n",
       "            <td>Fold 4</td>\n",
       "            <td>0.467</td>\n",
       "            <td>0.464</td>\n",
       "            <td>2.538</td>\n",
       "        </tr>\n",
       "        <tr>\n",
       "            <td>Fold 5</td>\n",
       "            <td>0.569</td>\n",
       "            <td>0.516</td>\n",
       "            <td>2.535</td>\n",
       "        </tr>\n",
       "    </tbody>\n",
       "</table>"
      ],
      "text/plain": [
       "+--------+--------------+-------------+-----------+\n",
       "| Fold   | Test C-index | Val C-index | Test loss |\n",
       "+--------+--------------+-------------+-----------+\n",
       "| Fold 1 | 0.512        | 0.534       | 2.596     |\n",
       "| Fold 2 | 0.515        | 0.463       | 2.633     |\n",
       "| Fold 3 | 0.551        | 0.438       | 2.537     |\n",
       "| Fold 4 | 0.467        | 0.464       | 2.538     |\n",
       "| Fold 5 | 0.569        | 0.516       | 2.535     |\n",
       "+--------+--------------+-------------+-----------+"
      ]
     },
     "execution_count": 26,
     "metadata": {},
     "output_type": "execute_result"
    }
   ],
   "source": [
    "compute_results(res)"
   ]
  },
  {
   "cell_type": "markdown",
   "id": "8c55b217-c9ef-47bb-aca2-59fae90e6218",
   "metadata": {
    "jp-MarkdownHeadingCollapsed": true
   },
   "source": [
    "### DINO_ViTb8 - Both CT and PET"
   ]
  },
  {
   "cell_type": "markdown",
   "id": "fc84854d-f3f5-407d-a89e-188e5c428d70",
   "metadata": {},
   "source": [
    "##### Version 0"
   ]
  },
  {
   "cell_type": "code",
   "execution_count": null,
   "id": "bbfff949-5d4b-4209-82c9-0acc3607ce5c",
   "metadata": {
    "scrolled": true
   },
   "outputs": [],
   "source": [
    "MODALITY = Modality.BOTH\n",
    "res = model_evaluation_PCA(\"dino_vitb8_6_6\")"
   ]
  },
  {
   "cell_type": "code",
   "execution_count": 28,
   "id": "fd43a15b-a230-472a-95dc-49fd6a0d5f8e",
   "metadata": {},
   "outputs": [
    {
     "data": {
      "text/html": [
       "<table>\n",
       "    <thead>\n",
       "        <tr>\n",
       "            <th>Fold</th>\n",
       "            <th>Test C-index</th>\n",
       "            <th>Val C-index</th>\n",
       "            <th>Test loss</th>\n",
       "        </tr>\n",
       "    </thead>\n",
       "    <tbody>\n",
       "        <tr>\n",
       "            <td>Fold 1</td>\n",
       "            <td>0.588</td>\n",
       "            <td>0.66</td>\n",
       "            <td>2.523</td>\n",
       "        </tr>\n",
       "        <tr>\n",
       "            <td>Fold 2</td>\n",
       "            <td>0.574</td>\n",
       "            <td>0.59</td>\n",
       "            <td>2.682</td>\n",
       "        </tr>\n",
       "        <tr>\n",
       "            <td>Fold 3</td>\n",
       "            <td>0.572</td>\n",
       "            <td>0.644</td>\n",
       "            <td>2.529</td>\n",
       "        </tr>\n",
       "        <tr>\n",
       "            <td>Fold 4</td>\n",
       "            <td>0.462</td>\n",
       "            <td>0.586</td>\n",
       "            <td>2.539</td>\n",
       "        </tr>\n",
       "        <tr>\n",
       "            <td>Fold 5</td>\n",
       "            <td>0.578</td>\n",
       "            <td>0.672</td>\n",
       "            <td>2.519</td>\n",
       "        </tr>\n",
       "        <tr>\n",
       "            <td>All train set</td>\n",
       "            <td>0.558</td>\n",
       "            <td>NA</td>\n",
       "            <td>2.556</td>\n",
       "        </tr>\n",
       "    </tbody>\n",
       "</table>"
      ],
      "text/plain": [
       "+---------------+--------------+-------------+-----------+\n",
       "| Fold          | Test C-index | Val C-index | Test loss |\n",
       "+---------------+--------------+-------------+-----------+\n",
       "| Fold 1        | 0.588        | 0.66        | 2.523     |\n",
       "| Fold 2        | 0.574        | 0.59        | 2.682     |\n",
       "| Fold 3        | 0.572        | 0.644       | 2.529     |\n",
       "| Fold 4        | 0.462        | 0.586       | 2.539     |\n",
       "| Fold 5        | 0.578        | 0.672       | 2.519     |\n",
       "| All train set | 0.558        | NA          | 2.556     |\n",
       "+---------------+--------------+-------------+-----------+"
      ]
     },
     "execution_count": 28,
     "metadata": {},
     "output_type": "execute_result"
    }
   ],
   "source": [
    "compute_results(res)"
   ]
  },
  {
   "cell_type": "markdown",
   "id": "3bea271a-83c6-4427-b759-66d4b30df266",
   "metadata": {},
   "source": [
    "##### Version 1"
   ]
  },
  {
   "cell_type": "code",
   "execution_count": null,
   "id": "3030b579-45cd-4756-9a53-48b890dd5d8e",
   "metadata": {
    "scrolled": true
   },
   "outputs": [],
   "source": [
    "MODALITY = Modality.BOTH\n",
    "res = model_evaluation_PCA(\"dino_vitb8_6_6\", \"v1\")"
   ]
  },
  {
   "cell_type": "code",
   "execution_count": 30,
   "id": "3917d379-74e9-44cb-92c5-d23356bddf7f",
   "metadata": {},
   "outputs": [
    {
     "data": {
      "text/html": [
       "<table>\n",
       "    <thead>\n",
       "        <tr>\n",
       "            <th>Fold</th>\n",
       "            <th>Test C-index</th>\n",
       "            <th>Val C-index</th>\n",
       "            <th>Test loss</th>\n",
       "        </tr>\n",
       "    </thead>\n",
       "    <tbody>\n",
       "        <tr>\n",
       "            <td>Fold 1</td>\n",
       "            <td>0.588</td>\n",
       "            <td>0.66</td>\n",
       "            <td>2.523</td>\n",
       "        </tr>\n",
       "        <tr>\n",
       "            <td>Fold 2</td>\n",
       "            <td>0.569</td>\n",
       "            <td>0.59</td>\n",
       "            <td>2.754</td>\n",
       "        </tr>\n",
       "        <tr>\n",
       "            <td>Fold 3</td>\n",
       "            <td>0.572</td>\n",
       "            <td>0.645</td>\n",
       "            <td>2.529</td>\n",
       "        </tr>\n",
       "        <tr>\n",
       "            <td>Fold 4</td>\n",
       "            <td>0.559</td>\n",
       "            <td>0.579</td>\n",
       "            <td>2.536</td>\n",
       "        </tr>\n",
       "        <tr>\n",
       "            <td>Fold 5</td>\n",
       "            <td>0.578</td>\n",
       "            <td>0.672</td>\n",
       "            <td>2.519</td>\n",
       "        </tr>\n",
       "    </tbody>\n",
       "</table>"
      ],
      "text/plain": [
       "+--------+--------------+-------------+-----------+\n",
       "| Fold   | Test C-index | Val C-index | Test loss |\n",
       "+--------+--------------+-------------+-----------+\n",
       "| Fold 1 | 0.588        | 0.66        | 2.523     |\n",
       "| Fold 2 | 0.569        | 0.59        | 2.754     |\n",
       "| Fold 3 | 0.572        | 0.645       | 2.529     |\n",
       "| Fold 4 | 0.559        | 0.579       | 2.536     |\n",
       "| Fold 5 | 0.578        | 0.672       | 2.519     |\n",
       "+--------+--------------+-------------+-----------+"
      ]
     },
     "execution_count": 30,
     "metadata": {},
     "output_type": "execute_result"
    }
   ],
   "source": [
    "compute_results(res)"
   ]
  },
  {
   "cell_type": "markdown",
   "id": "508c4ffe-afd2-4fba-a387-1122d96b64ab",
   "metadata": {},
   "source": [
    "##### Version 2"
   ]
  },
  {
   "cell_type": "code",
   "execution_count": null,
   "id": "3a6a58e7-e109-4ffb-a533-8aae4baef9a9",
   "metadata": {
    "scrolled": true
   },
   "outputs": [],
   "source": [
    "MODALITY = Modality.BOTH\n",
    "res = model_evaluation_PCA(\"dino_vitb8_6_6\", \"v2\")"
   ]
  },
  {
   "cell_type": "code",
   "execution_count": 32,
   "id": "7f0355c7-98a7-44da-a846-8cea166dec84",
   "metadata": {},
   "outputs": [
    {
     "data": {
      "text/html": [
       "<table>\n",
       "    <thead>\n",
       "        <tr>\n",
       "            <th>Fold</th>\n",
       "            <th>Test C-index</th>\n",
       "            <th>Val C-index</th>\n",
       "            <th>Test loss</th>\n",
       "        </tr>\n",
       "    </thead>\n",
       "    <tbody>\n",
       "        <tr>\n",
       "            <td>Fold 1</td>\n",
       "            <td>0.588</td>\n",
       "            <td>0.66</td>\n",
       "            <td>2.523</td>\n",
       "        </tr>\n",
       "        <tr>\n",
       "            <td>Fold 2</td>\n",
       "            <td>0.575</td>\n",
       "            <td>0.594</td>\n",
       "            <td>2.68</td>\n",
       "        </tr>\n",
       "        <tr>\n",
       "            <td>Fold 3</td>\n",
       "            <td>0.572</td>\n",
       "            <td>0.646</td>\n",
       "            <td>2.529</td>\n",
       "        </tr>\n",
       "        <tr>\n",
       "            <td>Fold 4</td>\n",
       "            <td>0.559</td>\n",
       "            <td>0.579</td>\n",
       "            <td>2.537</td>\n",
       "        </tr>\n",
       "        <tr>\n",
       "            <td>Fold 5</td>\n",
       "            <td>0.579</td>\n",
       "            <td>0.673</td>\n",
       "            <td>2.519</td>\n",
       "        </tr>\n",
       "    </tbody>\n",
       "</table>"
      ],
      "text/plain": [
       "+--------+--------------+-------------+-----------+\n",
       "| Fold   | Test C-index | Val C-index | Test loss |\n",
       "+--------+--------------+-------------+-----------+\n",
       "| Fold 1 | 0.588        | 0.66        | 2.523     |\n",
       "| Fold 2 | 0.575        | 0.594       | 2.68      |\n",
       "| Fold 3 | 0.572        | 0.646       | 2.529     |\n",
       "| Fold 4 | 0.559        | 0.579       | 2.537     |\n",
       "| Fold 5 | 0.579        | 0.673       | 2.519     |\n",
       "+--------+--------------+-------------+-----------+"
      ]
     },
     "execution_count": 32,
     "metadata": {},
     "output_type": "execute_result"
    }
   ],
   "source": [
    "compute_results(res)"
   ]
  },
  {
   "cell_type": "markdown",
   "id": "a205dded-26d1-461f-8e61-9ad4289cc81a",
   "metadata": {
    "jp-MarkdownHeadingCollapsed": true
   },
   "source": [
    "### DINO_ViTb8 - CT merged with PET"
   ]
  },
  {
   "cell_type": "markdown",
   "id": "7f67d19d-32d0-4414-8382-03ed27b93c97",
   "metadata": {
    "jp-MarkdownHeadingCollapsed": true
   },
   "source": [
    "##### Version 0"
   ]
  },
  {
   "cell_type": "code",
   "execution_count": null,
   "id": "9e76ebab-f39d-4a07-86f9-1d8448f00750",
   "metadata": {
    "scrolled": true
   },
   "outputs": [],
   "source": [
    "MODALITY = Modality.MERGED\n",
    "res = model_evaluation_PCA(\"dino_vitb8_5_5\")"
   ]
  },
  {
   "cell_type": "code",
   "execution_count": 34,
   "id": "6696b2d6-d3e3-441c-9c2f-c3ead68c2e06",
   "metadata": {},
   "outputs": [
    {
     "data": {
      "text/html": [
       "<table>\n",
       "    <thead>\n",
       "        <tr>\n",
       "            <th>Fold</th>\n",
       "            <th>Test C-index</th>\n",
       "            <th>Val C-index</th>\n",
       "            <th>Test loss</th>\n",
       "        </tr>\n",
       "    </thead>\n",
       "    <tbody>\n",
       "        <tr>\n",
       "            <td>Fold 1</td>\n",
       "            <td>0.563</td>\n",
       "            <td>0.664</td>\n",
       "            <td>2.535</td>\n",
       "        </tr>\n",
       "        <tr>\n",
       "            <td>Fold 2</td>\n",
       "            <td>0.527</td>\n",
       "            <td>0.541</td>\n",
       "            <td>2.536</td>\n",
       "        </tr>\n",
       "        <tr>\n",
       "            <td>Fold 3</td>\n",
       "            <td>0.556</td>\n",
       "            <td>0.662</td>\n",
       "            <td>2.538</td>\n",
       "        </tr>\n",
       "        <tr>\n",
       "            <td>Fold 4</td>\n",
       "            <td>0.561</td>\n",
       "            <td>0.618</td>\n",
       "            <td>2.532</td>\n",
       "        </tr>\n",
       "        <tr>\n",
       "            <td>Fold 5</td>\n",
       "            <td>0.56</td>\n",
       "            <td>0.634</td>\n",
       "            <td>2.549</td>\n",
       "        </tr>\n",
       "        <tr>\n",
       "            <td>All train set</td>\n",
       "            <td>0.559</td>\n",
       "            <td>NA</td>\n",
       "            <td>2.545</td>\n",
       "        </tr>\n",
       "    </tbody>\n",
       "</table>"
      ],
      "text/plain": [
       "+---------------+--------------+-------------+-----------+\n",
       "| Fold          | Test C-index | Val C-index | Test loss |\n",
       "+---------------+--------------+-------------+-----------+\n",
       "| Fold 1        | 0.563        | 0.664       | 2.535     |\n",
       "| Fold 2        | 0.527        | 0.541       | 2.536     |\n",
       "| Fold 3        | 0.556        | 0.662       | 2.538     |\n",
       "| Fold 4        | 0.561        | 0.618       | 2.532     |\n",
       "| Fold 5        | 0.56         | 0.634       | 2.549     |\n",
       "| All train set | 0.559        | NA          | 2.545     |\n",
       "+---------------+--------------+-------------+-----------+"
      ]
     },
     "execution_count": 34,
     "metadata": {},
     "output_type": "execute_result"
    }
   ],
   "source": [
    "compute_results(res)"
   ]
  },
  {
   "cell_type": "markdown",
   "id": "b0e6531b-4e7d-49b3-bd2f-e8e268f5cfae",
   "metadata": {},
   "source": [
    "##### Version 1"
   ]
  },
  {
   "cell_type": "code",
   "execution_count": null,
   "id": "7b297f88-83e2-4903-90eb-d0e90d34568c",
   "metadata": {
    "scrolled": true
   },
   "outputs": [],
   "source": [
    "MODALITY = Modality.MERGED\n",
    "res = model_evaluation_PCA(\"dino_vitb8_5_5\", \"v1\")"
   ]
  },
  {
   "cell_type": "code",
   "execution_count": 36,
   "id": "3dd47124-eff6-4eeb-a5cd-a7b888cabb0c",
   "metadata": {},
   "outputs": [
    {
     "data": {
      "text/html": [
       "<table>\n",
       "    <thead>\n",
       "        <tr>\n",
       "            <th>Fold</th>\n",
       "            <th>Test C-index</th>\n",
       "            <th>Val C-index</th>\n",
       "            <th>Test loss</th>\n",
       "        </tr>\n",
       "    </thead>\n",
       "    <tbody>\n",
       "        <tr>\n",
       "            <td>Fold 1</td>\n",
       "            <td>0.563</td>\n",
       "            <td>0.662</td>\n",
       "            <td>2.535</td>\n",
       "        </tr>\n",
       "        <tr>\n",
       "            <td>Fold 2</td>\n",
       "            <td>0.528</td>\n",
       "            <td>0.54</td>\n",
       "            <td>2.536</td>\n",
       "        </tr>\n",
       "        <tr>\n",
       "            <td>Fold 3</td>\n",
       "            <td>0.554</td>\n",
       "            <td>0.66</td>\n",
       "            <td>2.54</td>\n",
       "        </tr>\n",
       "        <tr>\n",
       "            <td>Fold 4</td>\n",
       "            <td>0.561</td>\n",
       "            <td>0.618</td>\n",
       "            <td>2.532</td>\n",
       "        </tr>\n",
       "        <tr>\n",
       "            <td>Fold 5</td>\n",
       "            <td>0.56</td>\n",
       "            <td>0.634</td>\n",
       "            <td>2.55</td>\n",
       "        </tr>\n",
       "    </tbody>\n",
       "</table>"
      ],
      "text/plain": [
       "+--------+--------------+-------------+-----------+\n",
       "| Fold   | Test C-index | Val C-index | Test loss |\n",
       "+--------+--------------+-------------+-----------+\n",
       "| Fold 1 | 0.563        | 0.662       | 2.535     |\n",
       "| Fold 2 | 0.528        | 0.54        | 2.536     |\n",
       "| Fold 3 | 0.554        | 0.66        | 2.54      |\n",
       "| Fold 4 | 0.561        | 0.618       | 2.532     |\n",
       "| Fold 5 | 0.56         | 0.634       | 2.55      |\n",
       "+--------+--------------+-------------+-----------+"
      ]
     },
     "execution_count": 36,
     "metadata": {},
     "output_type": "execute_result"
    }
   ],
   "source": [
    "compute_results(res)"
   ]
  },
  {
   "cell_type": "markdown",
   "id": "21cce2f8-31e2-4b1a-a311-228cb94bfc76",
   "metadata": {},
   "source": [
    "##### Version 2"
   ]
  },
  {
   "cell_type": "code",
   "execution_count": null,
   "id": "66f744bf-1601-458e-a5ac-182caef793f5",
   "metadata": {
    "scrolled": true
   },
   "outputs": [],
   "source": [
    "MODALITY = Modality.MERGED\n",
    "res = model_evaluation_PCA(\"dino_vitb8_5_5\", \"v2\")"
   ]
  },
  {
   "cell_type": "code",
   "execution_count": 38,
   "id": "4f37281e-7882-49db-88fa-076ff3d32d4a",
   "metadata": {},
   "outputs": [
    {
     "data": {
      "text/html": [
       "<table>\n",
       "    <thead>\n",
       "        <tr>\n",
       "            <th>Fold</th>\n",
       "            <th>Test C-index</th>\n",
       "            <th>Val C-index</th>\n",
       "            <th>Test loss</th>\n",
       "        </tr>\n",
       "    </thead>\n",
       "    <tbody>\n",
       "        <tr>\n",
       "            <td>Fold 1</td>\n",
       "            <td>0.563</td>\n",
       "            <td>0.662</td>\n",
       "            <td>2.535</td>\n",
       "        </tr>\n",
       "        <tr>\n",
       "            <td>Fold 2</td>\n",
       "            <td>0.525</td>\n",
       "            <td>0.529</td>\n",
       "            <td>2.536</td>\n",
       "        </tr>\n",
       "        <tr>\n",
       "            <td>Fold 3</td>\n",
       "            <td>0.555</td>\n",
       "            <td>0.661</td>\n",
       "            <td>2.543</td>\n",
       "        </tr>\n",
       "        <tr>\n",
       "            <td>Fold 4</td>\n",
       "            <td>0.561</td>\n",
       "            <td>0.619</td>\n",
       "            <td>2.532</td>\n",
       "        </tr>\n",
       "        <tr>\n",
       "            <td>Fold 5</td>\n",
       "            <td>0.56</td>\n",
       "            <td>0.634</td>\n",
       "            <td>2.548</td>\n",
       "        </tr>\n",
       "    </tbody>\n",
       "</table>"
      ],
      "text/plain": [
       "+--------+--------------+-------------+-----------+\n",
       "| Fold   | Test C-index | Val C-index | Test loss |\n",
       "+--------+--------------+-------------+-----------+\n",
       "| Fold 1 | 0.563        | 0.662       | 2.535     |\n",
       "| Fold 2 | 0.525        | 0.529       | 2.536     |\n",
       "| Fold 3 | 0.555        | 0.661       | 2.543     |\n",
       "| Fold 4 | 0.561        | 0.619       | 2.532     |\n",
       "| Fold 5 | 0.56         | 0.634       | 2.548     |\n",
       "+--------+--------------+-------------+-----------+"
      ]
     },
     "execution_count": 38,
     "metadata": {},
     "output_type": "execute_result"
    }
   ],
   "source": [
    "compute_results(res)"
   ]
  },
  {
   "cell_type": "code",
   "execution_count": null,
   "id": "ccd8a53c-6110-4a0b-9f73-ad2559bf9f0c",
   "metadata": {},
   "outputs": [],
   "source": []
  }
 ],
 "metadata": {
  "kernelspec": {
   "display_name": "Python 3 (ipykernel)",
   "language": "python",
   "name": "python3"
  },
  "language_info": {
   "codemirror_mode": {
    "name": "ipython",
    "version": 3
   },
   "file_extension": ".py",
   "mimetype": "text/x-python",
   "name": "python",
   "nbconvert_exporter": "python",
   "pygments_lexer": "ipython3",
   "version": "3.10.9"
  }
 },
 "nbformat": 4,
 "nbformat_minor": 5
}
